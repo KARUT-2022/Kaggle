{
 "cells": [
  {
   "cell_type": "code",
   "execution_count": 1,
   "id": "87c08367",
   "metadata": {
    "_cell_guid": "b1076dfc-b9ad-4769-8c92-a6c4dae69d19",
    "_uuid": "8f2839f25d086af736a60e9eeb907d3b93b6e0e5",
    "execution": {
     "iopub.execute_input": "2022-07-02T13:35:59.623352Z",
     "iopub.status.busy": "2022-07-02T13:35:59.622638Z",
     "iopub.status.idle": "2022-07-02T13:35:59.635850Z",
     "shell.execute_reply": "2022-07-02T13:35:59.635028Z"
    },
    "papermill": {
     "duration": 0.023771,
     "end_time": "2022-07-02T13:35:59.638361",
     "exception": false,
     "start_time": "2022-07-02T13:35:59.614590",
     "status": "completed"
    },
    "tags": []
   },
   "outputs": [
    {
     "name": "stdout",
     "output_type": "stream",
     "text": [
      "/kaggle/input/home-credit-default-risk/sample_submission.csv\n",
      "/kaggle/input/home-credit-default-risk/bureau_balance.csv\n",
      "/kaggle/input/home-credit-default-risk/POS_CASH_balance.csv\n",
      "/kaggle/input/home-credit-default-risk/application_train.csv\n",
      "/kaggle/input/home-credit-default-risk/HomeCredit_columns_description.csv\n",
      "/kaggle/input/home-credit-default-risk/application_test.csv\n",
      "/kaggle/input/home-credit-default-risk/previous_application.csv\n",
      "/kaggle/input/home-credit-default-risk/credit_card_balance.csv\n",
      "/kaggle/input/home-credit-default-risk/installments_payments.csv\n",
      "/kaggle/input/home-credit-default-risk/bureau.csv\n"
     ]
    }
   ],
   "source": [
    "# This Python 3 environment comes with many helpful analytics libraries installed\n",
    "# It is defined by the kaggle/python Docker image: https://github.com/kaggle/docker-python\n",
    "# For example, here's several helpful packages to load\n",
    "\n",
    "import numpy as np # linear algebra\n",
    "import pandas as pd # data processing, CSV file I/O (e.g. pd.read_csv)\n",
    "\n",
    "# Input data files are available in the read-only \"../input/\" directory\n",
    "# For example, running this (by clicking run or pressing Shift+Enter) will list all files under the input directory\n",
    "\n",
    "import os\n",
    "for dirname, _, filenames in os.walk('/kaggle/input'):\n",
    "    for filename in filenames:\n",
    "        print(os.path.join(dirname, filename))\n",
    "\n",
    "# You can write up to 20GB to the current directory (/kaggle/working/) that gets preserved as output when you create a version using \"Save & Run All\" \n",
    "# You can also write temporary files to /kaggle/temp/, but they won't be saved outside of the current session"
   ]
  },
  {
   "cell_type": "code",
   "execution_count": 2,
   "id": "f4284e79",
   "metadata": {
    "execution": {
     "iopub.execute_input": "2022-07-02T13:35:59.651721Z",
     "iopub.status.busy": "2022-07-02T13:35:59.650997Z",
     "iopub.status.idle": "2022-07-02T13:36:06.064159Z",
     "shell.execute_reply": "2022-07-02T13:36:06.062907Z"
    },
    "papermill": {
     "duration": 6.422525,
     "end_time": "2022-07-02T13:36:06.066939",
     "exception": false,
     "start_time": "2022-07-02T13:35:59.644414",
     "status": "completed"
    },
    "tags": []
   },
   "outputs": [],
   "source": [
    "train_data = pd.read_csv('../input/home-credit-default-risk/application_train.csv')\n",
    "test_data = pd.read_csv('../input/home-credit-default-risk/application_test.csv')"
   ]
  },
  {
   "cell_type": "code",
   "execution_count": 3,
   "id": "ffc4dafa",
   "metadata": {
    "execution": {
     "iopub.execute_input": "2022-07-02T13:36:06.079849Z",
     "iopub.status.busy": "2022-07-02T13:36:06.079487Z",
     "iopub.status.idle": "2022-07-02T13:36:06.348604Z",
     "shell.execute_reply": "2022-07-02T13:36:06.347373Z"
    },
    "papermill": {
     "duration": 0.278147,
     "end_time": "2022-07-02T13:36:06.350899",
     "exception": false,
     "start_time": "2022-07-02T13:36:06.072752",
     "status": "completed"
    },
    "tags": []
   },
   "outputs": [
    {
     "data": {
      "text/plain": [
       "SK_ID_CURR                        0\n",
       "TARGET                            0\n",
       "NAME_CONTRACT_TYPE                0\n",
       "CODE_GENDER                       0\n",
       "FLAG_OWN_CAR                      0\n",
       "                              ...  \n",
       "AMT_REQ_CREDIT_BUREAU_DAY     41519\n",
       "AMT_REQ_CREDIT_BUREAU_WEEK    41519\n",
       "AMT_REQ_CREDIT_BUREAU_MON     41519\n",
       "AMT_REQ_CREDIT_BUREAU_QRT     41519\n",
       "AMT_REQ_CREDIT_BUREAU_YEAR    41519\n",
       "Length: 122, dtype: int64"
      ]
     },
     "execution_count": 3,
     "metadata": {},
     "output_type": "execute_result"
    }
   ],
   "source": [
    "train_data.isnull().sum()"
   ]
  },
  {
   "cell_type": "code",
   "execution_count": 4,
   "id": "01f450b3",
   "metadata": {
    "execution": {
     "iopub.execute_input": "2022-07-02T13:36:06.363753Z",
     "iopub.status.busy": "2022-07-02T13:36:06.363407Z",
     "iopub.status.idle": "2022-07-02T13:36:06.369283Z",
     "shell.execute_reply": "2022-07-02T13:36:06.368033Z"
    },
    "papermill": {
     "duration": 0.015086,
     "end_time": "2022-07-02T13:36:06.371730",
     "exception": false,
     "start_time": "2022-07-02T13:36:06.356644",
     "status": "completed"
    },
    "tags": []
   },
   "outputs": [],
   "source": [
    "# train_data.info(verbose = True, show_counts = True)\n",
    "# test_data.info(verbose = True, show_counts = True)"
   ]
  },
  {
   "cell_type": "markdown",
   "id": "0deaaeef",
   "metadata": {
    "papermill": {
     "duration": 0.005105,
     "end_time": "2022-07-02T13:36:06.382301",
     "exception": false,
     "start_time": "2022-07-02T13:36:06.377196",
     "status": "completed"
    },
    "tags": []
   },
   "source": [
    "# 1️⃣ drop object columns & fill Nan to -1"
   ]
  },
  {
   "cell_type": "code",
   "execution_count": 5,
   "id": "ad3f86c0",
   "metadata": {
    "execution": {
     "iopub.execute_input": "2022-07-02T13:36:06.394801Z",
     "iopub.status.busy": "2022-07-02T13:36:06.394060Z",
     "iopub.status.idle": "2022-07-02T13:36:06.398766Z",
     "shell.execute_reply": "2022-07-02T13:36:06.397667Z"
    },
    "papermill": {
     "duration": 0.013337,
     "end_time": "2022-07-02T13:36:06.400916",
     "exception": false,
     "start_time": "2022-07-02T13:36:06.387579",
     "status": "completed"
    },
    "tags": []
   },
   "outputs": [],
   "source": [
    "# columns = train_data.columns\n",
    " \n",
    "# drop_columns = []\n",
    "# for column in columns:\n",
    "#     if train_data[column].dtype == 'object' and test_data[column].dtype == 'object':\n",
    "#         drop_columns.append(column)\n",
    "# print(drop_columns)"
   ]
  },
  {
   "cell_type": "code",
   "execution_count": 6,
   "id": "2a8e8827",
   "metadata": {
    "execution": {
     "iopub.execute_input": "2022-07-02T13:36:06.413707Z",
     "iopub.status.busy": "2022-07-02T13:36:06.413363Z",
     "iopub.status.idle": "2022-07-02T13:36:06.417827Z",
     "shell.execute_reply": "2022-07-02T13:36:06.416622Z"
    },
    "papermill": {
     "duration": 0.013431,
     "end_time": "2022-07-02T13:36:06.420018",
     "exception": false,
     "start_time": "2022-07-02T13:36:06.406587",
     "status": "completed"
    },
    "tags": []
   },
   "outputs": [],
   "source": [
    "# trainX = train_data.drop(['TARGET'], axis = 1)\n",
    "# trainY = train_data['TARGET']"
   ]
  },
  {
   "cell_type": "code",
   "execution_count": 7,
   "id": "dc17d526",
   "metadata": {
    "execution": {
     "iopub.execute_input": "2022-07-02T13:36:06.432453Z",
     "iopub.status.busy": "2022-07-02T13:36:06.432059Z",
     "iopub.status.idle": "2022-07-02T13:36:06.436539Z",
     "shell.execute_reply": "2022-07-02T13:36:06.435416Z"
    },
    "papermill": {
     "duration": 0.013251,
     "end_time": "2022-07-02T13:36:06.438661",
     "exception": false,
     "start_time": "2022-07-02T13:36:06.425410",
     "status": "completed"
    },
    "tags": []
   },
   "outputs": [],
   "source": [
    "# trainX = trainX.drop(drop_columns, axis = 1)\n",
    "# test_data = test_data.drop(drop_columns, axis = 1)"
   ]
  },
  {
   "cell_type": "code",
   "execution_count": 8,
   "id": "12a3a360",
   "metadata": {
    "execution": {
     "iopub.execute_input": "2022-07-02T13:36:06.451577Z",
     "iopub.status.busy": "2022-07-02T13:36:06.451211Z",
     "iopub.status.idle": "2022-07-02T13:36:06.455443Z",
     "shell.execute_reply": "2022-07-02T13:36:06.454220Z"
    },
    "papermill": {
     "duration": 0.013154,
     "end_time": "2022-07-02T13:36:06.457607",
     "exception": false,
     "start_time": "2022-07-02T13:36:06.444453",
     "status": "completed"
    },
    "tags": []
   },
   "outputs": [],
   "source": [
    "# trainX.isnull().sum()"
   ]
  },
  {
   "cell_type": "code",
   "execution_count": 9,
   "id": "fc892fe3",
   "metadata": {
    "execution": {
     "iopub.execute_input": "2022-07-02T13:36:06.470505Z",
     "iopub.status.busy": "2022-07-02T13:36:06.470140Z",
     "iopub.status.idle": "2022-07-02T13:36:06.473590Z",
     "shell.execute_reply": "2022-07-02T13:36:06.472700Z"
    },
    "papermill": {
     "duration": 0.012328,
     "end_time": "2022-07-02T13:36:06.475546",
     "exception": false,
     "start_time": "2022-07-02T13:36:06.463218",
     "status": "completed"
    },
    "tags": []
   },
   "outputs": [],
   "source": [
    "# trainX = trainX.fillna(-1)\n",
    "# test_data = test_data.fillna(-1)"
   ]
  },
  {
   "cell_type": "code",
   "execution_count": 10,
   "id": "00065e86",
   "metadata": {
    "execution": {
     "iopub.execute_input": "2022-07-02T13:36:06.488566Z",
     "iopub.status.busy": "2022-07-02T13:36:06.487997Z",
     "iopub.status.idle": "2022-07-02T13:36:06.491367Z",
     "shell.execute_reply": "2022-07-02T13:36:06.490662Z"
    },
    "papermill": {
     "duration": 0.012249,
     "end_time": "2022-07-02T13:36:06.493354",
     "exception": false,
     "start_time": "2022-07-02T13:36:06.481105",
     "status": "completed"
    },
    "tags": []
   },
   "outputs": [],
   "source": [
    "# trainX.isnull().sum()"
   ]
  },
  {
   "cell_type": "markdown",
   "id": "ca7652e6",
   "metadata": {
    "papermill": {
     "duration": 0.005863,
     "end_time": "2022-07-02T13:36:06.505076",
     "exception": false,
     "start_time": "2022-07-02T13:36:06.499213",
     "status": "completed"
    },
    "tags": []
   },
   "source": [
    "# 2️⃣ encoding object columns & fill Nan to mean"
   ]
  },
  {
   "cell_type": "code",
   "execution_count": 11,
   "id": "11a04b79",
   "metadata": {
    "execution": {
     "iopub.execute_input": "2022-07-02T13:36:06.518386Z",
     "iopub.status.busy": "2022-07-02T13:36:06.517803Z",
     "iopub.status.idle": "2022-07-02T13:36:06.640779Z",
     "shell.execute_reply": "2022-07-02T13:36:06.639651Z"
    },
    "papermill": {
     "duration": 0.132632,
     "end_time": "2022-07-02T13:36:06.643328",
     "exception": false,
     "start_time": "2022-07-02T13:36:06.510696",
     "status": "completed"
    },
    "tags": []
   },
   "outputs": [],
   "source": [
    "trainX = train_data.drop(['TARGET', 'SK_ID_CURR', 'OCCUPATION_TYPE', 'ORGANIZATION_TYPE'], axis = 1)\n",
    "test_data = test_data.drop(['SK_ID_CURR', 'OCCUPATION_TYPE', 'ORGANIZATION_TYPE'], axis = 1)\n",
    "trainY = train_data['TARGET']"
   ]
  },
  {
   "cell_type": "code",
   "execution_count": 12,
   "id": "c7432485",
   "metadata": {
    "execution": {
     "iopub.execute_input": "2022-07-02T13:36:06.656785Z",
     "iopub.status.busy": "2022-07-02T13:36:06.656035Z",
     "iopub.status.idle": "2022-07-02T13:36:06.661674Z",
     "shell.execute_reply": "2022-07-02T13:36:06.660439Z"
    },
    "papermill": {
     "duration": 0.015239,
     "end_time": "2022-07-02T13:36:06.664118",
     "exception": false,
     "start_time": "2022-07-02T13:36:06.648879",
     "status": "completed"
    },
    "tags": []
   },
   "outputs": [
    {
     "name": "stdout",
     "output_type": "stream",
     "text": [
      "(307511, 118)\n",
      "(48744, 118)\n"
     ]
    }
   ],
   "source": [
    "print(trainX.shape)\n",
    "print(test_data.shape)"
   ]
  },
  {
   "cell_type": "code",
   "execution_count": 13,
   "id": "c0e9b32f",
   "metadata": {
    "execution": {
     "iopub.execute_input": "2022-07-02T13:36:06.677065Z",
     "iopub.status.busy": "2022-07-02T13:36:06.676666Z",
     "iopub.status.idle": "2022-07-02T13:36:06.688199Z",
     "shell.execute_reply": "2022-07-02T13:36:06.687028Z"
    },
    "papermill": {
     "duration": 0.02146,
     "end_time": "2022-07-02T13:36:06.691114",
     "exception": false,
     "start_time": "2022-07-02T13:36:06.669654",
     "status": "completed"
    },
    "tags": []
   },
   "outputs": [
    {
     "name": "stdout",
     "output_type": "stream",
     "text": [
      "['NAME_CONTRACT_TYPE', 'CODE_GENDER', 'FLAG_OWN_CAR', 'FLAG_OWN_REALTY', 'NAME_TYPE_SUITE', 'NAME_INCOME_TYPE', 'NAME_EDUCATION_TYPE', 'NAME_FAMILY_STATUS', 'NAME_HOUSING_TYPE', 'WEEKDAY_APPR_PROCESS_START', 'FONDKAPREMONT_MODE', 'HOUSETYPE_MODE', 'WALLSMATERIAL_MODE', 'EMERGENCYSTATE_MODE']\n"
     ]
    }
   ],
   "source": [
    "columns = trainX.columns\n",
    " \n",
    "object_columns = []\n",
    "for column in columns:\n",
    "    if trainX[column].dtype == 'object' and test_data[column].dtype == 'object':\n",
    "        object_columns.append(column)\n",
    "print(object_columns)"
   ]
  },
  {
   "cell_type": "code",
   "execution_count": 14,
   "id": "f1e1bb51",
   "metadata": {
    "execution": {
     "iopub.execute_input": "2022-07-02T13:36:06.705096Z",
     "iopub.status.busy": "2022-07-02T13:36:06.704161Z",
     "iopub.status.idle": "2022-07-02T13:36:06.710999Z",
     "shell.execute_reply": "2022-07-02T13:36:06.710122Z"
    },
    "papermill": {
     "duration": 0.015878,
     "end_time": "2022-07-02T13:36:06.713094",
     "exception": false,
     "start_time": "2022-07-02T13:36:06.697216",
     "status": "completed"
    },
    "tags": []
   },
   "outputs": [
    {
     "data": {
      "text/plain": [
       "(307511, 118)"
      ]
     },
     "execution_count": 14,
     "metadata": {},
     "output_type": "execute_result"
    }
   ],
   "source": [
    "trainX.shape"
   ]
  },
  {
   "cell_type": "code",
   "execution_count": 15,
   "id": "39902efc",
   "metadata": {
    "execution": {
     "iopub.execute_input": "2022-07-02T13:36:06.726538Z",
     "iopub.status.busy": "2022-07-02T13:36:06.725813Z",
     "iopub.status.idle": "2022-07-02T13:36:09.639352Z",
     "shell.execute_reply": "2022-07-02T13:36:09.638244Z"
    },
    "papermill": {
     "duration": 2.922958,
     "end_time": "2022-07-02T13:36:09.641718",
     "exception": false,
     "start_time": "2022-07-02T13:36:06.718760",
     "status": "completed"
    },
    "tags": []
   },
   "outputs": [
    {
     "name": "stdout",
     "output_type": "stream",
     "text": [
      "NAME_CONTRACT_TYPE 2\n",
      "CODE_GENDER 3\n",
      "FLAG_OWN_CAR 2\n",
      "FLAG_OWN_REALTY 2\n",
      "NAME_TYPE_SUITE 8\n",
      "NAME_INCOME_TYPE 8\n",
      "NAME_EDUCATION_TYPE 5\n",
      "NAME_FAMILY_STATUS 6\n",
      "NAME_HOUSING_TYPE 6\n",
      "WEEKDAY_APPR_PROCESS_START 7\n",
      "FONDKAPREMONT_MODE 5\n",
      "HOUSETYPE_MODE 4\n",
      "WALLSMATERIAL_MODE 8\n",
      "EMERGENCYSTATE_MODE 3\n"
     ]
    }
   ],
   "source": [
    "from sklearn.preprocessing import LabelEncoder \n",
    "le = LabelEncoder()\n",
    "\n",
    "all_data = pd.concat([trainX, test_data])\n",
    "for column in object_columns:\n",
    "    print(column, len(all_data[column].unique()))\n",
    "#    if len(all_data[column].unique()) <= 2:\n",
    "    all_data[column] = le.fit(all_data[column])\n",
    "    trainX[column] = le.transform(trainX[column])\n",
    "    test_data[column] = le.transform(test_data[column])"
   ]
  },
  {
   "cell_type": "code",
   "execution_count": 16,
   "id": "c312eceb",
   "metadata": {
    "execution": {
     "iopub.execute_input": "2022-07-02T13:36:09.655707Z",
     "iopub.status.busy": "2022-07-02T13:36:09.655339Z",
     "iopub.status.idle": "2022-07-02T13:36:09.659811Z",
     "shell.execute_reply": "2022-07-02T13:36:09.658974Z"
    },
    "papermill": {
     "duration": 0.013872,
     "end_time": "2022-07-02T13:36:09.661783",
     "exception": false,
     "start_time": "2022-07-02T13:36:09.647911",
     "status": "completed"
    },
    "tags": []
   },
   "outputs": [],
   "source": [
    "# # one-hot encoding\n",
    "# trainX = pd.get_dummies(trainX) # 값이 숫자형과 문자형이 있으면 문자형만 가변수화\n",
    "# test_data = pd.get_dummies(test_data)"
   ]
  },
  {
   "cell_type": "code",
   "execution_count": 17,
   "id": "0274693c",
   "metadata": {
    "execution": {
     "iopub.execute_input": "2022-07-02T13:36:09.675279Z",
     "iopub.status.busy": "2022-07-02T13:36:09.674885Z",
     "iopub.status.idle": "2022-07-02T13:36:09.679811Z",
     "shell.execute_reply": "2022-07-02T13:36:09.678699Z"
    },
    "papermill": {
     "duration": 0.014993,
     "end_time": "2022-07-02T13:36:09.682630",
     "exception": false,
     "start_time": "2022-07-02T13:36:09.667637",
     "status": "completed"
    },
    "tags": []
   },
   "outputs": [
    {
     "name": "stdout",
     "output_type": "stream",
     "text": [
      "(307511, 118)\n",
      "(48744, 118)\n"
     ]
    }
   ],
   "source": [
    "print(trainX.shape)\n",
    "print(test_data.shape)"
   ]
  },
  {
   "cell_type": "code",
   "execution_count": 18,
   "id": "16ce645f",
   "metadata": {
    "execution": {
     "iopub.execute_input": "2022-07-02T13:36:09.697627Z",
     "iopub.status.busy": "2022-07-02T13:36:09.697262Z",
     "iopub.status.idle": "2022-07-02T13:36:09.767305Z",
     "shell.execute_reply": "2022-07-02T13:36:09.766131Z"
    },
    "papermill": {
     "duration": 0.079814,
     "end_time": "2022-07-02T13:36:09.769713",
     "exception": false,
     "start_time": "2022-07-02T13:36:09.689899",
     "status": "completed"
    },
    "tags": []
   },
   "outputs": [
    {
     "data": {
      "text/plain": [
       "NAME_CONTRACT_TYPE                0\n",
       "CODE_GENDER                       0\n",
       "FLAG_OWN_CAR                      0\n",
       "FLAG_OWN_REALTY                   0\n",
       "CNT_CHILDREN                      0\n",
       "                              ...  \n",
       "AMT_REQ_CREDIT_BUREAU_DAY     41519\n",
       "AMT_REQ_CREDIT_BUREAU_WEEK    41519\n",
       "AMT_REQ_CREDIT_BUREAU_MON     41519\n",
       "AMT_REQ_CREDIT_BUREAU_QRT     41519\n",
       "AMT_REQ_CREDIT_BUREAU_YEAR    41519\n",
       "Length: 118, dtype: int64"
      ]
     },
     "execution_count": 18,
     "metadata": {},
     "output_type": "execute_result"
    }
   ],
   "source": [
    "trainX.isnull().sum()"
   ]
  },
  {
   "cell_type": "code",
   "execution_count": 19,
   "id": "0cc64933",
   "metadata": {
    "execution": {
     "iopub.execute_input": "2022-07-02T13:36:09.783780Z",
     "iopub.status.busy": "2022-07-02T13:36:09.783440Z",
     "iopub.status.idle": "2022-07-02T13:36:09.789562Z",
     "shell.execute_reply": "2022-07-02T13:36:09.788495Z"
    },
    "papermill": {
     "duration": 0.015907,
     "end_time": "2022-07-02T13:36:09.791802",
     "exception": false,
     "start_time": "2022-07-02T13:36:09.775895",
     "status": "completed"
    },
    "tags": []
   },
   "outputs": [
    {
     "data": {
      "text/plain": [
       "(307511, 118)"
      ]
     },
     "execution_count": 19,
     "metadata": {},
     "output_type": "execute_result"
    }
   ],
   "source": [
    "trainX.shape"
   ]
  },
  {
   "cell_type": "code",
   "execution_count": 20,
   "id": "c39cda44",
   "metadata": {
    "execution": {
     "iopub.execute_input": "2022-07-02T13:36:09.806138Z",
     "iopub.status.busy": "2022-07-02T13:36:09.805766Z",
     "iopub.status.idle": "2022-07-02T13:36:09.835422Z",
     "shell.execute_reply": "2022-07-02T13:36:09.834347Z"
    },
    "papermill": {
     "duration": 0.03938,
     "end_time": "2022-07-02T13:36:09.837573",
     "exception": false,
     "start_time": "2022-07-02T13:36:09.798193",
     "status": "completed"
    },
    "tags": []
   },
   "outputs": [
    {
     "data": {
      "text/html": [
       "<div>\n",
       "<style scoped>\n",
       "    .dataframe tbody tr th:only-of-type {\n",
       "        vertical-align: middle;\n",
       "    }\n",
       "\n",
       "    .dataframe tbody tr th {\n",
       "        vertical-align: top;\n",
       "    }\n",
       "\n",
       "    .dataframe thead th {\n",
       "        text-align: right;\n",
       "    }\n",
       "</style>\n",
       "<table border=\"1\" class=\"dataframe\">\n",
       "  <thead>\n",
       "    <tr style=\"text-align: right;\">\n",
       "      <th></th>\n",
       "      <th>NAME_CONTRACT_TYPE</th>\n",
       "      <th>CODE_GENDER</th>\n",
       "      <th>FLAG_OWN_CAR</th>\n",
       "      <th>FLAG_OWN_REALTY</th>\n",
       "      <th>CNT_CHILDREN</th>\n",
       "      <th>AMT_INCOME_TOTAL</th>\n",
       "      <th>AMT_CREDIT</th>\n",
       "      <th>AMT_ANNUITY</th>\n",
       "      <th>AMT_GOODS_PRICE</th>\n",
       "      <th>NAME_TYPE_SUITE</th>\n",
       "      <th>...</th>\n",
       "      <th>FLAG_DOCUMENT_18</th>\n",
       "      <th>FLAG_DOCUMENT_19</th>\n",
       "      <th>FLAG_DOCUMENT_20</th>\n",
       "      <th>FLAG_DOCUMENT_21</th>\n",
       "      <th>AMT_REQ_CREDIT_BUREAU_HOUR</th>\n",
       "      <th>AMT_REQ_CREDIT_BUREAU_DAY</th>\n",
       "      <th>AMT_REQ_CREDIT_BUREAU_WEEK</th>\n",
       "      <th>AMT_REQ_CREDIT_BUREAU_MON</th>\n",
       "      <th>AMT_REQ_CREDIT_BUREAU_QRT</th>\n",
       "      <th>AMT_REQ_CREDIT_BUREAU_YEAR</th>\n",
       "    </tr>\n",
       "  </thead>\n",
       "  <tbody>\n",
       "    <tr>\n",
       "      <th>0</th>\n",
       "      <td>0</td>\n",
       "      <td>1</td>\n",
       "      <td>0</td>\n",
       "      <td>1</td>\n",
       "      <td>0</td>\n",
       "      <td>202500.0</td>\n",
       "      <td>406597.5</td>\n",
       "      <td>24700.5</td>\n",
       "      <td>351000.0</td>\n",
       "      <td>6</td>\n",
       "      <td>...</td>\n",
       "      <td>0</td>\n",
       "      <td>0</td>\n",
       "      <td>0</td>\n",
       "      <td>0</td>\n",
       "      <td>0.0</td>\n",
       "      <td>0.0</td>\n",
       "      <td>0.0</td>\n",
       "      <td>0.0</td>\n",
       "      <td>0.0</td>\n",
       "      <td>1.0</td>\n",
       "    </tr>\n",
       "    <tr>\n",
       "      <th>1</th>\n",
       "      <td>0</td>\n",
       "      <td>0</td>\n",
       "      <td>0</td>\n",
       "      <td>0</td>\n",
       "      <td>0</td>\n",
       "      <td>270000.0</td>\n",
       "      <td>1293502.5</td>\n",
       "      <td>35698.5</td>\n",
       "      <td>1129500.0</td>\n",
       "      <td>1</td>\n",
       "      <td>...</td>\n",
       "      <td>0</td>\n",
       "      <td>0</td>\n",
       "      <td>0</td>\n",
       "      <td>0</td>\n",
       "      <td>0.0</td>\n",
       "      <td>0.0</td>\n",
       "      <td>0.0</td>\n",
       "      <td>0.0</td>\n",
       "      <td>0.0</td>\n",
       "      <td>0.0</td>\n",
       "    </tr>\n",
       "    <tr>\n",
       "      <th>2</th>\n",
       "      <td>1</td>\n",
       "      <td>1</td>\n",
       "      <td>1</td>\n",
       "      <td>1</td>\n",
       "      <td>0</td>\n",
       "      <td>67500.0</td>\n",
       "      <td>135000.0</td>\n",
       "      <td>6750.0</td>\n",
       "      <td>135000.0</td>\n",
       "      <td>6</td>\n",
       "      <td>...</td>\n",
       "      <td>0</td>\n",
       "      <td>0</td>\n",
       "      <td>0</td>\n",
       "      <td>0</td>\n",
       "      <td>0.0</td>\n",
       "      <td>0.0</td>\n",
       "      <td>0.0</td>\n",
       "      <td>0.0</td>\n",
       "      <td>0.0</td>\n",
       "      <td>0.0</td>\n",
       "    </tr>\n",
       "    <tr>\n",
       "      <th>3</th>\n",
       "      <td>0</td>\n",
       "      <td>0</td>\n",
       "      <td>0</td>\n",
       "      <td>1</td>\n",
       "      <td>0</td>\n",
       "      <td>135000.0</td>\n",
       "      <td>312682.5</td>\n",
       "      <td>29686.5</td>\n",
       "      <td>297000.0</td>\n",
       "      <td>6</td>\n",
       "      <td>...</td>\n",
       "      <td>0</td>\n",
       "      <td>0</td>\n",
       "      <td>0</td>\n",
       "      <td>0</td>\n",
       "      <td>NaN</td>\n",
       "      <td>NaN</td>\n",
       "      <td>NaN</td>\n",
       "      <td>NaN</td>\n",
       "      <td>NaN</td>\n",
       "      <td>NaN</td>\n",
       "    </tr>\n",
       "    <tr>\n",
       "      <th>4</th>\n",
       "      <td>0</td>\n",
       "      <td>1</td>\n",
       "      <td>0</td>\n",
       "      <td>1</td>\n",
       "      <td>0</td>\n",
       "      <td>121500.0</td>\n",
       "      <td>513000.0</td>\n",
       "      <td>21865.5</td>\n",
       "      <td>513000.0</td>\n",
       "      <td>6</td>\n",
       "      <td>...</td>\n",
       "      <td>0</td>\n",
       "      <td>0</td>\n",
       "      <td>0</td>\n",
       "      <td>0</td>\n",
       "      <td>0.0</td>\n",
       "      <td>0.0</td>\n",
       "      <td>0.0</td>\n",
       "      <td>0.0</td>\n",
       "      <td>0.0</td>\n",
       "      <td>0.0</td>\n",
       "    </tr>\n",
       "  </tbody>\n",
       "</table>\n",
       "<p>5 rows × 118 columns</p>\n",
       "</div>"
      ],
      "text/plain": [
       "   NAME_CONTRACT_TYPE  CODE_GENDER  FLAG_OWN_CAR  FLAG_OWN_REALTY  \\\n",
       "0                   0            1             0                1   \n",
       "1                   0            0             0                0   \n",
       "2                   1            1             1                1   \n",
       "3                   0            0             0                1   \n",
       "4                   0            1             0                1   \n",
       "\n",
       "   CNT_CHILDREN  AMT_INCOME_TOTAL  AMT_CREDIT  AMT_ANNUITY  AMT_GOODS_PRICE  \\\n",
       "0             0          202500.0    406597.5      24700.5         351000.0   \n",
       "1             0          270000.0   1293502.5      35698.5        1129500.0   \n",
       "2             0           67500.0    135000.0       6750.0         135000.0   \n",
       "3             0          135000.0    312682.5      29686.5         297000.0   \n",
       "4             0          121500.0    513000.0      21865.5         513000.0   \n",
       "\n",
       "   NAME_TYPE_SUITE  ...  FLAG_DOCUMENT_18  FLAG_DOCUMENT_19  FLAG_DOCUMENT_20  \\\n",
       "0                6  ...                 0                 0                 0   \n",
       "1                1  ...                 0                 0                 0   \n",
       "2                6  ...                 0                 0                 0   \n",
       "3                6  ...                 0                 0                 0   \n",
       "4                6  ...                 0                 0                 0   \n",
       "\n",
       "   FLAG_DOCUMENT_21  AMT_REQ_CREDIT_BUREAU_HOUR  AMT_REQ_CREDIT_BUREAU_DAY  \\\n",
       "0                 0                         0.0                        0.0   \n",
       "1                 0                         0.0                        0.0   \n",
       "2                 0                         0.0                        0.0   \n",
       "3                 0                         NaN                        NaN   \n",
       "4                 0                         0.0                        0.0   \n",
       "\n",
       "   AMT_REQ_CREDIT_BUREAU_WEEK  AMT_REQ_CREDIT_BUREAU_MON  \\\n",
       "0                         0.0                        0.0   \n",
       "1                         0.0                        0.0   \n",
       "2                         0.0                        0.0   \n",
       "3                         NaN                        NaN   \n",
       "4                         0.0                        0.0   \n",
       "\n",
       "   AMT_REQ_CREDIT_BUREAU_QRT  AMT_REQ_CREDIT_BUREAU_YEAR  \n",
       "0                        0.0                         1.0  \n",
       "1                        0.0                         0.0  \n",
       "2                        0.0                         0.0  \n",
       "3                        NaN                         NaN  \n",
       "4                        0.0                         0.0  \n",
       "\n",
       "[5 rows x 118 columns]"
      ]
     },
     "execution_count": 20,
     "metadata": {},
     "output_type": "execute_result"
    }
   ],
   "source": [
    "trainX.head()"
   ]
  },
  {
   "cell_type": "markdown",
   "id": "cd6c5c9b",
   "metadata": {
    "papermill": {
     "duration": 0.006273,
     "end_time": "2022-07-02T13:36:09.850703",
     "exception": false,
     "start_time": "2022-07-02T13:36:09.844430",
     "status": "completed"
    },
    "tags": []
   },
   "source": [
    "# RandomForestClassifier"
   ]
  },
  {
   "cell_type": "code",
   "execution_count": 21,
   "id": "56da899c",
   "metadata": {
    "execution": {
     "iopub.execute_input": "2022-07-02T13:36:09.865762Z",
     "iopub.status.busy": "2022-07-02T13:36:09.865193Z",
     "iopub.status.idle": "2022-07-02T13:36:09.956640Z",
     "shell.execute_reply": "2022-07-02T13:36:09.955136Z"
    },
    "papermill": {
     "duration": 0.101825,
     "end_time": "2022-07-02T13:36:09.959196",
     "exception": false,
     "start_time": "2022-07-02T13:36:09.857371",
     "status": "completed"
    },
    "tags": []
   },
   "outputs": [
    {
     "name": "stdout",
     "output_type": "stream",
     "text": [
      "0\n",
      "0\n",
      "0\n",
      "0\n",
      "0\n",
      "0\n",
      "0\n",
      "12\n",
      "278\n",
      "0\n",
      "0\n",
      "0\n",
      "0\n",
      "0\n",
      "0\n",
      "0\n",
      "0\n",
      "0\n",
      "0\n",
      "202929\n",
      "0\n",
      "0\n",
      "0\n",
      "0\n",
      "0\n",
      "0\n",
      "2\n",
      "0\n",
      "0\n",
      "0\n",
      "0\n",
      "0\n",
      "0\n",
      "0\n",
      "0\n",
      "0\n",
      "0\n",
      "173378\n",
      "660\n",
      "60965\n",
      "156061\n",
      "179943\n",
      "150007\n",
      "204488\n",
      "214865\n",
      "163891\n",
      "154828\n",
      "153020\n",
      "208642\n",
      "182590\n",
      "210199\n",
      "154350\n",
      "213514\n",
      "169682\n",
      "156061\n",
      "179943\n",
      "150007\n",
      "204488\n",
      "214865\n",
      "163891\n",
      "154828\n",
      "153020\n",
      "208642\n",
      "182590\n",
      "210199\n",
      "154350\n",
      "213514\n",
      "169682\n",
      "156061\n",
      "179943\n",
      "150007\n",
      "204488\n",
      "214865\n",
      "163891\n",
      "154828\n",
      "153020\n",
      "208642\n",
      "182590\n",
      "210199\n",
      "154350\n",
      "213514\n",
      "169682\n",
      "0\n",
      "0\n",
      "148431\n",
      "0\n",
      "0\n",
      "1021\n",
      "1021\n",
      "1021\n",
      "1021\n",
      "1\n",
      "0\n",
      "0\n",
      "0\n",
      "0\n",
      "0\n",
      "0\n",
      "0\n",
      "0\n",
      "0\n",
      "0\n",
      "0\n",
      "0\n",
      "0\n",
      "0\n",
      "0\n",
      "0\n",
      "0\n",
      "0\n",
      "0\n",
      "0\n",
      "41519\n",
      "41519\n",
      "41519\n",
      "41519\n",
      "41519\n",
      "41519\n"
     ]
    }
   ],
   "source": [
    "cols = trainX.columns\n",
    "for col in cols:\n",
    "    print(trainX[col].isnull().sum())"
   ]
  },
  {
   "cell_type": "code",
   "execution_count": 22,
   "id": "10ae640f",
   "metadata": {
    "execution": {
     "iopub.execute_input": "2022-07-02T13:36:09.973777Z",
     "iopub.status.busy": "2022-07-02T13:36:09.973402Z",
     "iopub.status.idle": "2022-07-02T13:36:12.384303Z",
     "shell.execute_reply": "2022-07-02T13:36:12.383143Z"
    },
    "papermill": {
     "duration": 2.420841,
     "end_time": "2022-07-02T13:36:12.386677",
     "exception": false,
     "start_time": "2022-07-02T13:36:09.965836",
     "status": "completed"
    },
    "tags": []
   },
   "outputs": [],
   "source": [
    "from sklearn.impute import SimpleImputer\n",
    "imputer = SimpleImputer(strategy=\"median\")\n",
    "\n",
    "cols = trainX.columns\n",
    "for col in cols:\n",
    "    if trainX[col].isnull().sum() > 0:\n",
    "        trainX[col] = imputer.fit_transform(np.array(trainX[col]).reshape(-1, 1))\n",
    "        test_data[col] = imputer.transform(np.array(test_data[col]).reshape(-1, 1))"
   ]
  },
  {
   "cell_type": "code",
   "execution_count": 23,
   "id": "a5135392",
   "metadata": {
    "execution": {
     "iopub.execute_input": "2022-07-02T13:36:12.401718Z",
     "iopub.status.busy": "2022-07-02T13:36:12.401356Z",
     "iopub.status.idle": "2022-07-02T13:38:48.117746Z",
     "shell.execute_reply": "2022-07-02T13:38:48.116796Z"
    },
    "papermill": {
     "duration": 155.726873,
     "end_time": "2022-07-02T13:38:48.120326",
     "exception": false,
     "start_time": "2022-07-02T13:36:12.393453",
     "status": "completed"
    },
    "tags": []
   },
   "outputs": [],
   "source": [
    "from sklearn.ensemble import RandomForestClassifier\n",
    "rfc = RandomForestClassifier(random_state = 0)\n",
    "rfc.fit(trainX, trainY)\n",
    "predict = rfc.predict(test_data)"
   ]
  },
  {
   "cell_type": "code",
   "execution_count": 24,
   "id": "b4c256fa",
   "metadata": {
    "execution": {
     "iopub.execute_input": "2022-07-02T13:38:48.136624Z",
     "iopub.status.busy": "2022-07-02T13:38:48.135665Z",
     "iopub.status.idle": "2022-07-02T13:38:48.217535Z",
     "shell.execute_reply": "2022-07-02T13:38:48.216490Z"
    },
    "papermill": {
     "duration": 0.092004,
     "end_time": "2022-07-02T13:38:48.219771",
     "exception": false,
     "start_time": "2022-07-02T13:38:48.127767",
     "status": "completed"
    },
    "tags": []
   },
   "outputs": [],
   "source": [
    "sample = pd.read_csv('../input/home-credit-default-risk/sample_submission.csv')\n",
    "sample['TARGET'] = predict\n",
    "sample.to_csv('submission.csv', index = False)"
   ]
  }
 ],
 "metadata": {
  "kernelspec": {
   "display_name": "Python 3",
   "language": "python",
   "name": "python3"
  },
  "language_info": {
   "codemirror_mode": {
    "name": "ipython",
    "version": 3
   },
   "file_extension": ".py",
   "mimetype": "text/x-python",
   "name": "python",
   "nbconvert_exporter": "python",
   "pygments_lexer": "ipython3",
   "version": "3.7.12"
  },
  "papermill": {
   "default_parameters": {},
   "duration": 178.383104,
   "end_time": "2022-07-02T13:38:49.050218",
   "environment_variables": {},
   "exception": null,
   "input_path": "__notebook__.ipynb",
   "output_path": "__notebook__.ipynb",
   "parameters": {},
   "start_time": "2022-07-02T13:35:50.667114",
   "version": "2.3.4"
  }
 },
 "nbformat": 4,
 "nbformat_minor": 5
}
