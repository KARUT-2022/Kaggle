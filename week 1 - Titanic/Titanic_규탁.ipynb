{
 "cells": [
  {
   "cell_type": "code",
   "execution_count": 1,
   "id": "d16e0477",
   "metadata": {
    "_cell_guid": "b1076dfc-b9ad-4769-8c92-a6c4dae69d19",
    "_uuid": "8f2839f25d086af736a60e9eeb907d3b93b6e0e5",
    "execution": {
     "iopub.execute_input": "2022-05-15T14:44:31.089812Z",
     "iopub.status.busy": "2022-05-15T14:44:31.088867Z",
     "iopub.status.idle": "2022-05-15T14:44:31.101285Z",
     "shell.execute_reply": "2022-05-15T14:44:31.100328Z"
    },
    "papermill": {
     "duration": 0.047201,
     "end_time": "2022-05-15T14:44:31.104388",
     "exception": false,
     "start_time": "2022-05-15T14:44:31.057187",
     "status": "completed"
    },
    "tags": []
   },
   "outputs": [
    {
     "name": "stdout",
     "output_type": "stream",
     "text": [
      "/kaggle/input/titanic/train.csv\n",
      "/kaggle/input/titanic/test.csv\n",
      "/kaggle/input/titanic/gender_submission.csv\n"
     ]
    }
   ],
   "source": [
    "# This Python 3 environment comes with many helpful analytics libraries installed\n",
    "# It is defined by the kaggle/python Docker image: https://github.com/kaggle/docker-python\n",
    "# For example, here's several helpful packages to load\n",
    "\n",
    "import numpy as np # linear algebra\n",
    "import pandas as pd # data processing, CSV file I/O (e.g. pd.read_csv)\n",
    "\n",
    "# Input data files are available in the read-only \"../input/\" directory\n",
    "# For example, running this (by clicking run or pressing Shift+Enter) will list all files under the input directory\n",
    "\n",
    "import os\n",
    "for dirname, _, filenames in os.walk('/kaggle/input'):\n",
    "    for filename in filenames:\n",
    "        print(os.path.join(dirname, filename))\n",
    "\n",
    "# You can write up to 20GB to the current directory (/kaggle/working/) that gets preserved as output when you create a version using \"Save & Run All\" \n",
    "# You can also write temporary files to /kaggle/temp/, but they won't be saved outside of the current session"
   ]
  },
  {
   "cell_type": "code",
   "execution_count": 2,
   "id": "b9e1ae09",
   "metadata": {
    "execution": {
     "iopub.execute_input": "2022-05-15T14:44:31.160668Z",
     "iopub.status.busy": "2022-05-15T14:44:31.160152Z",
     "iopub.status.idle": "2022-05-15T14:44:32.308940Z",
     "shell.execute_reply": "2022-05-15T14:44:32.308183Z"
    },
    "papermill": {
     "duration": 1.178643,
     "end_time": "2022-05-15T14:44:32.311209",
     "exception": false,
     "start_time": "2022-05-15T14:44:31.132566",
     "status": "completed"
    },
    "tags": []
   },
   "outputs": [],
   "source": [
    "import matplotlib.pyplot as plt\n",
    "import seaborn as sns"
   ]
  },
  {
   "cell_type": "markdown",
   "id": "2b3e2c30",
   "metadata": {
    "papermill": {
     "duration": 0.026535,
     "end_time": "2022-05-15T14:44:32.365586",
     "exception": false,
     "start_time": "2022-05-15T14:44:32.339051",
     "status": "completed"
    },
    "tags": []
   },
   "source": [
    "# Load Data"
   ]
  },
  {
   "cell_type": "code",
   "execution_count": 3,
   "id": "468aa55b",
   "metadata": {
    "execution": {
     "iopub.execute_input": "2022-05-15T14:44:32.420864Z",
     "iopub.status.busy": "2022-05-15T14:44:32.420019Z",
     "iopub.status.idle": "2022-05-15T14:44:32.460345Z",
     "shell.execute_reply": "2022-05-15T14:44:32.459633Z"
    },
    "papermill": {
     "duration": 0.070437,
     "end_time": "2022-05-15T14:44:32.462528",
     "exception": false,
     "start_time": "2022-05-15T14:44:32.392091",
     "status": "completed"
    },
    "tags": []
   },
   "outputs": [],
   "source": [
    "train = pd.read_csv(\"/kaggle/input/titanic/train.csv\")\n",
    "test = pd.read_csv(\"/kaggle/input/titanic/test.csv\")\n",
    "submit = pd.read_csv(\"/kaggle/input/titanic/gender_submission.csv\")"
   ]
  },
  {
   "cell_type": "code",
   "execution_count": 4,
   "id": "4325a6ba",
   "metadata": {
    "execution": {
     "iopub.execute_input": "2022-05-15T14:44:32.525786Z",
     "iopub.status.busy": "2022-05-15T14:44:32.525283Z",
     "iopub.status.idle": "2022-05-15T14:44:32.547805Z",
     "shell.execute_reply": "2022-05-15T14:44:32.547023Z"
    },
    "papermill": {
     "duration": 0.056739,
     "end_time": "2022-05-15T14:44:32.549608",
     "exception": false,
     "start_time": "2022-05-15T14:44:32.492869",
     "status": "completed"
    },
    "tags": []
   },
   "outputs": [
    {
     "data": {
      "text/html": [
       "<div>\n",
       "<style scoped>\n",
       "    .dataframe tbody tr th:only-of-type {\n",
       "        vertical-align: middle;\n",
       "    }\n",
       "\n",
       "    .dataframe tbody tr th {\n",
       "        vertical-align: top;\n",
       "    }\n",
       "\n",
       "    .dataframe thead th {\n",
       "        text-align: right;\n",
       "    }\n",
       "</style>\n",
       "<table border=\"1\" class=\"dataframe\">\n",
       "  <thead>\n",
       "    <tr style=\"text-align: right;\">\n",
       "      <th></th>\n",
       "      <th>PassengerId</th>\n",
       "      <th>Survived</th>\n",
       "      <th>Pclass</th>\n",
       "      <th>Name</th>\n",
       "      <th>Sex</th>\n",
       "      <th>Age</th>\n",
       "      <th>SibSp</th>\n",
       "      <th>Parch</th>\n",
       "      <th>Ticket</th>\n",
       "      <th>Fare</th>\n",
       "      <th>Cabin</th>\n",
       "      <th>Embarked</th>\n",
       "    </tr>\n",
       "  </thead>\n",
       "  <tbody>\n",
       "    <tr>\n",
       "      <th>0</th>\n",
       "      <td>1</td>\n",
       "      <td>0</td>\n",
       "      <td>3</td>\n",
       "      <td>Braund, Mr. Owen Harris</td>\n",
       "      <td>male</td>\n",
       "      <td>22.0</td>\n",
       "      <td>1</td>\n",
       "      <td>0</td>\n",
       "      <td>A/5 21171</td>\n",
       "      <td>7.2500</td>\n",
       "      <td>NaN</td>\n",
       "      <td>S</td>\n",
       "    </tr>\n",
       "    <tr>\n",
       "      <th>1</th>\n",
       "      <td>2</td>\n",
       "      <td>1</td>\n",
       "      <td>1</td>\n",
       "      <td>Cumings, Mrs. John Bradley (Florence Briggs Th...</td>\n",
       "      <td>female</td>\n",
       "      <td>38.0</td>\n",
       "      <td>1</td>\n",
       "      <td>0</td>\n",
       "      <td>PC 17599</td>\n",
       "      <td>71.2833</td>\n",
       "      <td>C85</td>\n",
       "      <td>C</td>\n",
       "    </tr>\n",
       "    <tr>\n",
       "      <th>2</th>\n",
       "      <td>3</td>\n",
       "      <td>1</td>\n",
       "      <td>3</td>\n",
       "      <td>Heikkinen, Miss. Laina</td>\n",
       "      <td>female</td>\n",
       "      <td>26.0</td>\n",
       "      <td>0</td>\n",
       "      <td>0</td>\n",
       "      <td>STON/O2. 3101282</td>\n",
       "      <td>7.9250</td>\n",
       "      <td>NaN</td>\n",
       "      <td>S</td>\n",
       "    </tr>\n",
       "    <tr>\n",
       "      <th>3</th>\n",
       "      <td>4</td>\n",
       "      <td>1</td>\n",
       "      <td>1</td>\n",
       "      <td>Futrelle, Mrs. Jacques Heath (Lily May Peel)</td>\n",
       "      <td>female</td>\n",
       "      <td>35.0</td>\n",
       "      <td>1</td>\n",
       "      <td>0</td>\n",
       "      <td>113803</td>\n",
       "      <td>53.1000</td>\n",
       "      <td>C123</td>\n",
       "      <td>S</td>\n",
       "    </tr>\n",
       "    <tr>\n",
       "      <th>4</th>\n",
       "      <td>5</td>\n",
       "      <td>0</td>\n",
       "      <td>3</td>\n",
       "      <td>Allen, Mr. William Henry</td>\n",
       "      <td>male</td>\n",
       "      <td>35.0</td>\n",
       "      <td>0</td>\n",
       "      <td>0</td>\n",
       "      <td>373450</td>\n",
       "      <td>8.0500</td>\n",
       "      <td>NaN</td>\n",
       "      <td>S</td>\n",
       "    </tr>\n",
       "  </tbody>\n",
       "</table>\n",
       "</div>"
      ],
      "text/plain": [
       "   PassengerId  Survived  Pclass  \\\n",
       "0            1         0       3   \n",
       "1            2         1       1   \n",
       "2            3         1       3   \n",
       "3            4         1       1   \n",
       "4            5         0       3   \n",
       "\n",
       "                                                Name     Sex   Age  SibSp  \\\n",
       "0                            Braund, Mr. Owen Harris    male  22.0      1   \n",
       "1  Cumings, Mrs. John Bradley (Florence Briggs Th...  female  38.0      1   \n",
       "2                             Heikkinen, Miss. Laina  female  26.0      0   \n",
       "3       Futrelle, Mrs. Jacques Heath (Lily May Peel)  female  35.0      1   \n",
       "4                           Allen, Mr. William Henry    male  35.0      0   \n",
       "\n",
       "   Parch            Ticket     Fare Cabin Embarked  \n",
       "0      0         A/5 21171   7.2500   NaN        S  \n",
       "1      0          PC 17599  71.2833   C85        C  \n",
       "2      0  STON/O2. 3101282   7.9250   NaN        S  \n",
       "3      0            113803  53.1000  C123        S  \n",
       "4      0            373450   8.0500   NaN        S  "
      ]
     },
     "execution_count": 4,
     "metadata": {},
     "output_type": "execute_result"
    }
   ],
   "source": [
    "train.head(5)"
   ]
  },
  {
   "cell_type": "markdown",
   "id": "e39c734e",
   "metadata": {
    "papermill": {
     "duration": 0.026515,
     "end_time": "2022-05-15T14:44:32.603207",
     "exception": false,
     "start_time": "2022-05-15T14:44:32.576692",
     "status": "completed"
    },
    "tags": []
   },
   "source": [
    "# Drop Column"
   ]
  },
  {
   "cell_type": "code",
   "execution_count": 5,
   "id": "30be84e1",
   "metadata": {
    "execution": {
     "iopub.execute_input": "2022-05-15T14:44:32.660778Z",
     "iopub.status.busy": "2022-05-15T14:44:32.660217Z",
     "iopub.status.idle": "2022-05-15T14:44:32.674414Z",
     "shell.execute_reply": "2022-05-15T14:44:32.673219Z"
    },
    "papermill": {
     "duration": 0.046742,
     "end_time": "2022-05-15T14:44:32.676575",
     "exception": false,
     "start_time": "2022-05-15T14:44:32.629833",
     "status": "completed"
    },
    "tags": []
   },
   "outputs": [],
   "source": [
    "X = train.drop(['PassengerId', 'Ticket', 'Name'], axis = 1)\n",
    "test = test.drop(['PassengerId', 'Ticket', 'Name'], axis = 1)"
   ]
  },
  {
   "cell_type": "markdown",
   "id": "b87e0dba",
   "metadata": {
    "papermill": {
     "duration": 0.028333,
     "end_time": "2022-05-15T14:44:32.732237",
     "exception": false,
     "start_time": "2022-05-15T14:44:32.703904",
     "status": "completed"
    },
    "tags": []
   },
   "source": [
    "> 데이터 학습에 필요하지않은 PassengerId, Ticket, Name은 drop을 이용해 없애준다"
   ]
  },
  {
   "cell_type": "markdown",
   "id": "7b3a7a4c",
   "metadata": {
    "papermill": {
     "duration": 0.027006,
     "end_time": "2022-05-15T14:44:32.785791",
     "exception": false,
     "start_time": "2022-05-15T14:44:32.758785",
     "status": "completed"
    },
    "tags": []
   },
   "source": [
    "# Check Missing value\n"
   ]
  },
  {
   "cell_type": "code",
   "execution_count": 6,
   "id": "26e5d4a7",
   "metadata": {
    "execution": {
     "iopub.execute_input": "2022-05-15T14:44:32.842455Z",
     "iopub.status.busy": "2022-05-15T14:44:32.841918Z",
     "iopub.status.idle": "2022-05-15T14:44:32.849346Z",
     "shell.execute_reply": "2022-05-15T14:44:32.848714Z"
    },
    "papermill": {
     "duration": 0.037879,
     "end_time": "2022-05-15T14:44:32.851706",
     "exception": false,
     "start_time": "2022-05-15T14:44:32.813827",
     "status": "completed"
    },
    "tags": []
   },
   "outputs": [
    {
     "data": {
      "text/plain": [
       "PassengerId      0\n",
       "Survived         0\n",
       "Pclass           0\n",
       "Name             0\n",
       "Sex              0\n",
       "Age            177\n",
       "SibSp            0\n",
       "Parch            0\n",
       "Ticket           0\n",
       "Fare             0\n",
       "Cabin          687\n",
       "Embarked         2\n",
       "dtype: int64"
      ]
     },
     "execution_count": 6,
     "metadata": {},
     "output_type": "execute_result"
    }
   ],
   "source": [
    "train.isnull().sum()"
   ]
  },
  {
   "cell_type": "code",
   "execution_count": 7,
   "id": "8c23cfa2",
   "metadata": {
    "execution": {
     "iopub.execute_input": "2022-05-15T14:44:32.911276Z",
     "iopub.status.busy": "2022-05-15T14:44:32.910786Z",
     "iopub.status.idle": "2022-05-15T14:44:33.185067Z",
     "shell.execute_reply": "2022-05-15T14:44:33.183716Z"
    },
    "papermill": {
     "duration": 0.306919,
     "end_time": "2022-05-15T14:44:33.187585",
     "exception": false,
     "start_time": "2022-05-15T14:44:32.880666",
     "status": "completed"
    },
    "tags": []
   },
   "outputs": [
    {
     "data": {
      "text/plain": [
       "<AxesSubplot:>"
      ]
     },
     "execution_count": 7,
     "metadata": {},
     "output_type": "execute_result"
    },
    {
     "data": {
      "image/png": "[encoded data removed]",
      "text/plain": [
       "<Figure size 432x288 with 1 Axes>"
      ]
     },
     "metadata": {
      "needs_background": "light"
     },
     "output_type": "display_data"
    }
   ],
   "source": [
    "sns.heatmap(train.isnull(), cbar = False)"
   ]
  },
  {
   "cell_type": "code",
   "execution_count": 8,
   "id": "38965d4c",
   "metadata": {
    "execution": {
     "iopub.execute_input": "2022-05-15T14:44:33.247243Z",
     "iopub.status.busy": "2022-05-15T14:44:33.246964Z",
     "iopub.status.idle": "2022-05-15T14:44:33.447470Z",
     "shell.execute_reply": "2022-05-15T14:44:33.445930Z"
    },
    "papermill": {
     "duration": 0.234407,
     "end_time": "2022-05-15T14:44:33.450382",
     "exception": false,
     "start_time": "2022-05-15T14:44:33.215975",
     "status": "completed"
    },
    "tags": []
   },
   "outputs": [
    {
     "data": {
      "text/plain": [
       "<AxesSubplot:>"
      ]
     },
     "execution_count": 8,
     "metadata": {},
     "output_type": "execute_result"
    },
    {
     "data": {
      "image/png": "[encoded data removed]",
      "text/plain": [
       "<Figure size 432x288 with 1 Axes>"
      ]
     },
     "metadata": {
      "needs_background": "light"
     },
     "output_type": "display_data"
    }
   ],
   "source": [
    "sns.heatmap(test.isnull(), cbar = False)"
   ]
  },
  {
   "cell_type": "markdown",
   "id": "8f44a216",
   "metadata": {
    "papermill": {
     "duration": 0.03009,
     "end_time": "2022-05-15T14:44:33.509539",
     "exception": false,
     "start_time": "2022-05-15T14:44:33.479449",
     "status": "completed"
    },
    "tags": []
   },
   "source": [
    "> Cabin 데이터들은 NaN값이 많으므로 Colum자체를 삭제"
   ]
  },
  {
   "cell_type": "code",
   "execution_count": 9,
   "id": "ef3b17c2",
   "metadata": {
    "execution": {
     "iopub.execute_input": "2022-05-15T14:44:33.570242Z",
     "iopub.status.busy": "2022-05-15T14:44:33.569648Z",
     "iopub.status.idle": "2022-05-15T14:44:33.597508Z",
     "shell.execute_reply": "2022-05-15T14:44:33.596563Z"
    },
    "papermill": {
     "duration": 0.062016,
     "end_time": "2022-05-15T14:44:33.600788",
     "exception": false,
     "start_time": "2022-05-15T14:44:33.538772",
     "status": "completed"
    },
    "tags": []
   },
   "outputs": [
    {
     "name": "stdout",
     "output_type": "stream",
     "text": [
      "<class 'pandas.core.frame.DataFrame'>\n",
      "RangeIndex: 891 entries, 0 to 890\n",
      "Data columns (total 8 columns):\n",
      " #   Column    Non-Null Count  Dtype  \n",
      "---  ------    --------------  -----  \n",
      " 0   Survived  891 non-null    int64  \n",
      " 1   Pclass    891 non-null    int64  \n",
      " 2   Sex       891 non-null    object \n",
      " 3   Age       714 non-null    float64\n",
      " 4   SibSp     891 non-null    int64  \n",
      " 5   Parch     891 non-null    int64  \n",
      " 6   Fare      891 non-null    float64\n",
      " 7   Embarked  889 non-null    object \n",
      "dtypes: float64(2), int64(4), object(2)\n",
      "memory usage: 55.8+ KB\n",
      "None\n",
      "<class 'pandas.core.frame.DataFrame'>\n",
      "RangeIndex: 418 entries, 0 to 417\n",
      "Data columns (total 7 columns):\n",
      " #   Column    Non-Null Count  Dtype  \n",
      "---  ------    --------------  -----  \n",
      " 0   Pclass    418 non-null    int64  \n",
      " 1   Sex       418 non-null    object \n",
      " 2   Age       332 non-null    float64\n",
      " 3   SibSp     418 non-null    int64  \n",
      " 4   Parch     418 non-null    int64  \n",
      " 5   Fare      417 non-null    float64\n",
      " 6   Embarked  418 non-null    object \n",
      "dtypes: float64(2), int64(3), object(2)\n",
      "memory usage: 23.0+ KB\n",
      "None\n"
     ]
    }
   ],
   "source": [
    "X = X.drop(['Cabin'], axis = 1)\n",
    "test = test.drop(['Cabin'], axis = 1)\n",
    "print(X.info())\n",
    "print(test.info())"
   ]
  },
  {
   "cell_type": "code",
   "execution_count": 10,
   "id": "20e5d822",
   "metadata": {
    "execution": {
     "iopub.execute_input": "2022-05-15T14:44:33.664159Z",
     "iopub.status.busy": "2022-05-15T14:44:33.663351Z",
     "iopub.status.idle": "2022-05-15T14:44:34.117143Z",
     "shell.execute_reply": "2022-05-15T14:44:34.116297Z"
    },
    "papermill": {
     "duration": 0.488107,
     "end_time": "2022-05-15T14:44:34.119031",
     "exception": false,
     "start_time": "2022-05-15T14:44:33.630924",
     "status": "completed"
    },
    "tags": []
   },
   "outputs": [
    {
     "data": {
      "text/plain": [
       "<AxesSubplot:>"
      ]
     },
     "execution_count": 10,
     "metadata": {},
     "output_type": "execute_result"
    },
    {
     "data": {
      "image/png": "[encoded data removed]",
      "text/plain": [
       "<Figure size 432x288 with 2 Axes>"
      ]
     },
     "metadata": {
      "needs_background": "light"
     },
     "output_type": "display_data"
    }
   ],
   "source": [
    "sns.heatmap(train.corr(), square = True, annot = True)"
   ]
  },
  {
   "cell_type": "markdown",
   "id": "a205535c",
   "metadata": {
    "papermill": {
     "duration": 0.032694,
     "end_time": "2022-05-15T14:44:34.184548",
     "exception": false,
     "start_time": "2022-05-15T14:44:34.151854",
     "status": "completed"
    },
    "tags": []
   },
   "source": [
    "> X에서는 각 열의 결측치가 있는 행은 삭제"
   ]
  },
  {
   "cell_type": "code",
   "execution_count": 11,
   "id": "f632d15b",
   "metadata": {
    "execution": {
     "iopub.execute_input": "2022-05-15T14:44:34.250829Z",
     "iopub.status.busy": "2022-05-15T14:44:34.250473Z",
     "iopub.status.idle": "2022-05-15T14:44:34.267135Z",
     "shell.execute_reply": "2022-05-15T14:44:34.266016Z"
    },
    "papermill": {
     "duration": 0.052717,
     "end_time": "2022-05-15T14:44:34.269375",
     "exception": false,
     "start_time": "2022-05-15T14:44:34.216658",
     "status": "completed"
    },
    "tags": []
   },
   "outputs": [
    {
     "name": "stdout",
     "output_type": "stream",
     "text": [
      "<class 'pandas.core.frame.DataFrame'>\n",
      "Int64Index: 712 entries, 0 to 890\n",
      "Data columns (total 8 columns):\n",
      " #   Column    Non-Null Count  Dtype  \n",
      "---  ------    --------------  -----  \n",
      " 0   Survived  712 non-null    int64  \n",
      " 1   Pclass    712 non-null    int64  \n",
      " 2   Sex       712 non-null    object \n",
      " 3   Age       712 non-null    float64\n",
      " 4   SibSp     712 non-null    int64  \n",
      " 5   Parch     712 non-null    int64  \n",
      " 6   Fare      712 non-null    float64\n",
      " 7   Embarked  712 non-null    object \n",
      "dtypes: float64(2), int64(4), object(2)\n",
      "memory usage: 50.1+ KB\n"
     ]
    }
   ],
   "source": [
    "X = X.dropna(subset = ['Age','Embarked' ])\n",
    "X.info()"
   ]
  },
  {
   "cell_type": "markdown",
   "id": "ee3b1dcd",
   "metadata": {
    "papermill": {
     "duration": 0.034034,
     "end_time": "2022-05-15T14:44:34.337049",
     "exception": false,
     "start_time": "2022-05-15T14:44:34.303015",
     "status": "completed"
    },
    "tags": []
   },
   "source": [
    "> test 데이터에서는 결측치 행을 삭제하는 것이 아니라 채워준다"
   ]
  },
  {
   "cell_type": "code",
   "execution_count": 12,
   "id": "019a7463",
   "metadata": {
    "execution": {
     "iopub.execute_input": "2022-05-15T14:44:34.406266Z",
     "iopub.status.busy": "2022-05-15T14:44:34.405980Z",
     "iopub.status.idle": "2022-05-15T14:44:34.411910Z",
     "shell.execute_reply": "2022-05-15T14:44:34.411135Z"
    },
    "papermill": {
     "duration": 0.043846,
     "end_time": "2022-05-15T14:44:34.413999",
     "exception": false,
     "start_time": "2022-05-15T14:44:34.370153",
     "status": "completed"
    },
    "tags": []
   },
   "outputs": [],
   "source": [
    "#평균값\n",
    "def miss_mean():\n",
    "    age_tmp = test['Age'].fillna(test['Age'].mean())\n",
    "\n",
    "    Fare_tmp = test['Fare'].fillna(test['Fare'].mean())\n",
    "    \n",
    "    return age_tmp, Fare_tmp\n",
    "\n",
    "#0\n",
    "def miss_zero():\n",
    "    age_tmp = test['Age'].fillna(0)\n",
    "\n",
    "    Fare_tmp = test['Fare'].fillna(0)\n",
    "    \n",
    "    return age_tmp, Fare_tmp\n",
    "\n",
    "#linear\n",
    "def miss_linear():\n",
    "    age_tmp = test['Age'].interpolate(method = 'linear', limit_direction = 'forward')\n",
    "\n",
    "    Fare_tmp = test['Fare'].interpolate(method = 'linear', limit_direction = 'forward')\n",
    "    \n",
    "    return age_tmp, Fare_tmp"
   ]
  },
  {
   "cell_type": "markdown",
   "id": "8074c7b4",
   "metadata": {
    "papermill": {
     "duration": 0.032732,
     "end_time": "2022-05-15T14:44:34.480209",
     "exception": false,
     "start_time": "2022-05-15T14:44:34.447477",
     "status": "completed"
    },
    "tags": []
   },
   "source": [
    "> * Column당 평균\n",
    "> * 상수 0\n",
    "> * 선형법"
   ]
  },
  {
   "cell_type": "code",
   "execution_count": 13,
   "id": "e34e2b69",
   "metadata": {
    "execution": {
     "iopub.execute_input": "2022-05-15T14:44:34.549052Z",
     "iopub.status.busy": "2022-05-15T14:44:34.548270Z",
     "iopub.status.idle": "2022-05-15T14:44:34.555090Z",
     "shell.execute_reply": "2022-05-15T14:44:34.554390Z"
    },
    "papermill": {
     "duration": 0.043445,
     "end_time": "2022-05-15T14:44:34.557489",
     "exception": false,
     "start_time": "2022-05-15T14:44:34.514044",
     "status": "completed"
    },
    "tags": []
   },
   "outputs": [],
   "source": [
    "test['Age'], test['Fare'] = miss_linear()"
   ]
  },
  {
   "cell_type": "markdown",
   "id": "c7dd4878",
   "metadata": {
    "papermill": {
     "duration": 0.031601,
     "end_time": "2022-05-15T14:44:34.624568",
     "exception": false,
     "start_time": "2022-05-15T14:44:34.592967",
     "status": "completed"
    },
    "tags": []
   },
   "source": [
    "# EDA"
   ]
  },
  {
   "cell_type": "code",
   "execution_count": 14,
   "id": "2e70dc3a",
   "metadata": {
    "execution": {
     "iopub.execute_input": "2022-05-15T14:44:34.694329Z",
     "iopub.status.busy": "2022-05-15T14:44:34.693930Z",
     "iopub.status.idle": "2022-05-15T14:44:34.865556Z",
     "shell.execute_reply": "2022-05-15T14:44:34.864334Z"
    },
    "papermill": {
     "duration": 0.208359,
     "end_time": "2022-05-15T14:44:34.868049",
     "exception": false,
     "start_time": "2022-05-15T14:44:34.659690",
     "status": "completed"
    },
    "tags": []
   },
   "outputs": [
    {
     "name": "stdout",
     "output_type": "stream",
     "text": [
      "<class 'pandas.core.frame.DataFrame'>\n",
      "Int64Index: 712 entries, 0 to 890\n",
      "Data columns (total 8 columns):\n",
      " #   Column    Non-Null Count  Dtype  \n",
      "---  ------    --------------  -----  \n",
      " 0   Survived  712 non-null    int64  \n",
      " 1   Pclass    712 non-null    int64  \n",
      " 2   Sex       712 non-null    int64  \n",
      " 3   Age       712 non-null    float64\n",
      " 4   SibSp     712 non-null    int64  \n",
      " 5   Parch     712 non-null    int64  \n",
      " 6   Fare      712 non-null    float64\n",
      " 7   Embarked  712 non-null    int64  \n",
      "dtypes: float64(2), int64(6)\n",
      "memory usage: 50.1 KB\n",
      "None\n",
      "<class 'pandas.core.frame.DataFrame'>\n",
      "RangeIndex: 418 entries, 0 to 417\n",
      "Data columns (total 7 columns):\n",
      " #   Column    Non-Null Count  Dtype  \n",
      "---  ------    --------------  -----  \n",
      " 0   Pclass    418 non-null    int64  \n",
      " 1   Sex       418 non-null    int64  \n",
      " 2   Age       418 non-null    float64\n",
      " 3   SibSp     418 non-null    int64  \n",
      " 4   Parch     418 non-null    int64  \n",
      " 5   Fare      418 non-null    float64\n",
      " 6   Embarked  418 non-null    int64  \n",
      "dtypes: float64(2), int64(5)\n",
      "memory usage: 23.0 KB\n",
      "None\n"
     ]
    }
   ],
   "source": [
    "from sklearn.preprocessing import LabelEncoder\n",
    "\n",
    "cols = ['Sex', 'Embarked']\n",
    "\n",
    "for col in cols:\n",
    "    le = LabelEncoder()\n",
    "    X[col] = le.fit_transform(X[col])\n",
    "    test[col] = le.transform(test[col])\n",
    "print(X.info())\n",
    "print(test.info())"
   ]
  },
  {
   "cell_type": "code",
   "execution_count": 15,
   "id": "99f020df",
   "metadata": {
    "execution": {
     "iopub.execute_input": "2022-05-15T14:44:34.935383Z",
     "iopub.status.busy": "2022-05-15T14:44:34.935126Z",
     "iopub.status.idle": "2022-05-15T14:44:34.945013Z",
     "shell.execute_reply": "2022-05-15T14:44:34.944056Z"
    },
    "papermill": {
     "duration": 0.046699,
     "end_time": "2022-05-15T14:44:34.948235",
     "exception": false,
     "start_time": "2022-05-15T14:44:34.901536",
     "status": "completed"
    },
    "tags": []
   },
   "outputs": [
    {
     "name": "stdout",
     "output_type": "stream",
     "text": [
      "[22.   38.   26.   35.   35.   54.    2.   27.   14.    4.   58.   20.\n",
      " 39.   14.   55.    2.   31.   35.   34.   15.   28.    8.   38.   19.\n",
      " 40.   66.   28.   42.   21.   18.   14.   40.   27.    3.   19.   18.\n",
      "  7.   21.   49.   29.   65.   21.   28.5   5.   11.   22.   45.    4.\n",
      " 29.   19.   17.   26.   32.   16.   21.   26.   32.   25.    0.83 30.\n",
      " 22.   29.   28.   17.   33.   16.   23.   24.   29.   20.   46.   26.\n",
      " 59.   71.   23.   34.   34.   28.   21.   33.   37.   28.   21.   38.\n",
      " 47.   14.5  22.   20.   17.   21.   70.5  29.   24.    2.   21.   32.5\n",
      " 32.5  54.   12.   24.   45.   33.   20.   47.   29.   25.   23.   19.\n",
      " 37.   16.   24.   22.   24.   19.   18.   19.   27.    9.   36.5  42.\n",
      " 51.   22.   55.5  40.5  51.   16.   30.   44.   40.   26.   17.    1.\n",
      "  9.   45.   28.   61.    4.    1.   21.   56.   18.   50.   30.   36.\n",
      "  9.    1.    4.   45.   40.   36.   32.   19.   19.    3.   44.   58.\n",
      " 42.   24.   28.   34.   45.5  18.    2.   32.   26.   16.   40.   24.\n",
      " 35.   22.   30.   31.   27.   42.   32.   30.   16.   27.   51.   38.\n",
      " 22.   19.   20.5  18.   35.   29.   59.    5.   24.   44.    8.   19.\n",
      " 33.   29.   22.   30.   44.   25.   24.   37.   54.   29.   62.   30.\n",
      " 41.   29.   30.   35.   50.    3.   52.   40.   36.   16.   25.   58.\n",
      " 35.   25.   41.   37.   63.   45.    7.   35.   65.   28.   16.   19.\n",
      " 33.   30.   22.   42.   22.   26.   19.   36.   24.   24.   23.5   2.\n",
      " 50.   19.    0.92 17.   30.   30.   24.   18.   26.   28.   43.   26.\n",
      " 24.   54.   31.   40.   22.   27.   30.   22.   36.   61.   36.   31.\n",
      " 16.   45.5  38.   16.   29.   41.   45.   45.    2.   24.   28.   25.\n",
      " 36.   24.   40.    3.   42.   23.   15.   25.   28.   22.   38.   40.\n",
      " 29.   45.   35.   30.   60.   24.   25.   18.   19.   22.    3.   22.\n",
      " 27.   20.   19.   42.    1.   32.   35.   18.    1.   36.   17.   36.\n",
      " 21.   28.   23.   24.   22.   31.   46.   23.   28.   39.   26.   21.\n",
      " 28.   20.   34.   51.    3.   21.   33.   44.   34.   18.   30.   10.\n",
      " 21.   29.   28.   18.   28.   19.   32.   28.   42.   17.   50.   14.\n",
      " 21.   24.   64.   31.   45.   20.   25.   28.    4.   13.   34.    5.\n",
      " 52.   36.   30.   49.   29.   65.   50.   48.   34.   47.   48.   38.\n",
      " 56.    0.75 38.   33.   23.   22.   34.   29.   22.    2.    9.   50.\n",
      " 63.   25.   35.   58.   30.    9.   21.   55.   71.   21.   54.   25.\n",
      " 24.   17.   21.   37.   16.   18.   33.   28.   26.   29.   36.   54.\n",
      " 24.   47.   34.   36.   32.   30.   22.   44.   40.5  50.   39.   23.\n",
      "  2.   17.   30.    7.   45.   30.   22.   36.    9.   11.   32.   50.\n",
      " 64.   19.   33.    8.   17.   27.   22.   22.   62.   48.   39.   36.\n",
      " 40.   28.   24.   19.   29.   32.   62.   53.   36.   16.   19.   34.\n",
      " 39.   32.   25.   39.   54.   36.   18.   47.   60.   22.   35.   52.\n",
      " 47.   37.   36.   49.   49.   24.   44.   35.   36.   30.   27.   22.\n",
      " 40.   39.   35.   24.   34.   26.    4.   26.   27.   42.   20.   21.\n",
      " 21.   61.   57.   21.   26.   80.   51.   32.    9.   28.   32.   31.\n",
      " 41.   20.   24.    2.    0.75 48.   19.   56.   23.   18.   21.   18.\n",
      " 24.   32.   23.   58.   50.   40.   47.   36.   20.   32.   25.   43.\n",
      " 40.   31.   70.   31.   18.   24.5  18.   43.   36.   27.   20.   14.\n",
      " 60.   25.   14.   19.   18.   15.   31.    4.   25.   60.   52.   44.\n",
      " 49.   42.   18.   35.   18.   25.   26.   39.   45.   42.   22.   24.\n",
      " 48.   29.   52.   19.   38.   27.   33.    6.   17.   34.   50.   27.\n",
      " 20.   30.   25.   25.   29.   11.   23.   23.   28.5  48.   35.   36.\n",
      " 21.   24.   31.   70.   16.   30.   19.   31.    4.    6.   33.   23.\n",
      " 48.    0.67 28.   18.   34.   33.   41.   20.   36.   16.   51.   30.5\n",
      " 32.   24.   48.   57.   54.   18.    5.   43.   13.   17.   29.   25.\n",
      " 25.   18.    8.    1.   46.   16.   25.   39.   49.   31.   30.   30.\n",
      " 34.   31.   11.    0.42 27.   31.   39.   18.   39.   33.   26.   39.\n",
      " 35.    6.   30.5  23.   31.   43.   10.   52.   27.   38.   27.    2.\n",
      "  1.   15.    0.83 23.   18.   39.   21.   32.   20.   16.   30.   34.5\n",
      " 17.   42.   35.   28.    4.   74.    9.   16.   44.   18.   45.   51.\n",
      " 24.   41.   21.   48.   24.   42.   27.   31.    4.   26.   47.   33.\n",
      " 47.   28.   15.   20.   19.   56.   25.   33.   22.   28.   25.   39.\n",
      " 27.   19.   26.   32.  ]\n"
     ]
    }
   ],
   "source": [
    "print(np.array(X['Age']))"
   ]
  },
  {
   "cell_type": "markdown",
   "id": "04267e82",
   "metadata": {
    "papermill": {
     "duration": 0.033859,
     "end_time": "2022-05-15T14:44:35.015653",
     "exception": false,
     "start_time": "2022-05-15T14:44:34.981794",
     "status": "completed"
    },
    "tags": []
   },
   "source": [
    "Age 데이터의 dtype이 float인 이유는 중간에 소수점 데이터가 섞여있음."
   ]
  },
  {
   "cell_type": "code",
   "execution_count": 16,
   "id": "be8bf455",
   "metadata": {
    "execution": {
     "iopub.execute_input": "2022-05-15T14:44:35.087033Z",
     "iopub.status.busy": "2022-05-15T14:44:35.086020Z",
     "iopub.status.idle": "2022-05-15T14:44:35.091883Z",
     "shell.execute_reply": "2022-05-15T14:44:35.091160Z"
    },
    "papermill": {
     "duration": 0.04318,
     "end_time": "2022-05-15T14:44:35.094177",
     "exception": false,
     "start_time": "2022-05-15T14:44:35.050997",
     "status": "completed"
    },
    "tags": []
   },
   "outputs": [],
   "source": [
    "X['Age'] = X['Age'].round(0).astype('int64')\n",
    "test['Age'] = test['Age'].round(0).astype('int64')"
   ]
  },
  {
   "cell_type": "markdown",
   "id": "78a7d868",
   "metadata": {
    "papermill": {
     "duration": 0.033633,
     "end_time": "2022-05-15T14:44:35.160463",
     "exception": false,
     "start_time": "2022-05-15T14:44:35.126830",
     "status": "completed"
    },
    "tags": []
   },
   "source": [
    "> 반올림 후 astype을 이용해 int형으로 바꿔줌"
   ]
  },
  {
   "cell_type": "code",
   "execution_count": 17,
   "id": "3582ca73",
   "metadata": {
    "execution": {
     "iopub.execute_input": "2022-05-15T14:44:35.227907Z",
     "iopub.status.busy": "2022-05-15T14:44:35.227586Z",
     "iopub.status.idle": "2022-05-15T14:44:35.233428Z",
     "shell.execute_reply": "2022-05-15T14:44:35.232507Z"
    },
    "papermill": {
     "duration": 0.04208,
     "end_time": "2022-05-15T14:44:35.235622",
     "exception": false,
     "start_time": "2022-05-15T14:44:35.193542",
     "status": "completed"
    },
    "tags": []
   },
   "outputs": [],
   "source": [
    "Y = X['Survived']\n",
    "X = X.drop(['Survived'], axis = 1)"
   ]
  },
  {
   "cell_type": "markdown",
   "id": "a570784c",
   "metadata": {
    "papermill": {
     "duration": 0.033992,
     "end_time": "2022-05-15T14:44:35.303681",
     "exception": false,
     "start_time": "2022-05-15T14:44:35.269689",
     "status": "completed"
    },
    "tags": []
   },
   "source": [
    "# Scaling"
   ]
  },
  {
   "cell_type": "code",
   "execution_count": 18,
   "id": "addf60dd",
   "metadata": {
    "execution": {
     "iopub.execute_input": "2022-05-15T14:44:35.371813Z",
     "iopub.status.busy": "2022-05-15T14:44:35.371209Z",
     "iopub.status.idle": "2022-05-15T14:44:35.378891Z",
     "shell.execute_reply": "2022-05-15T14:44:35.377969Z"
    },
    "papermill": {
     "duration": 0.044848,
     "end_time": "2022-05-15T14:44:35.381347",
     "exception": false,
     "start_time": "2022-05-15T14:44:35.336499",
     "status": "completed"
    },
    "tags": []
   },
   "outputs": [],
   "source": [
    "cols= ['Age', 'SibSp', 'Parch', 'Fare']\n",
    "\n",
    "for col in cols:\n",
    "    X[col] = np.log1p(X[col])\n",
    "    test[col] = np.log1p(test[col])"
   ]
  },
  {
   "cell_type": "markdown",
   "id": "09bd5b94",
   "metadata": {
    "papermill": {
     "duration": 0.034444,
     "end_time": "2022-05-15T14:44:35.448751",
     "exception": false,
     "start_time": "2022-05-15T14:44:35.414307",
     "status": "completed"
    },
    "tags": []
   },
   "source": [
    "# Data Split"
   ]
  },
  {
   "cell_type": "code",
   "execution_count": 19,
   "id": "06d33872",
   "metadata": {
    "execution": {
     "iopub.execute_input": "2022-05-15T14:44:35.519635Z",
     "iopub.status.busy": "2022-05-15T14:44:35.519320Z",
     "iopub.status.idle": "2022-05-15T14:44:35.592399Z",
     "shell.execute_reply": "2022-05-15T14:44:35.591062Z"
    },
    "papermill": {
     "duration": 0.11044,
     "end_time": "2022-05-15T14:44:35.594488",
     "exception": false,
     "start_time": "2022-05-15T14:44:35.484048",
     "status": "completed"
    },
    "tags": []
   },
   "outputs": [
    {
     "name": "stdout",
     "output_type": "stream",
     "text": [
      "(498, 7)\n",
      "(498,)\n",
      "(214, 7)\n",
      "(214,)\n"
     ]
    }
   ],
   "source": [
    "from sklearn.model_selection import train_test_split\n",
    "\n",
    "X_train, X_test, y_train, y_test = train_test_split(X, Y, test_size = 0.3, random_state=1, stratify = Y)\n",
    "print(X_train.shape)\n",
    "print(y_train.shape)\n",
    "print(X_test.shape)\n",
    "print(y_test.shape)"
   ]
  },
  {
   "cell_type": "markdown",
   "id": "6e2cbc29",
   "metadata": {
    "papermill": {
     "duration": 0.032673,
     "end_time": "2022-05-15T14:44:35.659904",
     "exception": false,
     "start_time": "2022-05-15T14:44:35.627231",
     "status": "completed"
    },
    "tags": []
   },
   "source": [
    "# Creat Modek & Model Training"
   ]
  },
  {
   "cell_type": "code",
   "execution_count": 20,
   "id": "9c9a8dae",
   "metadata": {
    "execution": {
     "iopub.execute_input": "2022-05-15T14:44:35.731365Z",
     "iopub.status.busy": "2022-05-15T14:44:35.731101Z",
     "iopub.status.idle": "2022-05-15T14:44:36.180130Z",
     "shell.execute_reply": "2022-05-15T14:44:36.179165Z"
    },
    "papermill": {
     "duration": 0.487484,
     "end_time": "2022-05-15T14:44:36.182869",
     "exception": false,
     "start_time": "2022-05-15T14:44:35.695385",
     "status": "completed"
    },
    "tags": []
   },
   "outputs": [
    {
     "name": "stderr",
     "output_type": "stream",
     "text": [
      "/opt/conda/lib/python3.7/site-packages/sklearn/linear_model/_sag.py:354: ConvergenceWarning: The max_iter was reached which means the coef_ did not converge\n",
      "  ConvergenceWarning,\n",
      "/opt/conda/lib/python3.7/site-packages/sklearn/linear_model/_sag.py:354: ConvergenceWarning: The max_iter was reached which means the coef_ did not converge\n",
      "  ConvergenceWarning,\n",
      "/opt/conda/lib/python3.7/site-packages/sklearn/linear_model/_sag.py:354: ConvergenceWarning: The max_iter was reached which means the coef_ did not converge\n",
      "  ConvergenceWarning,\n",
      "/opt/conda/lib/python3.7/site-packages/sklearn/linear_model/_sag.py:354: ConvergenceWarning: The max_iter was reached which means the coef_ did not converge\n",
      "  ConvergenceWarning,\n",
      "/opt/conda/lib/python3.7/site-packages/sklearn/linear_model/_sag.py:354: ConvergenceWarning: The max_iter was reached which means the coef_ did not converge\n",
      "  ConvergenceWarning,\n",
      "/opt/conda/lib/python3.7/site-packages/sklearn/linear_model/_sag.py:354: ConvergenceWarning: The max_iter was reached which means the coef_ did not converge\n",
      "  ConvergenceWarning,\n",
      "/opt/conda/lib/python3.7/site-packages/sklearn/linear_model/_sag.py:354: ConvergenceWarning: The max_iter was reached which means the coef_ did not converge\n",
      "  ConvergenceWarning,\n",
      "/opt/conda/lib/python3.7/site-packages/sklearn/linear_model/_sag.py:354: ConvergenceWarning: The max_iter was reached which means the coef_ did not converge\n",
      "  ConvergenceWarning,\n",
      "/opt/conda/lib/python3.7/site-packages/sklearn/linear_model/_sag.py:354: ConvergenceWarning: The max_iter was reached which means the coef_ did not converge\n",
      "  ConvergenceWarning,\n",
      "/opt/conda/lib/python3.7/site-packages/sklearn/linear_model/_sag.py:354: ConvergenceWarning: The max_iter was reached which means the coef_ did not converge\n",
      "  ConvergenceWarning,\n",
      "/opt/conda/lib/python3.7/site-packages/sklearn/linear_model/_sag.py:354: ConvergenceWarning: The max_iter was reached which means the coef_ did not converge\n",
      "  ConvergenceWarning,\n",
      "/opt/conda/lib/python3.7/site-packages/sklearn/linear_model/_sag.py:354: ConvergenceWarning: The max_iter was reached which means the coef_ did not converge\n",
      "  ConvergenceWarning,\n",
      "/opt/conda/lib/python3.7/site-packages/sklearn/linear_model/_sag.py:354: ConvergenceWarning: The max_iter was reached which means the coef_ did not converge\n",
      "  ConvergenceWarning,\n",
      "/opt/conda/lib/python3.7/site-packages/sklearn/linear_model/_sag.py:354: ConvergenceWarning: The max_iter was reached which means the coef_ did not converge\n",
      "  ConvergenceWarning,\n",
      "/opt/conda/lib/python3.7/site-packages/sklearn/linear_model/_sag.py:354: ConvergenceWarning: The max_iter was reached which means the coef_ did not converge\n",
      "  ConvergenceWarning,\n",
      "/opt/conda/lib/python3.7/site-packages/sklearn/linear_model/_sag.py:354: ConvergenceWarning: The max_iter was reached which means the coef_ did not converge\n",
      "  ConvergenceWarning,\n",
      "/opt/conda/lib/python3.7/site-packages/sklearn/linear_model/_sag.py:354: ConvergenceWarning: The max_iter was reached which means the coef_ did not converge\n",
      "  ConvergenceWarning,\n",
      "/opt/conda/lib/python3.7/site-packages/sklearn/linear_model/_sag.py:354: ConvergenceWarning: The max_iter was reached which means the coef_ did not converge\n",
      "  ConvergenceWarning,\n",
      "/opt/conda/lib/python3.7/site-packages/sklearn/linear_model/_sag.py:354: ConvergenceWarning: The max_iter was reached which means the coef_ did not converge\n",
      "  ConvergenceWarning,\n",
      "/opt/conda/lib/python3.7/site-packages/sklearn/linear_model/_sag.py:354: ConvergenceWarning: The max_iter was reached which means the coef_ did not converge\n",
      "  ConvergenceWarning,\n",
      "/opt/conda/lib/python3.7/site-packages/sklearn/linear_model/_sag.py:354: ConvergenceWarning: The max_iter was reached which means the coef_ did not converge\n",
      "  ConvergenceWarning,\n",
      "/opt/conda/lib/python3.7/site-packages/sklearn/linear_model/_sag.py:354: ConvergenceWarning: The max_iter was reached which means the coef_ did not converge\n",
      "  ConvergenceWarning,\n"
     ]
    }
   ],
   "source": [
    "from sklearn.model_selection import GridSearchCV\n",
    "from sklearn.linear_model import LogisticRegression\n",
    "\n",
    "para_grid = {'C' : [0.001, 0.01, 0.1, 1, 10 ,50],\n",
    "             'solver' : ['sag', 'saga']}\n",
    "\n",
    "Logit1 = GridSearchCV(LogisticRegression(penalty='l2' ,random_state=1), para_grid, cv = 3)\n",
    "\n",
    "Logit1.fit(X_train, y_train)\n",
    "\n",
    "y_test_logistic = Logit1.predict(X_test)"
   ]
  },
  {
   "cell_type": "code",
   "execution_count": 21,
   "id": "19dc0601",
   "metadata": {
    "execution": {
     "iopub.execute_input": "2022-05-15T14:44:36.253423Z",
     "iopub.status.busy": "2022-05-15T14:44:36.253141Z",
     "iopub.status.idle": "2022-05-15T14:44:36.504649Z",
     "shell.execute_reply": "2022-05-15T14:44:36.503956Z"
    },
    "papermill": {
     "duration": 0.290192,
     "end_time": "2022-05-15T14:44:36.507053",
     "exception": false,
     "start_time": "2022-05-15T14:44:36.216861",
     "status": "completed"
    },
    "tags": []
   },
   "outputs": [],
   "source": [
    "from sklearn.neighbors import KNeighborsClassifier\n",
    "\n",
    "knn = KNeighborsClassifier(n_neighbors = 2, p=1)\n",
    "\n",
    "para_grid = {'n_neighbors' : [3,4,5,6,7,8]}\n",
    "\n",
    "knn = GridSearchCV(KNeighborsClassifier(p=1), para_grid, cv = 3)\n",
    "\n",
    "knn.fit(X_train,y_train)\n",
    "\n",
    "y_test_knn = knn.predict(X_test)"
   ]
  },
  {
   "cell_type": "code",
   "execution_count": 22,
   "id": "dfd79021",
   "metadata": {
    "execution": {
     "iopub.execute_input": "2022-05-15T14:44:36.579157Z",
     "iopub.status.busy": "2022-05-15T14:44:36.578651Z",
     "iopub.status.idle": "2022-05-15T14:44:36.619034Z",
     "shell.execute_reply": "2022-05-15T14:44:36.617771Z"
    },
    "papermill": {
     "duration": 0.079949,
     "end_time": "2022-05-15T14:44:36.621434",
     "exception": false,
     "start_time": "2022-05-15T14:44:36.541485",
     "status": "completed"
    },
    "tags": []
   },
   "outputs": [],
   "source": [
    "from sklearn.discriminant_analysis import LinearDiscriminantAnalysis\n",
    "\n",
    "cld =LinearDiscriminantAnalysis(store_covariance=True)\n",
    "\n",
    "cld.fit(X_train, y_train)\n",
    "\n",
    "y_test_lda = cld.predict(X_test)"
   ]
  },
  {
   "cell_type": "code",
   "execution_count": 23,
   "id": "5d617f96",
   "metadata": {
    "execution": {
     "iopub.execute_input": "2022-05-15T14:44:36.696620Z",
     "iopub.status.busy": "2022-05-15T14:44:36.695708Z",
     "iopub.status.idle": "2022-05-15T14:44:39.245705Z",
     "shell.execute_reply": "2022-05-15T14:44:39.244873Z"
    },
    "papermill": {
     "duration": 2.590955,
     "end_time": "2022-05-15T14:44:39.248472",
     "exception": false,
     "start_time": "2022-05-15T14:44:36.657517",
     "status": "completed"
    },
    "tags": []
   },
   "outputs": [
    {
     "name": "stderr",
     "output_type": "stream",
     "text": [
      "/opt/conda/lib/python3.7/site-packages/sklearn/svm/_base.py:1208: ConvergenceWarning: Liblinear failed to converge, increase the number of iterations.\n",
      "  ConvergenceWarning,\n",
      "/opt/conda/lib/python3.7/site-packages/sklearn/svm/_base.py:1208: ConvergenceWarning: Liblinear failed to converge, increase the number of iterations.\n",
      "  ConvergenceWarning,\n",
      "/opt/conda/lib/python3.7/site-packages/sklearn/svm/_base.py:1208: ConvergenceWarning: Liblinear failed to converge, increase the number of iterations.\n",
      "  ConvergenceWarning,\n",
      "/opt/conda/lib/python3.7/site-packages/sklearn/svm/_base.py:1208: ConvergenceWarning: Liblinear failed to converge, increase the number of iterations.\n",
      "  ConvergenceWarning,\n",
      "/opt/conda/lib/python3.7/site-packages/sklearn/svm/_base.py:1208: ConvergenceWarning: Liblinear failed to converge, increase the number of iterations.\n",
      "  ConvergenceWarning,\n",
      "/opt/conda/lib/python3.7/site-packages/sklearn/svm/_base.py:1208: ConvergenceWarning: Liblinear failed to converge, increase the number of iterations.\n",
      "  ConvergenceWarning,\n",
      "/opt/conda/lib/python3.7/site-packages/sklearn/svm/_base.py:1208: ConvergenceWarning: Liblinear failed to converge, increase the number of iterations.\n",
      "  ConvergenceWarning,\n",
      "/opt/conda/lib/python3.7/site-packages/sklearn/svm/_base.py:1208: ConvergenceWarning: Liblinear failed to converge, increase the number of iterations.\n",
      "  ConvergenceWarning,\n",
      "/opt/conda/lib/python3.7/site-packages/sklearn/svm/_base.py:1208: ConvergenceWarning: Liblinear failed to converge, increase the number of iterations.\n",
      "  ConvergenceWarning,\n",
      "/opt/conda/lib/python3.7/site-packages/sklearn/svm/_base.py:1208: ConvergenceWarning: Liblinear failed to converge, increase the number of iterations.\n",
      "  ConvergenceWarning,\n",
      "/opt/conda/lib/python3.7/site-packages/sklearn/svm/_base.py:1208: ConvergenceWarning: Liblinear failed to converge, increase the number of iterations.\n",
      "  ConvergenceWarning,\n",
      "/opt/conda/lib/python3.7/site-packages/sklearn/svm/_base.py:1208: ConvergenceWarning: Liblinear failed to converge, increase the number of iterations.\n",
      "  ConvergenceWarning,\n",
      "/opt/conda/lib/python3.7/site-packages/sklearn/svm/_base.py:1208: ConvergenceWarning: Liblinear failed to converge, increase the number of iterations.\n",
      "  ConvergenceWarning,\n",
      "/opt/conda/lib/python3.7/site-packages/sklearn/svm/_base.py:1208: ConvergenceWarning: Liblinear failed to converge, increase the number of iterations.\n",
      "  ConvergenceWarning,\n",
      "/opt/conda/lib/python3.7/site-packages/sklearn/svm/_base.py:1208: ConvergenceWarning: Liblinear failed to converge, increase the number of iterations.\n",
      "  ConvergenceWarning,\n",
      "/opt/conda/lib/python3.7/site-packages/sklearn/svm/_base.py:1208: ConvergenceWarning: Liblinear failed to converge, increase the number of iterations.\n",
      "  ConvergenceWarning,\n",
      "/opt/conda/lib/python3.7/site-packages/sklearn/svm/_base.py:1208: ConvergenceWarning: Liblinear failed to converge, increase the number of iterations.\n",
      "  ConvergenceWarning,\n",
      "/opt/conda/lib/python3.7/site-packages/sklearn/svm/_base.py:1208: ConvergenceWarning: Liblinear failed to converge, increase the number of iterations.\n",
      "  ConvergenceWarning,\n",
      "/opt/conda/lib/python3.7/site-packages/sklearn/svm/_base.py:1208: ConvergenceWarning: Liblinear failed to converge, increase the number of iterations.\n",
      "  ConvergenceWarning,\n",
      "/opt/conda/lib/python3.7/site-packages/sklearn/svm/_base.py:1208: ConvergenceWarning: Liblinear failed to converge, increase the number of iterations.\n",
      "  ConvergenceWarning,\n",
      "/opt/conda/lib/python3.7/site-packages/sklearn/svm/_base.py:1208: ConvergenceWarning: Liblinear failed to converge, increase the number of iterations.\n",
      "  ConvergenceWarning,\n",
      "/opt/conda/lib/python3.7/site-packages/sklearn/svm/_base.py:1208: ConvergenceWarning: Liblinear failed to converge, increase the number of iterations.\n",
      "  ConvergenceWarning,\n",
      "/opt/conda/lib/python3.7/site-packages/sklearn/svm/_base.py:1208: ConvergenceWarning: Liblinear failed to converge, increase the number of iterations.\n",
      "  ConvergenceWarning,\n",
      "/opt/conda/lib/python3.7/site-packages/sklearn/svm/_base.py:1208: ConvergenceWarning: Liblinear failed to converge, increase the number of iterations.\n",
      "  ConvergenceWarning,\n",
      "/opt/conda/lib/python3.7/site-packages/sklearn/svm/_base.py:1208: ConvergenceWarning: Liblinear failed to converge, increase the number of iterations.\n",
      "  ConvergenceWarning,\n",
      "/opt/conda/lib/python3.7/site-packages/sklearn/svm/_base.py:1208: ConvergenceWarning: Liblinear failed to converge, increase the number of iterations.\n",
      "  ConvergenceWarning,\n",
      "/opt/conda/lib/python3.7/site-packages/sklearn/svm/_base.py:1208: ConvergenceWarning: Liblinear failed to converge, increase the number of iterations.\n",
      "  ConvergenceWarning,\n",
      "/opt/conda/lib/python3.7/site-packages/sklearn/svm/_base.py:1208: ConvergenceWarning: Liblinear failed to converge, increase the number of iterations.\n",
      "  ConvergenceWarning,\n",
      "/opt/conda/lib/python3.7/site-packages/sklearn/svm/_base.py:1208: ConvergenceWarning: Liblinear failed to converge, increase the number of iterations.\n",
      "  ConvergenceWarning,\n",
      "/opt/conda/lib/python3.7/site-packages/sklearn/svm/_base.py:1208: ConvergenceWarning: Liblinear failed to converge, increase the number of iterations.\n",
      "  ConvergenceWarning,\n",
      "/opt/conda/lib/python3.7/site-packages/sklearn/svm/_base.py:1208: ConvergenceWarning: Liblinear failed to converge, increase the number of iterations.\n",
      "  ConvergenceWarning,\n",
      "/opt/conda/lib/python3.7/site-packages/sklearn/svm/_base.py:1208: ConvergenceWarning: Liblinear failed to converge, increase the number of iterations.\n",
      "  ConvergenceWarning,\n",
      "/opt/conda/lib/python3.7/site-packages/sklearn/svm/_base.py:1208: ConvergenceWarning: Liblinear failed to converge, increase the number of iterations.\n",
      "  ConvergenceWarning,\n",
      "/opt/conda/lib/python3.7/site-packages/sklearn/svm/_base.py:1208: ConvergenceWarning: Liblinear failed to converge, increase the number of iterations.\n",
      "  ConvergenceWarning,\n",
      "/opt/conda/lib/python3.7/site-packages/sklearn/svm/_base.py:1208: ConvergenceWarning: Liblinear failed to converge, increase the number of iterations.\n",
      "  ConvergenceWarning,\n",
      "/opt/conda/lib/python3.7/site-packages/sklearn/svm/_base.py:1208: ConvergenceWarning: Liblinear failed to converge, increase the number of iterations.\n",
      "  ConvergenceWarning,\n",
      "/opt/conda/lib/python3.7/site-packages/sklearn/svm/_base.py:1208: ConvergenceWarning: Liblinear failed to converge, increase the number of iterations.\n",
      "  ConvergenceWarning,\n"
     ]
    }
   ],
   "source": [
    "from sklearn.svm import LinearSVC\n",
    "\n",
    "para_grid = {'loss' : ['hinge', 'squared_hinge'],\n",
    "              'multi_class' : ['ovr', 'crammer_singer'], \n",
    "             'C' : [0.001, 0.01, 0.1, 1, 10]}\n",
    "\n",
    "svm = GridSearchCV(LinearSVC(class_weight='balanced'), para_grid, cv = 3)\n",
    "\n",
    "svm.fit(X_train,y_train)\n",
    "y_test_svm = svm.predict(X_test)"
   ]
  },
  {
   "cell_type": "markdown",
   "id": "07fcd606",
   "metadata": {
    "papermill": {
     "duration": 0.038117,
     "end_time": "2022-05-15T14:44:39.324416",
     "exception": false,
     "start_time": "2022-05-15T14:44:39.286299",
     "status": "completed"
    },
    "tags": []
   },
   "source": [
    "# Accuracy"
   ]
  },
  {
   "cell_type": "code",
   "execution_count": 24,
   "id": "3e58f0e3",
   "metadata": {
    "execution": {
     "iopub.execute_input": "2022-05-15T14:44:39.406350Z",
     "iopub.status.busy": "2022-05-15T14:44:39.405914Z",
     "iopub.status.idle": "2022-05-15T14:44:39.413707Z",
     "shell.execute_reply": "2022-05-15T14:44:39.412775Z"
    },
    "papermill": {
     "duration": 0.05324,
     "end_time": "2022-05-15T14:44:39.416509",
     "exception": false,
     "start_time": "2022-05-15T14:44:39.363269",
     "status": "completed"
    },
    "tags": []
   },
   "outputs": [
    {
     "name": "stdout",
     "output_type": "stream",
     "text": [
      "Logistic  : 0.8130841121495327\n",
      "KNN  : 0.8130841121495327\n",
      "LDA  : 0.8037383177570093\n",
      "SVM  : 0.7663551401869159\n"
     ]
    }
   ],
   "source": [
    "from sklearn.metrics import accuracy_score\n",
    "\n",
    "print(\"Logistic  :\" , accuracy_score(y_test,y_test_logistic))\n",
    "print(\"KNN  :\" , accuracy_score(y_test,y_test_knn))\n",
    "print(\"LDA  :\" , accuracy_score(y_test,y_test_lda))\n",
    "print(\"SVM  :\" , accuracy_score(y_test,y_test_svm))"
   ]
  },
  {
   "cell_type": "code",
   "execution_count": 25,
   "id": "072d60ba",
   "metadata": {
    "execution": {
     "iopub.execute_input": "2022-05-15T14:44:39.498873Z",
     "iopub.status.busy": "2022-05-15T14:44:39.498531Z",
     "iopub.status.idle": "2022-05-15T14:44:39.512921Z",
     "shell.execute_reply": "2022-05-15T14:44:39.511989Z"
    },
    "papermill": {
     "duration": 0.057211,
     "end_time": "2022-05-15T14:44:39.515063",
     "exception": false,
     "start_time": "2022-05-15T14:44:39.457852",
     "status": "completed"
    },
    "tags": []
   },
   "outputs": [
    {
     "data": {
      "text/html": [
       "<div>\n",
       "<style scoped>\n",
       "    .dataframe tbody tr th:only-of-type {\n",
       "        vertical-align: middle;\n",
       "    }\n",
       "\n",
       "    .dataframe tbody tr th {\n",
       "        vertical-align: top;\n",
       "    }\n",
       "\n",
       "    .dataframe thead th {\n",
       "        text-align: right;\n",
       "    }\n",
       "</style>\n",
       "<table border=\"1\" class=\"dataframe\">\n",
       "  <thead>\n",
       "    <tr style=\"text-align: right;\">\n",
       "      <th></th>\n",
       "      <th>PassengerId</th>\n",
       "      <th>Survived</th>\n",
       "    </tr>\n",
       "  </thead>\n",
       "  <tbody>\n",
       "    <tr>\n",
       "      <th>0</th>\n",
       "      <td>892</td>\n",
       "      <td>0</td>\n",
       "    </tr>\n",
       "    <tr>\n",
       "      <th>1</th>\n",
       "      <td>893</td>\n",
       "      <td>1</td>\n",
       "    </tr>\n",
       "    <tr>\n",
       "      <th>2</th>\n",
       "      <td>894</td>\n",
       "      <td>0</td>\n",
       "    </tr>\n",
       "    <tr>\n",
       "      <th>3</th>\n",
       "      <td>895</td>\n",
       "      <td>0</td>\n",
       "    </tr>\n",
       "    <tr>\n",
       "      <th>4</th>\n",
       "      <td>896</td>\n",
       "      <td>1</td>\n",
       "    </tr>\n",
       "    <tr>\n",
       "      <th>...</th>\n",
       "      <td>...</td>\n",
       "      <td>...</td>\n",
       "    </tr>\n",
       "    <tr>\n",
       "      <th>413</th>\n",
       "      <td>1305</td>\n",
       "      <td>0</td>\n",
       "    </tr>\n",
       "    <tr>\n",
       "      <th>414</th>\n",
       "      <td>1306</td>\n",
       "      <td>1</td>\n",
       "    </tr>\n",
       "    <tr>\n",
       "      <th>415</th>\n",
       "      <td>1307</td>\n",
       "      <td>0</td>\n",
       "    </tr>\n",
       "    <tr>\n",
       "      <th>416</th>\n",
       "      <td>1308</td>\n",
       "      <td>0</td>\n",
       "    </tr>\n",
       "    <tr>\n",
       "      <th>417</th>\n",
       "      <td>1309</td>\n",
       "      <td>0</td>\n",
       "    </tr>\n",
       "  </tbody>\n",
       "</table>\n",
       "<p>418 rows × 2 columns</p>\n",
       "</div>"
      ],
      "text/plain": [
       "     PassengerId  Survived\n",
       "0            892         0\n",
       "1            893         1\n",
       "2            894         0\n",
       "3            895         0\n",
       "4            896         1\n",
       "..           ...       ...\n",
       "413         1305         0\n",
       "414         1306         1\n",
       "415         1307         0\n",
       "416         1308         0\n",
       "417         1309         0\n",
       "\n",
       "[418 rows x 2 columns]"
      ]
     },
     "execution_count": 25,
     "metadata": {},
     "output_type": "execute_result"
    }
   ],
   "source": [
    "submit['Survived'] = svm.predict(test)\n",
    "submit"
   ]
  },
  {
   "cell_type": "code",
   "execution_count": 26,
   "id": "1fdefb65",
   "metadata": {
    "execution": {
     "iopub.execute_input": "2022-05-15T14:44:39.595577Z",
     "iopub.status.busy": "2022-05-15T14:44:39.594950Z",
     "iopub.status.idle": "2022-05-15T14:44:39.603139Z",
     "shell.execute_reply": "2022-05-15T14:44:39.602463Z"
    },
    "papermill": {
     "duration": 0.050985,
     "end_time": "2022-05-15T14:44:39.605268",
     "exception": false,
     "start_time": "2022-05-15T14:44:39.554283",
     "status": "completed"
    },
    "tags": []
   },
   "outputs": [],
   "source": [
    "submit.to_csv(\"Model_svm.csv\", index = False)"
   ]
  }
 ],
 "metadata": {
  "kernelspec": {
   "display_name": "Python 3",
   "language": "python",
   "name": "python3"
  },
  "language_info": {
   "codemirror_mode": {
    "name": "ipython",
    "version": 3
   },
   "file_extension": ".py",
   "mimetype": "text/x-python",
   "name": "python",
   "nbconvert_exporter": "python",
   "pygments_lexer": "ipython3",
   "version": "3.7.12"
  },
  "papermill": {
   "default_parameters": {},
   "duration": 19.183831,
   "end_time": "2022-05-15T14:44:40.366055",
   "environment_variables": {},
   "exception": null,
   "input_path": "__notebook__.ipynb",
   "output_path": "__notebook__.ipynb",
   "parameters": {},
   "start_time": "2022-05-15T14:44:21.182224",
   "version": "2.3.4"
  }
 },
 "nbformat": 4,
 "nbformat_minor": 5
}
