{
 "cells": [
  {
   "cell_type": "code",
   "execution_count": 1,
   "id": "a912e44f",
   "metadata": {
    "_cell_guid": "b1076dfc-b9ad-4769-8c92-a6c4dae69d19",
    "_uuid": "8f2839f25d086af736a60e9eeb907d3b93b6e0e5",
    "execution": {
     "iopub.execute_input": "2022-05-22T14:47:32.142299Z",
     "iopub.status.busy": "2022-05-22T14:47:32.141868Z",
     "iopub.status.idle": "2022-05-22T14:47:32.155732Z",
     "shell.execute_reply": "2022-05-22T14:47:32.154755Z"
    },
    "papermill": {
     "duration": 0.045863,
     "end_time": "2022-05-22T14:47:32.158070",
     "exception": false,
     "start_time": "2022-05-22T14:47:32.112207",
     "status": "completed"
    },
    "tags": []
   },
   "outputs": [
    {
     "name": "stdout",
     "output_type": "stream",
     "text": [
      "/kaggle/input/titanic/train.csv\n",
      "/kaggle/input/titanic/test.csv\n",
      "/kaggle/input/titanic/gender_submission.csv\n"
     ]
    }
   ],
   "source": [
    "# This Python 3 environment comes with many helpful analytics libraries installed\n",
    "# It is defined by the kaggle/python Docker image: https://github.com/kaggle/docker-python\n",
    "# For example, here's several helpful packages to load\n",
    "\n",
    "import numpy as np # linear algebra\n",
    "import pandas as pd # data processing, CSV file I/O (e.g. pd.read_csv)\n",
    "\n",
    "# Input data files are available in the read-only \"../input/\" directory\n",
    "# For example, running this (by clicking run or pressing Shift+Enter) will list all files under the input directory\n",
    "\n",
    "import os\n",
    "for dirname, _, filenames in os.walk('/kaggle/input'):\n",
    "    for filename in filenames:\n",
    "        print(os.path.join(dirname, filename))\n",
    "\n",
    "# You can write up to 20GB to the current directory (/kaggle/working/) that gets preserved as output when you create a version using \"Save & Run All\" \n",
    "# You can also write temporary files to /kaggle/temp/, but they won't be saved outside of the current session"
   ]
  },
  {
   "cell_type": "code",
   "execution_count": 2,
   "id": "43c6cdf0",
   "metadata": {
    "execution": {
     "iopub.execute_input": "2022-05-22T14:47:32.218421Z",
     "iopub.status.busy": "2022-05-22T14:47:32.218113Z",
     "iopub.status.idle": "2022-05-22T14:47:32.249416Z",
     "shell.execute_reply": "2022-05-22T14:47:32.248692Z"
    },
    "papermill": {
     "duration": 0.064894,
     "end_time": "2022-05-22T14:47:32.251455",
     "exception": false,
     "start_time": "2022-05-22T14:47:32.186561",
     "status": "completed"
    },
    "tags": []
   },
   "outputs": [],
   "source": [
    "train = pd.read_csv(\"/kaggle/input/titanic/train.csv\")\n",
    "test = pd.read_csv(\"/kaggle/input/titanic/test.csv\")\n",
    "submission = pd.read_csv(\"/kaggle/input/titanic/gender_submission.csv\")"
   ]
  },
  {
   "cell_type": "markdown",
   "id": "4666c70d",
   "metadata": {
    "papermill": {
     "duration": 0.027166,
     "end_time": "2022-05-22T14:47:32.306823",
     "exception": false,
     "start_time": "2022-05-22T14:47:32.279657",
     "status": "completed"
    },
    "tags": []
   },
   "source": [
    "# 랜덤 시드 고정"
   ]
  },
  {
   "cell_type": "code",
   "execution_count": 3,
   "id": "234cef94",
   "metadata": {
    "execution": {
     "iopub.execute_input": "2022-05-22T14:47:32.363339Z",
     "iopub.status.busy": "2022-05-22T14:47:32.362790Z",
     "iopub.status.idle": "2022-05-22T14:47:32.367225Z",
     "shell.execute_reply": "2022-05-22T14:47:32.366460Z"
    },
    "papermill": {
     "duration": 0.03521,
     "end_time": "2022-05-22T14:47:32.369126",
     "exception": false,
     "start_time": "2022-05-22T14:47:32.333916",
     "status": "completed"
    },
    "tags": []
   },
   "outputs": [],
   "source": [
    "import random\n",
    "import os\n",
    "seed = 42\n",
    "random.seed(seed)\n",
    "np.random.seed(seed)\n",
    "os.environ[\"PYTHONHASHSEED\"] = str(seed)"
   ]
  },
  {
   "cell_type": "code",
   "execution_count": 4,
   "id": "b7cc3ac7",
   "metadata": {
    "execution": {
     "iopub.execute_input": "2022-05-22T14:47:32.424821Z",
     "iopub.status.busy": "2022-05-22T14:47:32.424579Z",
     "iopub.status.idle": "2022-05-22T14:47:32.449870Z",
     "shell.execute_reply": "2022-05-22T14:47:32.448990Z"
    },
    "papermill": {
     "duration": 0.055088,
     "end_time": "2022-05-22T14:47:32.452594",
     "exception": false,
     "start_time": "2022-05-22T14:47:32.397506",
     "status": "completed"
    },
    "tags": []
   },
   "outputs": [
    {
     "name": "stdout",
     "output_type": "stream",
     "text": [
      "<class 'pandas.core.frame.DataFrame'>\n",
      "RangeIndex: 891 entries, 0 to 890\n",
      "Data columns (total 12 columns):\n",
      " #   Column       Non-Null Count  Dtype  \n",
      "---  ------       --------------  -----  \n",
      " 0   PassengerId  891 non-null    int64  \n",
      " 1   Survived     891 non-null    int64  \n",
      " 2   Pclass       891 non-null    int64  \n",
      " 3   Name         891 non-null    object \n",
      " 4   Sex          891 non-null    object \n",
      " 5   Age          714 non-null    float64\n",
      " 6   SibSp        891 non-null    int64  \n",
      " 7   Parch        891 non-null    int64  \n",
      " 8   Ticket       891 non-null    object \n",
      " 9   Fare         891 non-null    float64\n",
      " 10  Cabin        204 non-null    object \n",
      " 11  Embarked     889 non-null    object \n",
      "dtypes: float64(2), int64(5), object(5)\n",
      "memory usage: 83.7+ KB\n"
     ]
    }
   ],
   "source": [
    "train.info()"
   ]
  },
  {
   "cell_type": "markdown",
   "id": "492346d6",
   "metadata": {
    "papermill": {
     "duration": 0.026695,
     "end_time": "2022-05-22T14:47:32.507099",
     "exception": false,
     "start_time": "2022-05-22T14:47:32.480404",
     "status": "completed"
    },
    "tags": []
   },
   "source": [
    "1. PassengerId : 승객 번호\n",
    "2. Survived : 생존여부(1: 생존, 0 : 사망)\n",
    "3. Pclass : 승선권 클래스(1 : 1st, 2 : 2nd ,3 : 3rd)\n",
    "4. Name : 승객 이름\n",
    "5. Sex : 승객 성별\n",
    "6. Age : 승객 나이\n",
    "7. SibSp : 동반한 형제자매, 배우자 수\n",
    "8. Parch : 동반한 부모, 자식 수\n",
    "9. Ticket : 티켓의 고유 넘버\n",
    "10. Fare 티켓의 요금\n",
    "11. Cabin : 객실 번호\n",
    "12. Embarked : 승선한 항구명(C : Cherbourg, Q : Queenstown, S : Southampton)"
   ]
  },
  {
   "cell_type": "code",
   "execution_count": 5,
   "id": "4d8495b8",
   "metadata": {
    "execution": {
     "iopub.execute_input": "2022-05-22T14:47:32.561899Z",
     "iopub.status.busy": "2022-05-22T14:47:32.561607Z",
     "iopub.status.idle": "2022-05-22T14:47:32.588079Z",
     "shell.execute_reply": "2022-05-22T14:47:32.587497Z"
    },
    "papermill": {
     "duration": 0.056281,
     "end_time": "2022-05-22T14:47:32.590070",
     "exception": false,
     "start_time": "2022-05-22T14:47:32.533789",
     "status": "completed"
    },
    "tags": []
   },
   "outputs": [
    {
     "data": {
      "text/html": [
       "<div>\n",
       "<style scoped>\n",
       "    .dataframe tbody tr th:only-of-type {\n",
       "        vertical-align: middle;\n",
       "    }\n",
       "\n",
       "    .dataframe tbody tr th {\n",
       "        vertical-align: top;\n",
       "    }\n",
       "\n",
       "    .dataframe thead th {\n",
       "        text-align: right;\n",
       "    }\n",
       "</style>\n",
       "<table border=\"1\" class=\"dataframe\">\n",
       "  <thead>\n",
       "    <tr style=\"text-align: right;\">\n",
       "      <th></th>\n",
       "      <th>PassengerId</th>\n",
       "      <th>Survived</th>\n",
       "      <th>Pclass</th>\n",
       "      <th>Name</th>\n",
       "      <th>Sex</th>\n",
       "      <th>Age</th>\n",
       "      <th>SibSp</th>\n",
       "      <th>Parch</th>\n",
       "      <th>Ticket</th>\n",
       "      <th>Fare</th>\n",
       "      <th>Cabin</th>\n",
       "      <th>Embarked</th>\n",
       "    </tr>\n",
       "  </thead>\n",
       "  <tbody>\n",
       "    <tr>\n",
       "      <th>0</th>\n",
       "      <td>1</td>\n",
       "      <td>0</td>\n",
       "      <td>3</td>\n",
       "      <td>Braund, Mr. Owen Harris</td>\n",
       "      <td>male</td>\n",
       "      <td>22.0</td>\n",
       "      <td>1</td>\n",
       "      <td>0</td>\n",
       "      <td>A/5 21171</td>\n",
       "      <td>7.2500</td>\n",
       "      <td>NaN</td>\n",
       "      <td>S</td>\n",
       "    </tr>\n",
       "    <tr>\n",
       "      <th>1</th>\n",
       "      <td>2</td>\n",
       "      <td>1</td>\n",
       "      <td>1</td>\n",
       "      <td>Cumings, Mrs. John Bradley (Florence Briggs Th...</td>\n",
       "      <td>female</td>\n",
       "      <td>38.0</td>\n",
       "      <td>1</td>\n",
       "      <td>0</td>\n",
       "      <td>PC 17599</td>\n",
       "      <td>71.2833</td>\n",
       "      <td>C85</td>\n",
       "      <td>C</td>\n",
       "    </tr>\n",
       "    <tr>\n",
       "      <th>2</th>\n",
       "      <td>3</td>\n",
       "      <td>1</td>\n",
       "      <td>3</td>\n",
       "      <td>Heikkinen, Miss. Laina</td>\n",
       "      <td>female</td>\n",
       "      <td>26.0</td>\n",
       "      <td>0</td>\n",
       "      <td>0</td>\n",
       "      <td>STON/O2. 3101282</td>\n",
       "      <td>7.9250</td>\n",
       "      <td>NaN</td>\n",
       "      <td>S</td>\n",
       "    </tr>\n",
       "    <tr>\n",
       "      <th>3</th>\n",
       "      <td>4</td>\n",
       "      <td>1</td>\n",
       "      <td>1</td>\n",
       "      <td>Futrelle, Mrs. Jacques Heath (Lily May Peel)</td>\n",
       "      <td>female</td>\n",
       "      <td>35.0</td>\n",
       "      <td>1</td>\n",
       "      <td>0</td>\n",
       "      <td>113803</td>\n",
       "      <td>53.1000</td>\n",
       "      <td>C123</td>\n",
       "      <td>S</td>\n",
       "    </tr>\n",
       "    <tr>\n",
       "      <th>4</th>\n",
       "      <td>5</td>\n",
       "      <td>0</td>\n",
       "      <td>3</td>\n",
       "      <td>Allen, Mr. William Henry</td>\n",
       "      <td>male</td>\n",
       "      <td>35.0</td>\n",
       "      <td>0</td>\n",
       "      <td>0</td>\n",
       "      <td>373450</td>\n",
       "      <td>8.0500</td>\n",
       "      <td>NaN</td>\n",
       "      <td>S</td>\n",
       "    </tr>\n",
       "    <tr>\n",
       "      <th>...</th>\n",
       "      <td>...</td>\n",
       "      <td>...</td>\n",
       "      <td>...</td>\n",
       "      <td>...</td>\n",
       "      <td>...</td>\n",
       "      <td>...</td>\n",
       "      <td>...</td>\n",
       "      <td>...</td>\n",
       "      <td>...</td>\n",
       "      <td>...</td>\n",
       "      <td>...</td>\n",
       "      <td>...</td>\n",
       "    </tr>\n",
       "    <tr>\n",
       "      <th>886</th>\n",
       "      <td>887</td>\n",
       "      <td>0</td>\n",
       "      <td>2</td>\n",
       "      <td>Montvila, Rev. Juozas</td>\n",
       "      <td>male</td>\n",
       "      <td>27.0</td>\n",
       "      <td>0</td>\n",
       "      <td>0</td>\n",
       "      <td>211536</td>\n",
       "      <td>13.0000</td>\n",
       "      <td>NaN</td>\n",
       "      <td>S</td>\n",
       "    </tr>\n",
       "    <tr>\n",
       "      <th>887</th>\n",
       "      <td>888</td>\n",
       "      <td>1</td>\n",
       "      <td>1</td>\n",
       "      <td>Graham, Miss. Margaret Edith</td>\n",
       "      <td>female</td>\n",
       "      <td>19.0</td>\n",
       "      <td>0</td>\n",
       "      <td>0</td>\n",
       "      <td>112053</td>\n",
       "      <td>30.0000</td>\n",
       "      <td>B42</td>\n",
       "      <td>S</td>\n",
       "    </tr>\n",
       "    <tr>\n",
       "      <th>888</th>\n",
       "      <td>889</td>\n",
       "      <td>0</td>\n",
       "      <td>3</td>\n",
       "      <td>Johnston, Miss. Catherine Helen \"Carrie\"</td>\n",
       "      <td>female</td>\n",
       "      <td>NaN</td>\n",
       "      <td>1</td>\n",
       "      <td>2</td>\n",
       "      <td>W./C. 6607</td>\n",
       "      <td>23.4500</td>\n",
       "      <td>NaN</td>\n",
       "      <td>S</td>\n",
       "    </tr>\n",
       "    <tr>\n",
       "      <th>889</th>\n",
       "      <td>890</td>\n",
       "      <td>1</td>\n",
       "      <td>1</td>\n",
       "      <td>Behr, Mr. Karl Howell</td>\n",
       "      <td>male</td>\n",
       "      <td>26.0</td>\n",
       "      <td>0</td>\n",
       "      <td>0</td>\n",
       "      <td>111369</td>\n",
       "      <td>30.0000</td>\n",
       "      <td>C148</td>\n",
       "      <td>C</td>\n",
       "    </tr>\n",
       "    <tr>\n",
       "      <th>890</th>\n",
       "      <td>891</td>\n",
       "      <td>0</td>\n",
       "      <td>3</td>\n",
       "      <td>Dooley, Mr. Patrick</td>\n",
       "      <td>male</td>\n",
       "      <td>32.0</td>\n",
       "      <td>0</td>\n",
       "      <td>0</td>\n",
       "      <td>370376</td>\n",
       "      <td>7.7500</td>\n",
       "      <td>NaN</td>\n",
       "      <td>Q</td>\n",
       "    </tr>\n",
       "  </tbody>\n",
       "</table>\n",
       "<p>891 rows × 12 columns</p>\n",
       "</div>"
      ],
      "text/plain": [
       "     PassengerId  Survived  Pclass  \\\n",
       "0              1         0       3   \n",
       "1              2         1       1   \n",
       "2              3         1       3   \n",
       "3              4         1       1   \n",
       "4              5         0       3   \n",
       "..           ...       ...     ...   \n",
       "886          887         0       2   \n",
       "887          888         1       1   \n",
       "888          889         0       3   \n",
       "889          890         1       1   \n",
       "890          891         0       3   \n",
       "\n",
       "                                                  Name     Sex   Age  SibSp  \\\n",
       "0                              Braund, Mr. Owen Harris    male  22.0      1   \n",
       "1    Cumings, Mrs. John Bradley (Florence Briggs Th...  female  38.0      1   \n",
       "2                               Heikkinen, Miss. Laina  female  26.0      0   \n",
       "3         Futrelle, Mrs. Jacques Heath (Lily May Peel)  female  35.0      1   \n",
       "4                             Allen, Mr. William Henry    male  35.0      0   \n",
       "..                                                 ...     ...   ...    ...   \n",
       "886                              Montvila, Rev. Juozas    male  27.0      0   \n",
       "887                       Graham, Miss. Margaret Edith  female  19.0      0   \n",
       "888           Johnston, Miss. Catherine Helen \"Carrie\"  female   NaN      1   \n",
       "889                              Behr, Mr. Karl Howell    male  26.0      0   \n",
       "890                                Dooley, Mr. Patrick    male  32.0      0   \n",
       "\n",
       "     Parch            Ticket     Fare Cabin Embarked  \n",
       "0        0         A/5 21171   7.2500   NaN        S  \n",
       "1        0          PC 17599  71.2833   C85        C  \n",
       "2        0  STON/O2. 3101282   7.9250   NaN        S  \n",
       "3        0            113803  53.1000  C123        S  \n",
       "4        0            373450   8.0500   NaN        S  \n",
       "..     ...               ...      ...   ...      ...  \n",
       "886      0            211536  13.0000   NaN        S  \n",
       "887      0            112053  30.0000   B42        S  \n",
       "888      2        W./C. 6607  23.4500   NaN        S  \n",
       "889      0            111369  30.0000  C148        C  \n",
       "890      0            370376   7.7500   NaN        Q  \n",
       "\n",
       "[891 rows x 12 columns]"
      ]
     },
     "execution_count": 5,
     "metadata": {},
     "output_type": "execute_result"
    }
   ],
   "source": [
    "train"
   ]
  },
  {
   "cell_type": "markdown",
   "id": "7d7f64bb",
   "metadata": {
    "papermill": {
     "duration": 0.028047,
     "end_time": "2022-05-22T14:47:32.646201",
     "exception": false,
     "start_time": "2022-05-22T14:47:32.618154",
     "status": "completed"
    },
    "tags": []
   },
   "source": [
    "* isnull().sum() : NULL값이 되어 있는 항목의 NULL 개수를 찾아냄"
   ]
  },
  {
   "cell_type": "code",
   "execution_count": 6,
   "id": "cc79b1db",
   "metadata": {
    "execution": {
     "iopub.execute_input": "2022-05-22T14:47:32.704270Z",
     "iopub.status.busy": "2022-05-22T14:47:32.703985Z",
     "iopub.status.idle": "2022-05-22T14:47:32.711610Z",
     "shell.execute_reply": "2022-05-22T14:47:32.710909Z"
    },
    "papermill": {
     "duration": 0.038965,
     "end_time": "2022-05-22T14:47:32.713252",
     "exception": false,
     "start_time": "2022-05-22T14:47:32.674287",
     "status": "completed"
    },
    "tags": []
   },
   "outputs": [
    {
     "data": {
      "text/plain": [
       "PassengerId      0\n",
       "Survived         0\n",
       "Pclass           0\n",
       "Name             0\n",
       "Sex              0\n",
       "Age            177\n",
       "SibSp            0\n",
       "Parch            0\n",
       "Ticket           0\n",
       "Fare             0\n",
       "Cabin          687\n",
       "Embarked         2\n",
       "dtype: int64"
      ]
     },
     "execution_count": 6,
     "metadata": {},
     "output_type": "execute_result"
    }
   ],
   "source": [
    "train.isnull().sum()"
   ]
  },
  {
   "cell_type": "code",
   "execution_count": 7,
   "id": "91e9ae25",
   "metadata": {
    "execution": {
     "iopub.execute_input": "2022-05-22T14:47:32.771101Z",
     "iopub.status.busy": "2022-05-22T14:47:32.770600Z",
     "iopub.status.idle": "2022-05-22T14:47:32.777641Z",
     "shell.execute_reply": "2022-05-22T14:47:32.777056Z"
    },
    "papermill": {
     "duration": 0.037868,
     "end_time": "2022-05-22T14:47:32.779395",
     "exception": false,
     "start_time": "2022-05-22T14:47:32.741527",
     "status": "completed"
    },
    "tags": []
   },
   "outputs": [
    {
     "data": {
      "text/plain": [
       "PassengerId      0\n",
       "Pclass           0\n",
       "Name             0\n",
       "Sex              0\n",
       "Age             86\n",
       "SibSp            0\n",
       "Parch            0\n",
       "Ticket           0\n",
       "Fare             1\n",
       "Cabin          327\n",
       "Embarked         0\n",
       "dtype: int64"
      ]
     },
     "execution_count": 7,
     "metadata": {},
     "output_type": "execute_result"
    }
   ],
   "source": [
    "test.isnull().sum()"
   ]
  },
  {
   "cell_type": "markdown",
   "id": "919497ff",
   "metadata": {
    "papermill": {
     "duration": 0.027653,
     "end_time": "2022-05-22T14:47:32.834958",
     "exception": false,
     "start_time": "2022-05-22T14:47:32.807305",
     "status": "completed"
    },
    "tags": []
   },
   "source": [
    "# NULL을 mean 혹은 median으로 채우기"
   ]
  },
  {
   "cell_type": "code",
   "execution_count": 8,
   "id": "a77cbc07",
   "metadata": {
    "execution": {
     "iopub.execute_input": "2022-05-22T14:47:32.892983Z",
     "iopub.status.busy": "2022-05-22T14:47:32.892475Z",
     "iopub.status.idle": "2022-05-22T14:47:32.897635Z",
     "shell.execute_reply": "2022-05-22T14:47:32.896809Z"
    },
    "papermill": {
     "duration": 0.036357,
     "end_time": "2022-05-22T14:47:32.899497",
     "exception": false,
     "start_time": "2022-05-22T14:47:32.863140",
     "status": "completed"
    },
    "tags": []
   },
   "outputs": [],
   "source": [
    "train[\"Age\"].fillna(train[\"Age\"].mean(), inplace = True)\n",
    "test[\"Age\"].fillna(test[\"Age\"].mean(), inplace = True) "
   ]
  },
  {
   "cell_type": "code",
   "execution_count": 9,
   "id": "bd360b39",
   "metadata": {
    "execution": {
     "iopub.execute_input": "2022-05-22T14:47:32.956994Z",
     "iopub.status.busy": "2022-05-22T14:47:32.956509Z",
     "iopub.status.idle": "2022-05-22T14:47:32.964668Z",
     "shell.execute_reply": "2022-05-22T14:47:32.963992Z"
    },
    "papermill": {
     "duration": 0.039378,
     "end_time": "2022-05-22T14:47:32.966688",
     "exception": false,
     "start_time": "2022-05-22T14:47:32.927310",
     "status": "completed"
    },
    "tags": []
   },
   "outputs": [],
   "source": [
    "train[\"Fare\"].fillna(train.groupby('Pclass')['Fare'].transform('mean'), inplace=True)\n",
    "test[\"Fare\"].fillna(test.groupby('Pclass')['Fare'].transform('mean'), inplace=True)"
   ]
  },
  {
   "cell_type": "code",
   "execution_count": 10,
   "id": "b2cbd772",
   "metadata": {
    "execution": {
     "iopub.execute_input": "2022-05-22T14:47:33.026402Z",
     "iopub.status.busy": "2022-05-22T14:47:33.025831Z",
     "iopub.status.idle": "2022-05-22T14:47:33.034307Z",
     "shell.execute_reply": "2022-05-22T14:47:33.033597Z"
    },
    "papermill": {
     "duration": 0.04068,
     "end_time": "2022-05-22T14:47:33.036233",
     "exception": false,
     "start_time": "2022-05-22T14:47:32.995553",
     "status": "completed"
    },
    "tags": []
   },
   "outputs": [],
   "source": [
    "train_test_data = [train, test]\n",
    "\n",
    "for dataset in train_test_data:\n",
    "    dataset['Cabin'] = dataset['Cabin'].str[:1]\n",
    "cabin_mapping = {'A':0, 'B':0.4, 'C':0.8, 'D':1.2, 'E':1.6, 'F':2, 'G':2.4, 'T': 2.8}\n",
    "\n",
    "for dataset in train_test_data:\n",
    "    dataset['Cabin'] = dataset['Cabin'].map(cabin_mapping)"
   ]
  },
  {
   "cell_type": "code",
   "execution_count": 11,
   "id": "727797b2",
   "metadata": {
    "execution": {
     "iopub.execute_input": "2022-05-22T14:47:33.094373Z",
     "iopub.status.busy": "2022-05-22T14:47:33.093863Z",
     "iopub.status.idle": "2022-05-22T14:47:33.100652Z",
     "shell.execute_reply": "2022-05-22T14:47:33.099864Z"
    },
    "papermill": {
     "duration": 0.038503,
     "end_time": "2022-05-22T14:47:33.102589",
     "exception": false,
     "start_time": "2022-05-22T14:47:33.064086",
     "status": "completed"
    },
    "tags": []
   },
   "outputs": [],
   "source": [
    "train['Cabin'].fillna(train.groupby('Pclass')['Cabin'].transform('mean'), inplace=True)\n",
    "test['Cabin'].fillna(test.groupby('Pclass')['Cabin'].transform('mean'), inplace=True)"
   ]
  },
  {
   "cell_type": "code",
   "execution_count": 12,
   "id": "c6067ee3",
   "metadata": {
    "execution": {
     "iopub.execute_input": "2022-05-22T14:47:33.162733Z",
     "iopub.status.busy": "2022-05-22T14:47:33.162226Z",
     "iopub.status.idle": "2022-05-22T14:47:33.167055Z",
     "shell.execute_reply": "2022-05-22T14:47:33.166452Z"
    },
    "papermill": {
     "duration": 0.037206,
     "end_time": "2022-05-22T14:47:33.168878",
     "exception": false,
     "start_time": "2022-05-22T14:47:33.131672",
     "status": "completed"
    },
    "tags": []
   },
   "outputs": [],
   "source": [
    "for dataset in train_test_data:\n",
    "    dataset['Embarked'] = dataset['Embarked'].fillna('S')"
   ]
  },
  {
   "cell_type": "code",
   "execution_count": 13,
   "id": "bce62463",
   "metadata": {
    "execution": {
     "iopub.execute_input": "2022-05-22T14:47:33.234555Z",
     "iopub.status.busy": "2022-05-22T14:47:33.234211Z",
     "iopub.status.idle": "2022-05-22T14:47:33.246361Z",
     "shell.execute_reply": "2022-05-22T14:47:33.245737Z"
    },
    "papermill": {
     "duration": 0.052886,
     "end_time": "2022-05-22T14:47:33.249830",
     "exception": false,
     "start_time": "2022-05-22T14:47:33.196944",
     "status": "completed"
    },
    "tags": []
   },
   "outputs": [
    {
     "name": "stdout",
     "output_type": "stream",
     "text": [
      "<class 'pandas.core.frame.DataFrame'>\n",
      "RangeIndex: 891 entries, 0 to 890\n",
      "Data columns (total 12 columns):\n",
      " #   Column       Non-Null Count  Dtype  \n",
      "---  ------       --------------  -----  \n",
      " 0   PassengerId  891 non-null    int64  \n",
      " 1   Survived     891 non-null    int64  \n",
      " 2   Pclass       891 non-null    int64  \n",
      " 3   Name         891 non-null    object \n",
      " 4   Sex          891 non-null    object \n",
      " 5   Age          891 non-null    float64\n",
      " 6   SibSp        891 non-null    int64  \n",
      " 7   Parch        891 non-null    int64  \n",
      " 8   Ticket       891 non-null    object \n",
      " 9   Fare         891 non-null    float64\n",
      " 10  Cabin        891 non-null    float64\n",
      " 11  Embarked     891 non-null    object \n",
      "dtypes: float64(3), int64(5), object(4)\n",
      "memory usage: 83.7+ KB\n"
     ]
    }
   ],
   "source": [
    "#결측값 있는지 재확인\n",
    "train.info()"
   ]
  },
  {
   "cell_type": "code",
   "execution_count": 14,
   "id": "96fbbf7e",
   "metadata": {
    "execution": {
     "iopub.execute_input": "2022-05-22T14:47:33.325456Z",
     "iopub.status.busy": "2022-05-22T14:47:33.325154Z",
     "iopub.status.idle": "2022-05-22T14:47:33.332346Z",
     "shell.execute_reply": "2022-05-22T14:47:33.331752Z"
    },
    "papermill": {
     "duration": 0.045311,
     "end_time": "2022-05-22T14:47:33.334081",
     "exception": false,
     "start_time": "2022-05-22T14:47:33.288770",
     "status": "completed"
    },
    "tags": []
   },
   "outputs": [
    {
     "data": {
      "text/plain": [
       "PassengerId    0\n",
       "Survived       0\n",
       "Pclass         0\n",
       "Name           0\n",
       "Sex            0\n",
       "Age            0\n",
       "SibSp          0\n",
       "Parch          0\n",
       "Ticket         0\n",
       "Fare           0\n",
       "Cabin          0\n",
       "Embarked       0\n",
       "dtype: int64"
      ]
     },
     "execution_count": 14,
     "metadata": {},
     "output_type": "execute_result"
    }
   ],
   "source": [
    "train.isnull().sum()"
   ]
  },
  {
   "cell_type": "code",
   "execution_count": 15,
   "id": "307d5033",
   "metadata": {
    "execution": {
     "iopub.execute_input": "2022-05-22T14:47:33.392977Z",
     "iopub.status.busy": "2022-05-22T14:47:33.392416Z",
     "iopub.status.idle": "2022-05-22T14:47:33.400063Z",
     "shell.execute_reply": "2022-05-22T14:47:33.399480Z"
    },
    "papermill": {
     "duration": 0.039138,
     "end_time": "2022-05-22T14:47:33.401756",
     "exception": false,
     "start_time": "2022-05-22T14:47:33.362618",
     "status": "completed"
    },
    "tags": []
   },
   "outputs": [
    {
     "data": {
      "text/plain": [
       "PassengerId    0\n",
       "Pclass         0\n",
       "Name           0\n",
       "Sex            0\n",
       "Age            0\n",
       "SibSp          0\n",
       "Parch          0\n",
       "Ticket         0\n",
       "Fare           0\n",
       "Cabin          0\n",
       "Embarked       0\n",
       "dtype: int64"
      ]
     },
     "execution_count": 15,
     "metadata": {},
     "output_type": "execute_result"
    }
   ],
   "source": [
    "test.isnull().sum()"
   ]
  },
  {
   "cell_type": "markdown",
   "id": "5969e9ff",
   "metadata": {
    "papermill": {
     "duration": 0.028841,
     "end_time": "2022-05-22T14:47:33.459601",
     "exception": false,
     "start_time": "2022-05-22T14:47:33.430760",
     "status": "completed"
    },
    "tags": []
   },
   "source": [
    "# Dtype object를 float이나 int로 변경"
   ]
  },
  {
   "cell_type": "code",
   "execution_count": 16,
   "id": "72cc6953",
   "metadata": {
    "execution": {
     "iopub.execute_input": "2022-05-22T14:47:33.518787Z",
     "iopub.status.busy": "2022-05-22T14:47:33.517993Z",
     "iopub.status.idle": "2022-05-22T14:47:34.575119Z",
     "shell.execute_reply": "2022-05-22T14:47:34.574387Z"
    },
    "papermill": {
     "duration": 1.089081,
     "end_time": "2022-05-22T14:47:34.577109",
     "exception": false,
     "start_time": "2022-05-22T14:47:33.488028",
     "status": "completed"
    },
    "tags": []
   },
   "outputs": [],
   "source": [
    "from sklearn.preprocessing import LabelEncoder\n",
    "classle = LabelEncoder()\n",
    "train['Sex'] = classle.fit_transform(train['Sex'])\n",
    "test['Sex'] = classle.transform(test['Sex'])"
   ]
  },
  {
   "cell_type": "code",
   "execution_count": 17,
   "id": "4d1f4b69",
   "metadata": {
    "execution": {
     "iopub.execute_input": "2022-05-22T14:47:34.635893Z",
     "iopub.status.busy": "2022-05-22T14:47:34.635590Z",
     "iopub.status.idle": "2022-05-22T14:47:34.641959Z",
     "shell.execute_reply": "2022-05-22T14:47:34.641067Z"
    },
    "papermill": {
     "duration": 0.03807,
     "end_time": "2022-05-22T14:47:34.643797",
     "exception": false,
     "start_time": "2022-05-22T14:47:34.605727",
     "status": "completed"
    },
    "tags": []
   },
   "outputs": [],
   "source": [
    "from sklearn.preprocessing import LabelEncoder\n",
    "classle = LabelEncoder()\n",
    "train['Embarked'] = classle.fit_transform(train['Embarked'])\n",
    "test['Embarked'] = classle.transform(test['Embarked'])"
   ]
  },
  {
   "cell_type": "markdown",
   "id": "2bda90c3",
   "metadata": {
    "papermill": {
     "duration": 0.028493,
     "end_time": "2022-05-22T14:47:34.701162",
     "exception": false,
     "start_time": "2022-05-22T14:47:34.672669",
     "status": "completed"
    },
    "tags": []
   },
   "source": [
    "# 필요 없는 값 지우기"
   ]
  },
  {
   "cell_type": "code",
   "execution_count": 18,
   "id": "f09952cc",
   "metadata": {
    "execution": {
     "iopub.execute_input": "2022-05-22T14:47:34.759957Z",
     "iopub.status.busy": "2022-05-22T14:47:34.759179Z",
     "iopub.status.idle": "2022-05-22T14:47:34.766107Z",
     "shell.execute_reply": "2022-05-22T14:47:34.765416Z"
    },
    "papermill": {
     "duration": 0.038373,
     "end_time": "2022-05-22T14:47:34.767915",
     "exception": false,
     "start_time": "2022-05-22T14:47:34.729542",
     "status": "completed"
    },
    "tags": []
   },
   "outputs": [],
   "source": [
    "train.drop(labels = [\"PassengerId\", \"Name\", \"Ticket\", \"Embarked\", \"Cabin\"], axis = 1, inplace = True)\n",
    "test.drop(labels = [\"PassengerId\", \"Name\", \"Ticket\", \"Embarked\", \"Cabin\"], axis = 1, inplace = True)"
   ]
  },
  {
   "cell_type": "markdown",
   "id": "6082c9a1",
   "metadata": {
    "papermill": {
     "duration": 0.029233,
     "end_time": "2022-05-22T14:47:34.825645",
     "exception": false,
     "start_time": "2022-05-22T14:47:34.796412",
     "status": "completed"
    },
    "tags": []
   },
   "source": [
    "# Train과 Label로 쪼개기"
   ]
  },
  {
   "cell_type": "code",
   "execution_count": 19,
   "id": "86a5fa09",
   "metadata": {
    "execution": {
     "iopub.execute_input": "2022-05-22T14:47:34.886713Z",
     "iopub.status.busy": "2022-05-22T14:47:34.886199Z",
     "iopub.status.idle": "2022-05-22T14:47:34.890775Z",
     "shell.execute_reply": "2022-05-22T14:47:34.890207Z"
    },
    "papermill": {
     "duration": 0.038138,
     "end_time": "2022-05-22T14:47:34.892556",
     "exception": false,
     "start_time": "2022-05-22T14:47:34.854418",
     "status": "completed"
    },
    "tags": []
   },
   "outputs": [],
   "source": [
    "xtrain = train.drop(['Survived'], axis = 1)\n",
    "ytrain = train['Survived']"
   ]
  },
  {
   "cell_type": "markdown",
   "id": "3e0c724e",
   "metadata": {
    "papermill": {
     "duration": 0.028377,
     "end_time": "2022-05-22T14:47:34.949556",
     "exception": false,
     "start_time": "2022-05-22T14:47:34.921179",
     "status": "completed"
    },
    "tags": []
   },
   "source": [
    "# 다양한 학습 모델"
   ]
  },
  {
   "cell_type": "markdown",
   "id": "34b7deeb",
   "metadata": {
    "papermill": {
     "duration": 0.029725,
     "end_time": "2022-05-22T14:47:35.007744",
     "exception": false,
     "start_time": "2022-05-22T14:47:34.978019",
     "status": "completed"
    },
    "tags": []
   },
   "source": [
    "* DecisionTreeClassifier"
   ]
  },
  {
   "cell_type": "code",
   "execution_count": 20,
   "id": "38570bf8",
   "metadata": {
    "execution": {
     "iopub.execute_input": "2022-05-22T14:47:35.067665Z",
     "iopub.status.busy": "2022-05-22T14:47:35.067096Z",
     "iopub.status.idle": "2022-05-22T14:47:35.070216Z",
     "shell.execute_reply": "2022-05-22T14:47:35.069617Z"
    },
    "papermill": {
     "duration": 0.03509,
     "end_time": "2022-05-22T14:47:35.071875",
     "exception": false,
     "start_time": "2022-05-22T14:47:35.036785",
     "status": "completed"
    },
    "tags": []
   },
   "outputs": [],
   "source": [
    "# from sklearn.tree import DecisionTreeClassifier\n",
    "# tree = DecisionTreeClassifier(random_state = 42)\n",
    "# tree.fit(xtrain, ytrain)\n",
    "# predict = tree.predict(test)"
   ]
  },
  {
   "cell_type": "markdown",
   "id": "458da79e",
   "metadata": {
    "papermill": {
     "duration": 0.02963,
     "end_time": "2022-05-22T14:47:35.130455",
     "exception": false,
     "start_time": "2022-05-22T14:47:35.100825",
     "status": "completed"
    },
    "tags": []
   },
   "source": [
    "* KNN"
   ]
  },
  {
   "cell_type": "code",
   "execution_count": 21,
   "id": "873e1547",
   "metadata": {
    "execution": {
     "iopub.execute_input": "2022-05-22T14:47:35.189813Z",
     "iopub.status.busy": "2022-05-22T14:47:35.189256Z",
     "iopub.status.idle": "2022-05-22T14:47:35.192354Z",
     "shell.execute_reply": "2022-05-22T14:47:35.191724Z"
    },
    "papermill": {
     "duration": 0.034752,
     "end_time": "2022-05-22T14:47:35.194058",
     "exception": false,
     "start_time": "2022-05-22T14:47:35.159306",
     "status": "completed"
    },
    "tags": []
   },
   "outputs": [],
   "source": [
    "# from sklearn.neighbors import KNeighborsClassifier\n",
    "# knn = KNeighborsClassifier(n_neighbors = 6)\n",
    "# knn.fit(xtrain, ytrain)\n",
    "# predict = knn.predict(test)"
   ]
  },
  {
   "cell_type": "markdown",
   "id": "a8b680e1",
   "metadata": {
    "papermill": {
     "duration": 0.028646,
     "end_time": "2022-05-22T14:47:35.251281",
     "exception": false,
     "start_time": "2022-05-22T14:47:35.222635",
     "status": "completed"
    },
    "tags": []
   },
   "source": [
    "* RandomForestClassifier with RandomSearch"
   ]
  },
  {
   "cell_type": "code",
   "execution_count": 22,
   "id": "b4e4c653",
   "metadata": {
    "execution": {
     "iopub.execute_input": "2022-05-22T14:47:35.310394Z",
     "iopub.status.busy": "2022-05-22T14:47:35.309796Z",
     "iopub.status.idle": "2022-05-22T14:47:35.313342Z",
     "shell.execute_reply": "2022-05-22T14:47:35.312748Z"
    },
    "papermill": {
     "duration": 0.035059,
     "end_time": "2022-05-22T14:47:35.314958",
     "exception": false,
     "start_time": "2022-05-22T14:47:35.279899",
     "status": "completed"
    },
    "tags": []
   },
   "outputs": [],
   "source": [
    "# from sklearn.ensemble import RandomForestClassifier\n",
    "# from sklearn.model_selection import RandomizedSearchCV\n",
    "# from sklearn.metrics import make_scorer, accuracy_score\n",
    "\n",
    "# rfc = RandomForestClassifier(random_state = 42)\n",
    "# parameters = {\"n_estimators\": [4, 5, 6, 7, 8, 9, 10, 15], \n",
    "#               \"criterion\": [\"gini\", \"entropy\"],\n",
    "#               \"max_features\": [\"auto\", \"sqrt\", \"log2\"], \n",
    "#               \"max_depth\": [2, 3, 5, 10], \n",
    "#               \"min_samples_split\": [2, 3, 5, 10],\n",
    "#               \"min_samples_leaf\": [1, 5, 8, 10]\n",
    "#              }\n",
    "\n",
    "# search = RandomizedSearchCV(rfc, parameters, scoring = make_scorer(accuracy_score))\n",
    "# search = search.fit(xtrain, ytrain)\n",
    "\n",
    "# search.best_estimator_\n",
    "\n",
    "# rfc = search.best_estimator_\n",
    "# rfc.fit(xtrain, ytrain)\n",
    "# predict = rfc.predict(test)"
   ]
  },
  {
   "cell_type": "code",
   "execution_count": 23,
   "id": "1cca1f4e",
   "metadata": {
    "execution": {
     "iopub.execute_input": "2022-05-22T14:47:35.373650Z",
     "iopub.status.busy": "2022-05-22T14:47:35.372956Z",
     "iopub.status.idle": "2022-05-22T14:47:35.376093Z",
     "shell.execute_reply": "2022-05-22T14:47:35.375502Z"
    },
    "papermill": {
     "duration": 0.034405,
     "end_time": "2022-05-22T14:47:35.377706",
     "exception": false,
     "start_time": "2022-05-22T14:47:35.343301",
     "status": "completed"
    },
    "tags": []
   },
   "outputs": [],
   "source": [
    "# rfc = RandomForestClassifier(random_state = 0)\n",
    "# rfc.fit(xtrain, ytrain)\n",
    "# predict = rfc.predict(test)"
   ]
  },
  {
   "cell_type": "markdown",
   "id": "91600fe2",
   "metadata": {
    "papermill": {
     "duration": 0.028349,
     "end_time": "2022-05-22T14:47:35.434628",
     "exception": false,
     "start_time": "2022-05-22T14:47:35.406279",
     "status": "completed"
    },
    "tags": []
   },
   "source": [
    "* LogisticRegression"
   ]
  },
  {
   "cell_type": "code",
   "execution_count": 24,
   "id": "e60febe0",
   "metadata": {
    "execution": {
     "iopub.execute_input": "2022-05-22T14:47:35.494280Z",
     "iopub.status.busy": "2022-05-22T14:47:35.493687Z",
     "iopub.status.idle": "2022-05-22T14:47:35.627877Z",
     "shell.execute_reply": "2022-05-22T14:47:35.627046Z"
    },
    "papermill": {
     "duration": 0.166549,
     "end_time": "2022-05-22T14:47:35.630215",
     "exception": false,
     "start_time": "2022-05-22T14:47:35.463666",
     "status": "completed"
    },
    "tags": []
   },
   "outputs": [],
   "source": [
    "from sklearn.linear_model import LogisticRegression\n",
    "log = LogisticRegression(solver='liblinear')\n",
    "log.fit(xtrain, ytrain)\n",
    "predict = log.predict(test)"
   ]
  },
  {
   "cell_type": "markdown",
   "id": "a169d94e",
   "metadata": {
    "papermill": {
     "duration": 0.02827,
     "end_time": "2022-05-22T14:47:35.687522",
     "exception": false,
     "start_time": "2022-05-22T14:47:35.659252",
     "status": "completed"
    },
    "tags": []
   },
   "source": [
    "* LDA"
   ]
  },
  {
   "cell_type": "code",
   "execution_count": 25,
   "id": "64ce91c3",
   "metadata": {
    "execution": {
     "iopub.execute_input": "2022-05-22T14:47:35.746384Z",
     "iopub.status.busy": "2022-05-22T14:47:35.746096Z",
     "iopub.status.idle": "2022-05-22T14:47:35.749054Z",
     "shell.execute_reply": "2022-05-22T14:47:35.748409Z"
    },
    "papermill": {
     "duration": 0.034807,
     "end_time": "2022-05-22T14:47:35.750694",
     "exception": false,
     "start_time": "2022-05-22T14:47:35.715887",
     "status": "completed"
    },
    "tags": []
   },
   "outputs": [],
   "source": [
    "# from sklearn.discriminant_analysis import LinearDiscriminantAnalysis\n",
    "# LDA = LinearDiscriminantAnalysis(store_covariance=True)\n",
    "# LDA.fit(xtrain, ytrain)\n",
    "# predict = LDA.predict(test)"
   ]
  },
  {
   "cell_type": "markdown",
   "id": "619ec468",
   "metadata": {
    "papermill": {
     "duration": 0.028418,
     "end_time": "2022-05-22T14:47:35.807585",
     "exception": false,
     "start_time": "2022-05-22T14:47:35.779167",
     "status": "completed"
    },
    "tags": []
   },
   "source": [
    "# 제출"
   ]
  },
  {
   "cell_type": "code",
   "execution_count": 26,
   "id": "247714cb",
   "metadata": {
    "execution": {
     "iopub.execute_input": "2022-05-22T14:47:35.867008Z",
     "iopub.status.busy": "2022-05-22T14:47:35.866013Z",
     "iopub.status.idle": "2022-05-22T14:47:35.874462Z",
     "shell.execute_reply": "2022-05-22T14:47:35.873376Z"
    },
    "papermill": {
     "duration": 0.04036,
     "end_time": "2022-05-22T14:47:35.876600",
     "exception": false,
     "start_time": "2022-05-22T14:47:35.836240",
     "status": "completed"
    },
    "tags": []
   },
   "outputs": [],
   "source": [
    "submission['Survived'] = predict\n",
    "submission.to_csv('submit.csv', index = False)"
   ]
  },
  {
   "cell_type": "code",
   "execution_count": null,
   "id": "418cc25d",
   "metadata": {
    "papermill": {
     "duration": 0.028647,
     "end_time": "2022-05-22T14:47:35.935279",
     "exception": false,
     "start_time": "2022-05-22T14:47:35.906632",
     "status": "completed"
    },
    "tags": []
   },
   "outputs": [],
   "source": []
  }
 ],
 "metadata": {
  "kernelspec": {
   "display_name": "Python 3",
   "language": "python",
   "name": "python3"
  },
  "language_info": {
   "codemirror_mode": {
    "name": "ipython",
    "version": 3
   },
   "file_extension": ".py",
   "mimetype": "text/x-python",
   "name": "python",
   "nbconvert_exporter": "python",
   "pygments_lexer": "ipython3",
   "version": "3.7.12"
  },
  "papermill": {
   "default_parameters": {},
   "duration": 13.368325,
   "end_time": "2022-05-22T14:47:36.685116",
   "environment_variables": {},
   "exception": null,
   "input_path": "__notebook__.ipynb",
   "output_path": "__notebook__.ipynb",
   "parameters": {},
   "start_time": "2022-05-22T14:47:23.316791",
   "version": "2.3.4"
  }
 },
 "nbformat": 4,
 "nbformat_minor": 5
}
