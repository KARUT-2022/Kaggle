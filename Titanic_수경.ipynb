{
 "cells": [
  {
   "cell_type": "code",
   "execution_count": 1,
   "id": "5986ced6",
   "metadata": {
    "_cell_guid": "b1076dfc-b9ad-4769-8c92-a6c4dae69d19",
    "_uuid": "8f2839f25d086af736a60e9eeb907d3b93b6e0e5",
    "execution": {
     "iopub.execute_input": "2022-05-27T12:40:51.534558Z",
     "iopub.status.busy": "2022-05-27T12:40:51.534178Z",
     "iopub.status.idle": "2022-05-27T12:40:51.549380Z",
     "shell.execute_reply": "2022-05-27T12:40:51.548366Z"
    },
    "papermill": {
     "duration": 0.077578,
     "end_time": "2022-05-27T12:40:51.551591",
     "exception": false,
     "start_time": "2022-05-27T12:40:51.474013",
     "status": "completed"
    },
    "tags": []
   },
   "outputs": [
    {
     "name": "stdout",
     "output_type": "stream",
     "text": [
      "/kaggle/input/titanic/train.csv\n",
      "/kaggle/input/titanic/test.csv\n",
      "/kaggle/input/titanic/gender_submission.csv\n"
     ]
    }
   ],
   "source": [
    "# This Python 3 environment comes with many helpful analytics libraries installed\n",
    "# It is defined by the kaggle/python Docker image: https://github.com/kaggle/docker-python\n",
    "# For example, here's several helpful packages to load\n",
    "\n",
    "import numpy as np # linear algebra\n",
    "import pandas as pd # data processing, CSV file I/O (e.g. pd.read_csv)\n",
    "\n",
    "# Input data files are available in the read-only \"../input/\" directory\n",
    "# For example, running this (by clicking run or pressing Shift+Enter) will list all files under the input directory\n",
    "\n",
    "import os\n",
    "for dirname, _, filenames in os.walk('/kaggle/input'):\n",
    "    for filename in filenames:\n",
    "        print(os.path.join(dirname, filename))\n",
    "\n",
    "# You can write up to 20GB to the current directory (/kaggle/working/) that gets preserved as output when you create a version using \"Save & Run All\" \n",
    "# You can also write temporary files to /kaggle/temp/, but they won't be saved outside of the current session"
   ]
  },
  {
   "cell_type": "code",
   "execution_count": 2,
   "id": "4ccd042c",
   "metadata": {
    "execution": {
     "iopub.execute_input": "2022-05-27T12:40:51.664423Z",
     "iopub.status.busy": "2022-05-27T12:40:51.664141Z",
     "iopub.status.idle": "2022-05-27T12:40:51.701979Z",
     "shell.execute_reply": "2022-05-27T12:40:51.700853Z"
    },
    "papermill": {
     "duration": 0.09599,
     "end_time": "2022-05-27T12:40:51.704551",
     "exception": false,
     "start_time": "2022-05-27T12:40:51.608561",
     "status": "completed"
    },
    "tags": []
   },
   "outputs": [],
   "source": [
    "test = pd.read_csv('../input/titanic/test.csv')\n",
    "train = pd.read_csv('../input/titanic/train.csv')\n",
    "submission = pd.read_csv('../input/titanic/gender_submission.csv')"
   ]
  },
  {
   "cell_type": "markdown",
   "id": "870edf25",
   "metadata": {
    "papermill": {
     "duration": 0.056359,
     "end_time": "2022-05-27T12:40:51.818027",
     "exception": false,
     "start_time": "2022-05-27T12:40:51.761668",
     "status": "completed"
    },
    "tags": []
   },
   "source": [
    "PassengerId : 각 승객의 고유 번호\n",
    "\n",
    "Survived : 생존 여부(종속 변수)\n",
    "\n",
    "0 = 사망\n",
    "1 = 생존\n",
    "\n",
    "Pclass : 객실 등급 - 승객의 사회적, 경제적 지위\n",
    "\n",
    "1st = Upper\n",
    "2nd = Middle\n",
    "3rd = Lower\n",
    "\n",
    "Name : 이름\n",
    "\n",
    "Sex : 성별\n",
    "\n",
    "Age : 나이\n",
    "\n",
    "SibSp : 동반한 Sibling(형제자매)와 Spouse(배우자)의 수\n",
    "\n",
    "Parch : 동반한 Parent(부모) Child(자식)의 수\n",
    "\n",
    "Ticket : 티켓의 고유넘버\n",
    "\n",
    "Fare : 티켓의 요금\n",
    "\n",
    "Cabin : 객실 번호\n",
    "\n",
    "Embarked : 승선한 항\n",
    "\n",
    "C = Cherbourg\n",
    "Q = Queenstown\n",
    "S = Southampton"
   ]
  },
  {
   "cell_type": "code",
   "execution_count": 3,
   "id": "5678d78c",
   "metadata": {
    "execution": {
     "iopub.execute_input": "2022-05-27T12:40:51.931546Z",
     "iopub.status.busy": "2022-05-27T12:40:51.930743Z",
     "iopub.status.idle": "2022-05-27T12:40:51.957203Z",
     "shell.execute_reply": "2022-05-27T12:40:51.956547Z"
    },
    "papermill": {
     "duration": 0.084584,
     "end_time": "2022-05-27T12:40:51.960112",
     "exception": false,
     "start_time": "2022-05-27T12:40:51.875528",
     "status": "completed"
    },
    "tags": []
   },
   "outputs": [
    {
     "data": {
      "text/html": [
       "<div>\n",
       "<style scoped>\n",
       "    .dataframe tbody tr th:only-of-type {\n",
       "        vertical-align: middle;\n",
       "    }\n",
       "\n",
       "    .dataframe tbody tr th {\n",
       "        vertical-align: top;\n",
       "    }\n",
       "\n",
       "    .dataframe thead th {\n",
       "        text-align: right;\n",
       "    }\n",
       "</style>\n",
       "<table border=\"1\" class=\"dataframe\">\n",
       "  <thead>\n",
       "    <tr style=\"text-align: right;\">\n",
       "      <th></th>\n",
       "      <th>PassengerId</th>\n",
       "      <th>Survived</th>\n",
       "      <th>Pclass</th>\n",
       "      <th>Name</th>\n",
       "      <th>Sex</th>\n",
       "      <th>Age</th>\n",
       "      <th>SibSp</th>\n",
       "      <th>Parch</th>\n",
       "      <th>Ticket</th>\n",
       "      <th>Fare</th>\n",
       "      <th>Cabin</th>\n",
       "      <th>Embarked</th>\n",
       "    </tr>\n",
       "  </thead>\n",
       "  <tbody>\n",
       "    <tr>\n",
       "      <th>0</th>\n",
       "      <td>1</td>\n",
       "      <td>0</td>\n",
       "      <td>3</td>\n",
       "      <td>Braund, Mr. Owen Harris</td>\n",
       "      <td>male</td>\n",
       "      <td>22.0</td>\n",
       "      <td>1</td>\n",
       "      <td>0</td>\n",
       "      <td>A/5 21171</td>\n",
       "      <td>7.2500</td>\n",
       "      <td>NaN</td>\n",
       "      <td>S</td>\n",
       "    </tr>\n",
       "    <tr>\n",
       "      <th>1</th>\n",
       "      <td>2</td>\n",
       "      <td>1</td>\n",
       "      <td>1</td>\n",
       "      <td>Cumings, Mrs. John Bradley (Florence Briggs Th...</td>\n",
       "      <td>female</td>\n",
       "      <td>38.0</td>\n",
       "      <td>1</td>\n",
       "      <td>0</td>\n",
       "      <td>PC 17599</td>\n",
       "      <td>71.2833</td>\n",
       "      <td>C85</td>\n",
       "      <td>C</td>\n",
       "    </tr>\n",
       "    <tr>\n",
       "      <th>2</th>\n",
       "      <td>3</td>\n",
       "      <td>1</td>\n",
       "      <td>3</td>\n",
       "      <td>Heikkinen, Miss. Laina</td>\n",
       "      <td>female</td>\n",
       "      <td>26.0</td>\n",
       "      <td>0</td>\n",
       "      <td>0</td>\n",
       "      <td>STON/O2. 3101282</td>\n",
       "      <td>7.9250</td>\n",
       "      <td>NaN</td>\n",
       "      <td>S</td>\n",
       "    </tr>\n",
       "    <tr>\n",
       "      <th>3</th>\n",
       "      <td>4</td>\n",
       "      <td>1</td>\n",
       "      <td>1</td>\n",
       "      <td>Futrelle, Mrs. Jacques Heath (Lily May Peel)</td>\n",
       "      <td>female</td>\n",
       "      <td>35.0</td>\n",
       "      <td>1</td>\n",
       "      <td>0</td>\n",
       "      <td>113803</td>\n",
       "      <td>53.1000</td>\n",
       "      <td>C123</td>\n",
       "      <td>S</td>\n",
       "    </tr>\n",
       "    <tr>\n",
       "      <th>4</th>\n",
       "      <td>5</td>\n",
       "      <td>0</td>\n",
       "      <td>3</td>\n",
       "      <td>Allen, Mr. William Henry</td>\n",
       "      <td>male</td>\n",
       "      <td>35.0</td>\n",
       "      <td>0</td>\n",
       "      <td>0</td>\n",
       "      <td>373450</td>\n",
       "      <td>8.0500</td>\n",
       "      <td>NaN</td>\n",
       "      <td>S</td>\n",
       "    </tr>\n",
       "  </tbody>\n",
       "</table>\n",
       "</div>"
      ],
      "text/plain": [
       "   PassengerId  Survived  Pclass  \\\n",
       "0            1         0       3   \n",
       "1            2         1       1   \n",
       "2            3         1       3   \n",
       "3            4         1       1   \n",
       "4            5         0       3   \n",
       "\n",
       "                                                Name     Sex   Age  SibSp  \\\n",
       "0                            Braund, Mr. Owen Harris    male  22.0      1   \n",
       "1  Cumings, Mrs. John Bradley (Florence Briggs Th...  female  38.0      1   \n",
       "2                             Heikkinen, Miss. Laina  female  26.0      0   \n",
       "3       Futrelle, Mrs. Jacques Heath (Lily May Peel)  female  35.0      1   \n",
       "4                           Allen, Mr. William Henry    male  35.0      0   \n",
       "\n",
       "   Parch            Ticket     Fare Cabin Embarked  \n",
       "0      0         A/5 21171   7.2500   NaN        S  \n",
       "1      0          PC 17599  71.2833   C85        C  \n",
       "2      0  STON/O2. 3101282   7.9250   NaN        S  \n",
       "3      0            113803  53.1000  C123        S  \n",
       "4      0            373450   8.0500   NaN        S  "
      ]
     },
     "execution_count": 3,
     "metadata": {},
     "output_type": "execute_result"
    }
   ],
   "source": [
    "train.head()"
   ]
  },
  {
   "cell_type": "code",
   "execution_count": 4,
   "id": "e647041e",
   "metadata": {
    "execution": {
     "iopub.execute_input": "2022-05-27T12:40:52.078219Z",
     "iopub.status.busy": "2022-05-27T12:40:52.077700Z",
     "iopub.status.idle": "2022-05-27T12:40:52.092009Z",
     "shell.execute_reply": "2022-05-27T12:40:52.091367Z"
    },
    "papermill": {
     "duration": 0.075896,
     "end_time": "2022-05-27T12:40:52.094235",
     "exception": false,
     "start_time": "2022-05-27T12:40:52.018339",
     "status": "completed"
    },
    "tags": []
   },
   "outputs": [
    {
     "data": {
      "text/html": [
       "<div>\n",
       "<style scoped>\n",
       "    .dataframe tbody tr th:only-of-type {\n",
       "        vertical-align: middle;\n",
       "    }\n",
       "\n",
       "    .dataframe tbody tr th {\n",
       "        vertical-align: top;\n",
       "    }\n",
       "\n",
       "    .dataframe thead th {\n",
       "        text-align: right;\n",
       "    }\n",
       "</style>\n",
       "<table border=\"1\" class=\"dataframe\">\n",
       "  <thead>\n",
       "    <tr style=\"text-align: right;\">\n",
       "      <th></th>\n",
       "      <th>PassengerId</th>\n",
       "      <th>Pclass</th>\n",
       "      <th>Name</th>\n",
       "      <th>Sex</th>\n",
       "      <th>Age</th>\n",
       "      <th>SibSp</th>\n",
       "      <th>Parch</th>\n",
       "      <th>Ticket</th>\n",
       "      <th>Fare</th>\n",
       "      <th>Cabin</th>\n",
       "      <th>Embarked</th>\n",
       "    </tr>\n",
       "  </thead>\n",
       "  <tbody>\n",
       "    <tr>\n",
       "      <th>0</th>\n",
       "      <td>892</td>\n",
       "      <td>3</td>\n",
       "      <td>Kelly, Mr. James</td>\n",
       "      <td>male</td>\n",
       "      <td>34.5</td>\n",
       "      <td>0</td>\n",
       "      <td>0</td>\n",
       "      <td>330911</td>\n",
       "      <td>7.8292</td>\n",
       "      <td>NaN</td>\n",
       "      <td>Q</td>\n",
       "    </tr>\n",
       "    <tr>\n",
       "      <th>1</th>\n",
       "      <td>893</td>\n",
       "      <td>3</td>\n",
       "      <td>Wilkes, Mrs. James (Ellen Needs)</td>\n",
       "      <td>female</td>\n",
       "      <td>47.0</td>\n",
       "      <td>1</td>\n",
       "      <td>0</td>\n",
       "      <td>363272</td>\n",
       "      <td>7.0000</td>\n",
       "      <td>NaN</td>\n",
       "      <td>S</td>\n",
       "    </tr>\n",
       "    <tr>\n",
       "      <th>2</th>\n",
       "      <td>894</td>\n",
       "      <td>2</td>\n",
       "      <td>Myles, Mr. Thomas Francis</td>\n",
       "      <td>male</td>\n",
       "      <td>62.0</td>\n",
       "      <td>0</td>\n",
       "      <td>0</td>\n",
       "      <td>240276</td>\n",
       "      <td>9.6875</td>\n",
       "      <td>NaN</td>\n",
       "      <td>Q</td>\n",
       "    </tr>\n",
       "    <tr>\n",
       "      <th>3</th>\n",
       "      <td>895</td>\n",
       "      <td>3</td>\n",
       "      <td>Wirz, Mr. Albert</td>\n",
       "      <td>male</td>\n",
       "      <td>27.0</td>\n",
       "      <td>0</td>\n",
       "      <td>0</td>\n",
       "      <td>315154</td>\n",
       "      <td>8.6625</td>\n",
       "      <td>NaN</td>\n",
       "      <td>S</td>\n",
       "    </tr>\n",
       "    <tr>\n",
       "      <th>4</th>\n",
       "      <td>896</td>\n",
       "      <td>3</td>\n",
       "      <td>Hirvonen, Mrs. Alexander (Helga E Lindqvist)</td>\n",
       "      <td>female</td>\n",
       "      <td>22.0</td>\n",
       "      <td>1</td>\n",
       "      <td>1</td>\n",
       "      <td>3101298</td>\n",
       "      <td>12.2875</td>\n",
       "      <td>NaN</td>\n",
       "      <td>S</td>\n",
       "    </tr>\n",
       "  </tbody>\n",
       "</table>\n",
       "</div>"
      ],
      "text/plain": [
       "   PassengerId  Pclass                                          Name     Sex  \\\n",
       "0          892       3                              Kelly, Mr. James    male   \n",
       "1          893       3              Wilkes, Mrs. James (Ellen Needs)  female   \n",
       "2          894       2                     Myles, Mr. Thomas Francis    male   \n",
       "3          895       3                              Wirz, Mr. Albert    male   \n",
       "4          896       3  Hirvonen, Mrs. Alexander (Helga E Lindqvist)  female   \n",
       "\n",
       "    Age  SibSp  Parch   Ticket     Fare Cabin Embarked  \n",
       "0  34.5      0      0   330911   7.8292   NaN        Q  \n",
       "1  47.0      1      0   363272   7.0000   NaN        S  \n",
       "2  62.0      0      0   240276   9.6875   NaN        Q  \n",
       "3  27.0      0      0   315154   8.6625   NaN        S  \n",
       "4  22.0      1      1  3101298  12.2875   NaN        S  "
      ]
     },
     "execution_count": 4,
     "metadata": {},
     "output_type": "execute_result"
    }
   ],
   "source": [
    "test.head()"
   ]
  },
  {
   "cell_type": "code",
   "execution_count": 5,
   "id": "4d2afd31",
   "metadata": {
    "execution": {
     "iopub.execute_input": "2022-05-27T12:40:52.209879Z",
     "iopub.status.busy": "2022-05-27T12:40:52.209410Z",
     "iopub.status.idle": "2022-05-27T12:40:52.247366Z",
     "shell.execute_reply": "2022-05-27T12:40:52.245808Z"
    },
    "papermill": {
     "duration": 0.101101,
     "end_time": "2022-05-27T12:40:52.250417",
     "exception": false,
     "start_time": "2022-05-27T12:40:52.149316",
     "status": "completed"
    },
    "tags": []
   },
   "outputs": [
    {
     "name": "stdout",
     "output_type": "stream",
     "text": [
      "<class 'pandas.core.frame.DataFrame'>\n",
      "RangeIndex: 891 entries, 0 to 890\n",
      "Data columns (total 12 columns):\n",
      " #   Column       Non-Null Count  Dtype  \n",
      "---  ------       --------------  -----  \n",
      " 0   PassengerId  891 non-null    int64  \n",
      " 1   Survived     891 non-null    int64  \n",
      " 2   Pclass       891 non-null    int64  \n",
      " 3   Name         891 non-null    object \n",
      " 4   Sex          891 non-null    object \n",
      " 5   Age          714 non-null    float64\n",
      " 6   SibSp        891 non-null    int64  \n",
      " 7   Parch        891 non-null    int64  \n",
      " 8   Ticket       891 non-null    object \n",
      " 9   Fare         891 non-null    float64\n",
      " 10  Cabin        204 non-null    object \n",
      " 11  Embarked     889 non-null    object \n",
      "dtypes: float64(2), int64(5), object(5)\n",
      "memory usage: 83.7+ KB\n",
      "None\n",
      "(891, 12)\n",
      "<class 'pandas.core.frame.DataFrame'>\n",
      "RangeIndex: 418 entries, 0 to 417\n",
      "Data columns (total 11 columns):\n",
      " #   Column       Non-Null Count  Dtype  \n",
      "---  ------       --------------  -----  \n",
      " 0   PassengerId  418 non-null    int64  \n",
      " 1   Pclass       418 non-null    int64  \n",
      " 2   Name         418 non-null    object \n",
      " 3   Sex          418 non-null    object \n",
      " 4   Age          332 non-null    float64\n",
      " 5   SibSp        418 non-null    int64  \n",
      " 6   Parch        418 non-null    int64  \n",
      " 7   Ticket       418 non-null    object \n",
      " 8   Fare         417 non-null    float64\n",
      " 9   Cabin        91 non-null     object \n",
      " 10  Embarked     418 non-null    object \n",
      "dtypes: float64(2), int64(4), object(5)\n",
      "memory usage: 36.0+ KB\n",
      "None\n",
      "(418, 11)\n"
     ]
    }
   ],
   "source": [
    "print(train.info())\n",
    "print(train.shape)\n",
    "print(test.info())\n",
    "print(test.shape)"
   ]
  },
  {
   "cell_type": "code",
   "execution_count": 6,
   "id": "1398eef3",
   "metadata": {
    "execution": {
     "iopub.execute_input": "2022-05-27T12:40:52.363576Z",
     "iopub.status.busy": "2022-05-27T12:40:52.362791Z",
     "iopub.status.idle": "2022-05-27T12:40:52.371449Z",
     "shell.execute_reply": "2022-05-27T12:40:52.370508Z"
    },
    "papermill": {
     "duration": 0.0676,
     "end_time": "2022-05-27T12:40:52.373784",
     "exception": false,
     "start_time": "2022-05-27T12:40:52.306184",
     "status": "completed"
    },
    "tags": []
   },
   "outputs": [
    {
     "data": {
      "text/plain": [
       "PassengerId      0\n",
       "Survived         0\n",
       "Pclass           0\n",
       "Name             0\n",
       "Sex              0\n",
       "Age            177\n",
       "SibSp            0\n",
       "Parch            0\n",
       "Ticket           0\n",
       "Fare             0\n",
       "Cabin          687\n",
       "Embarked         2\n",
       "dtype: int64"
      ]
     },
     "execution_count": 6,
     "metadata": {},
     "output_type": "execute_result"
    }
   ],
   "source": [
    "train.isnull().sum()"
   ]
  },
  {
   "cell_type": "code",
   "execution_count": 7,
   "id": "3d23b7ca",
   "metadata": {
    "execution": {
     "iopub.execute_input": "2022-05-27T12:40:52.485620Z",
     "iopub.status.busy": "2022-05-27T12:40:52.484777Z",
     "iopub.status.idle": "2022-05-27T12:40:52.493339Z",
     "shell.execute_reply": "2022-05-27T12:40:52.492367Z"
    },
    "papermill": {
     "duration": 0.068118,
     "end_time": "2022-05-27T12:40:52.495629",
     "exception": false,
     "start_time": "2022-05-27T12:40:52.427511",
     "status": "completed"
    },
    "tags": []
   },
   "outputs": [
    {
     "data": {
      "text/plain": [
       "PassengerId      0\n",
       "Pclass           0\n",
       "Name             0\n",
       "Sex              0\n",
       "Age             86\n",
       "SibSp            0\n",
       "Parch            0\n",
       "Ticket           0\n",
       "Fare             1\n",
       "Cabin          327\n",
       "Embarked         0\n",
       "dtype: int64"
      ]
     },
     "execution_count": 7,
     "metadata": {},
     "output_type": "execute_result"
    }
   ],
   "source": [
    "test.isnull().sum()"
   ]
  },
  {
   "cell_type": "markdown",
   "id": "676490d8",
   "metadata": {
    "papermill": {
     "duration": 0.055303,
     "end_time": "2022-05-27T12:40:52.606578",
     "exception": false,
     "start_time": "2022-05-27T12:40:52.551275",
     "status": "completed"
    },
    "tags": []
   },
   "source": [
    "# Visualization"
   ]
  },
  {
   "cell_type": "code",
   "execution_count": 8,
   "id": "cbf52da3",
   "metadata": {
    "execution": {
     "iopub.execute_input": "2022-05-27T12:40:52.721874Z",
     "iopub.status.busy": "2022-05-27T12:40:52.721571Z",
     "iopub.status.idle": "2022-05-27T12:40:54.010930Z",
     "shell.execute_reply": "2022-05-27T12:40:54.009320Z"
    },
    "papermill": {
     "duration": 1.351016,
     "end_time": "2022-05-27T12:40:54.014675",
     "exception": false,
     "start_time": "2022-05-27T12:40:52.663659",
     "status": "completed"
    },
    "tags": []
   },
   "outputs": [],
   "source": [
    "import matplotlib.pyplot as plt\n",
    "%matplotlib inline\n",
    "import seaborn as sns\n",
    "sns.set() # setting seaborn default for plots"
   ]
  },
  {
   "cell_type": "code",
   "execution_count": 9,
   "id": "16dcdb56",
   "metadata": {
    "execution": {
     "iopub.execute_input": "2022-05-27T12:40:54.135249Z",
     "iopub.status.busy": "2022-05-27T12:40:54.134388Z",
     "iopub.status.idle": "2022-05-27T12:40:54.141068Z",
     "shell.execute_reply": "2022-05-27T12:40:54.139914Z"
    },
    "papermill": {
     "duration": 0.07226,
     "end_time": "2022-05-27T12:40:54.143598",
     "exception": false,
     "start_time": "2022-05-27T12:40:54.071338",
     "status": "completed"
    },
    "tags": []
   },
   "outputs": [],
   "source": [
    "def bar_chart(feature):\n",
    "    survived = train[train['Survived']==1][feature].value_counts()\n",
    "    dead = train[train['Survived']==0][feature].value_counts()\n",
    "    df = pd.DataFrame([survived,dead])\n",
    "    df.index = ['Survived','Dead']\n",
    "    df.plot(kind='bar',stacked=True, figsize=(10,5))"
   ]
  },
  {
   "cell_type": "code",
   "execution_count": 10,
   "id": "84477b40",
   "metadata": {
    "execution": {
     "iopub.execute_input": "2022-05-27T12:40:54.260001Z",
     "iopub.status.busy": "2022-05-27T12:40:54.259313Z",
     "iopub.status.idle": "2022-05-27T12:40:54.537629Z",
     "shell.execute_reply": "2022-05-27T12:40:54.536461Z"
    },
    "papermill": {
     "duration": 0.341189,
     "end_time": "2022-05-27T12:40:54.540673",
     "exception": false,
     "start_time": "2022-05-27T12:40:54.199484",
     "status": "completed"
    },
    "tags": []
   },
   "outputs": [
    {
     "data": {
      "image/png": "[encoded data removed]",
      "text/plain": [
       "<Figure size 720x360 with 1 Axes>"
      ]
     },
     "metadata": {},
     "output_type": "display_data"
    }
   ],
   "source": [
    "bar_chart('Sex')"
   ]
  },
  {
   "cell_type": "code",
   "execution_count": 11,
   "id": "36d01083",
   "metadata": {
    "execution": {
     "iopub.execute_input": "2022-05-27T12:40:54.666186Z",
     "iopub.status.busy": "2022-05-27T12:40:54.665280Z",
     "iopub.status.idle": "2022-05-27T12:40:54.920261Z",
     "shell.execute_reply": "2022-05-27T12:40:54.919515Z"
    },
    "papermill": {
     "duration": 0.321922,
     "end_time": "2022-05-27T12:40:54.922915",
     "exception": false,
     "start_time": "2022-05-27T12:40:54.600993",
     "status": "completed"
    },
    "tags": []
   },
   "outputs": [
    {
     "data": {
      "image/png": "[encoded data removed]",
      "text/plain": [
       "<Figure size 720x360 with 1 Axes>"
      ]
     },
     "metadata": {},
     "output_type": "display_data"
    }
   ],
   "source": [
    "bar_chart('Pclass')"
   ]
  },
  {
   "cell_type": "code",
   "execution_count": 12,
   "id": "b1725587",
   "metadata": {
    "execution": {
     "iopub.execute_input": "2022-05-27T12:40:55.048281Z",
     "iopub.status.busy": "2022-05-27T12:40:55.047949Z",
     "iopub.status.idle": "2022-05-27T12:40:55.314008Z",
     "shell.execute_reply": "2022-05-27T12:40:55.313059Z"
    },
    "papermill": {
     "duration": 0.332113,
     "end_time": "2022-05-27T12:40:55.316327",
     "exception": false,
     "start_time": "2022-05-27T12:40:54.984214",
     "status": "completed"
    },
    "tags": []
   },
   "outputs": [
    {
     "data": {
      "image/png": "[encoded data removed]",
      "text/plain": [
       "<Figure size 720x360 with 1 Axes>"
      ]
     },
     "metadata": {},
     "output_type": "display_data"
    }
   ],
   "source": [
    "bar_chart('SibSp')"
   ]
  },
  {
   "cell_type": "code",
   "execution_count": 13,
   "id": "8573cc8d",
   "metadata": {
    "execution": {
     "iopub.execute_input": "2022-05-27T12:40:55.436969Z",
     "iopub.status.busy": "2022-05-27T12:40:55.436667Z",
     "iopub.status.idle": "2022-05-27T12:40:55.721848Z",
     "shell.execute_reply": "2022-05-27T12:40:55.720412Z"
    },
    "papermill": {
     "duration": 0.34795,
     "end_time": "2022-05-27T12:40:55.724441",
     "exception": false,
     "start_time": "2022-05-27T12:40:55.376491",
     "status": "completed"
    },
    "tags": []
   },
   "outputs": [
    {
     "data": {
      "image/png": "[encoded data removed]",
      "text/plain": [
       "<Figure size 720x360 with 1 Axes>"
      ]
     },
     "metadata": {},
     "output_type": "display_data"
    }
   ],
   "source": [
    "bar_chart('Parch')"
   ]
  },
  {
   "cell_type": "code",
   "execution_count": 14,
   "id": "ffc12497",
   "metadata": {
    "execution": {
     "iopub.execute_input": "2022-05-27T12:40:55.854172Z",
     "iopub.status.busy": "2022-05-27T12:40:55.853673Z",
     "iopub.status.idle": "2022-05-27T12:40:56.084762Z",
     "shell.execute_reply": "2022-05-27T12:40:56.083386Z"
    },
    "papermill": {
     "duration": 0.300396,
     "end_time": "2022-05-27T12:40:56.087548",
     "exception": false,
     "start_time": "2022-05-27T12:40:55.787152",
     "status": "completed"
    },
    "tags": []
   },
   "outputs": [
    {
     "data": {
      "image/png": "[encoded data removed]",
      "text/plain": [
       "<Figure size 720x360 with 1 Axes>"
      ]
     },
     "metadata": {},
     "output_type": "display_data"
    }
   ],
   "source": [
    "bar_chart('Embarked')"
   ]
  },
  {
   "cell_type": "markdown",
   "id": "0368c044",
   "metadata": {
    "papermill": {
     "duration": 0.06246,
     "end_time": "2022-05-27T12:40:56.216476",
     "exception": false,
     "start_time": "2022-05-27T12:40:56.154016",
     "status": "completed"
    },
    "tags": []
   },
   "source": [
    "# Feature Engineering"
   ]
  },
  {
   "cell_type": "markdown",
   "id": "99482603",
   "metadata": {
    "papermill": {
     "duration": 0.062941,
     "end_time": "2022-05-27T12:40:56.345267",
     "exception": false,
     "start_time": "2022-05-27T12:40:56.282326",
     "status": "completed"
    },
    "tags": []
   },
   "source": [
    "## 1️⃣ Name"
   ]
  },
  {
   "cell_type": "markdown",
   "id": "d6cfd5e9",
   "metadata": {
    "papermill": {
     "duration": 0.065249,
     "end_time": "2022-05-27T12:40:56.474107",
     "exception": false,
     "start_time": "2022-05-27T12:40:56.408858",
     "status": "completed"
    },
    "tags": []
   },
   "source": [
    "### Name에서 Mr, Miss 등의 Title -> 중요 ⭐️"
   ]
  },
  {
   "cell_type": "code",
   "execution_count": 15,
   "id": "685e11dc",
   "metadata": {
    "execution": {
     "iopub.execute_input": "2022-05-27T12:40:56.602342Z",
     "iopub.status.busy": "2022-05-27T12:40:56.602011Z",
     "iopub.status.idle": "2022-05-27T12:40:56.611002Z",
     "shell.execute_reply": "2022-05-27T12:40:56.610259Z"
    },
    "papermill": {
     "duration": 0.075818,
     "end_time": "2022-05-27T12:40:56.613169",
     "exception": false,
     "start_time": "2022-05-27T12:40:56.537351",
     "status": "completed"
    },
    "tags": []
   },
   "outputs": [],
   "source": [
    "train_test_data = [train, test] # combining train and test dataset\n",
    "\n",
    "for dataset in train_test_data:\n",
    "    dataset['Title'] = dataset['Name'].str.extract(' ([A-Za-z]+)\\.', expand=False)"
   ]
  },
  {
   "cell_type": "code",
   "execution_count": 16,
   "id": "6df27c4d",
   "metadata": {
    "execution": {
     "iopub.execute_input": "2022-05-27T12:40:56.747810Z",
     "iopub.status.busy": "2022-05-27T12:40:56.747274Z",
     "iopub.status.idle": "2022-05-27T12:40:56.756219Z",
     "shell.execute_reply": "2022-05-27T12:40:56.754663Z"
    },
    "papermill": {
     "duration": 0.078967,
     "end_time": "2022-05-27T12:40:56.759497",
     "exception": false,
     "start_time": "2022-05-27T12:40:56.680530",
     "status": "completed"
    },
    "tags": []
   },
   "outputs": [
    {
     "data": {
      "text/plain": [
       "Mr          517\n",
       "Miss        182\n",
       "Mrs         125\n",
       "Master       40\n",
       "Dr            7\n",
       "Rev           6\n",
       "Mlle          2\n",
       "Major         2\n",
       "Col           2\n",
       "Countess      1\n",
       "Capt          1\n",
       "Ms            1\n",
       "Sir           1\n",
       "Lady          1\n",
       "Mme           1\n",
       "Don           1\n",
       "Jonkheer      1\n",
       "Name: Title, dtype: int64"
      ]
     },
     "execution_count": 16,
     "metadata": {},
     "output_type": "execute_result"
    }
   ],
   "source": [
    "train['Title'].value_counts()"
   ]
  },
  {
   "cell_type": "code",
   "execution_count": 17,
   "id": "fd4c8baf",
   "metadata": {
    "execution": {
     "iopub.execute_input": "2022-05-27T12:40:56.890964Z",
     "iopub.status.busy": "2022-05-27T12:40:56.889606Z",
     "iopub.status.idle": "2022-05-27T12:40:56.898965Z",
     "shell.execute_reply": "2022-05-27T12:40:56.897839Z"
    },
    "papermill": {
     "duration": 0.077817,
     "end_time": "2022-05-27T12:40:56.901764",
     "exception": false,
     "start_time": "2022-05-27T12:40:56.823947",
     "status": "completed"
    },
    "tags": []
   },
   "outputs": [
    {
     "data": {
      "text/plain": [
       "Mr        240\n",
       "Miss       78\n",
       "Mrs        72\n",
       "Master     21\n",
       "Col         2\n",
       "Rev         2\n",
       "Ms          1\n",
       "Dr          1\n",
       "Dona        1\n",
       "Name: Title, dtype: int64"
      ]
     },
     "execution_count": 17,
     "metadata": {},
     "output_type": "execute_result"
    }
   ],
   "source": [
    "test['Title'].value_counts()"
   ]
  },
  {
   "cell_type": "markdown",
   "id": "597eb1d1",
   "metadata": {
    "papermill": {
     "duration": 0.068858,
     "end_time": "2022-05-27T12:40:57.034856",
     "exception": false,
     "start_time": "2022-05-27T12:40:56.965998",
     "status": "completed"
    },
    "tags": []
   },
   "source": [
    "### Title이라는 새로운 column 생성"
   ]
  },
  {
   "cell_type": "code",
   "execution_count": 18,
   "id": "2c987d8d",
   "metadata": {
    "execution": {
     "iopub.execute_input": "2022-05-27T12:40:57.162871Z",
     "iopub.status.busy": "2022-05-27T12:40:57.162374Z",
     "iopub.status.idle": "2022-05-27T12:40:57.170617Z",
     "shell.execute_reply": "2022-05-27T12:40:57.169807Z"
    },
    "papermill": {
     "duration": 0.077312,
     "end_time": "2022-05-27T12:40:57.173151",
     "exception": false,
     "start_time": "2022-05-27T12:40:57.095839",
     "status": "completed"
    },
    "tags": []
   },
   "outputs": [],
   "source": [
    "title_mapping = {\"Mr\": 0, \"Miss\": 1, \"Mrs\": 2, \n",
    "                 \"Master\": 3, \"Dr\": 3, \"Rev\": 3, \"Col\": 3, \"Major\": 3, \"Mlle\": 3,\"Countess\": 3,\n",
    "                 \"Ms\": 3, \"Lady\": 3, \"Jonkheer\": 3, \"Don\": 3, \"Dona\" : 3, \"Mme\": 3,\"Capt\": 3,\"Sir\": 3 }\n",
    "for dataset in train_test_data:\n",
    "    dataset['Title'] = dataset['Title'].map(title_mapping)"
   ]
  },
  {
   "cell_type": "code",
   "execution_count": 19,
   "id": "ef4f0dbd",
   "metadata": {
    "execution": {
     "iopub.execute_input": "2022-05-27T12:40:57.302711Z",
     "iopub.status.busy": "2022-05-27T12:40:57.302037Z",
     "iopub.status.idle": "2022-05-27T12:40:57.585840Z",
     "shell.execute_reply": "2022-05-27T12:40:57.580241Z"
    },
    "papermill": {
     "duration": 0.3522,
     "end_time": "2022-05-27T12:40:57.589070",
     "exception": false,
     "start_time": "2022-05-27T12:40:57.236870",
     "status": "completed"
    },
    "tags": []
   },
   "outputs": [
    {
     "data": {
      "image/png": "[encoded data removed]",
      "text/plain": [
       "<Figure size 720x360 with 1 Axes>"
      ]
     },
     "metadata": {},
     "output_type": "display_data"
    }
   ],
   "source": [
    "bar_chart('Title')"
   ]
  },
  {
   "cell_type": "code",
   "execution_count": 20,
   "id": "15a2bbb7",
   "metadata": {
    "execution": {
     "iopub.execute_input": "2022-05-27T12:40:57.762063Z",
     "iopub.status.busy": "2022-05-27T12:40:57.761345Z",
     "iopub.status.idle": "2022-05-27T12:40:57.771962Z",
     "shell.execute_reply": "2022-05-27T12:40:57.768926Z"
    },
    "papermill": {
     "duration": 0.121514,
     "end_time": "2022-05-27T12:40:57.776143",
     "exception": false,
     "start_time": "2022-05-27T12:40:57.654629",
     "status": "completed"
    },
    "tags": []
   },
   "outputs": [],
   "source": [
    "train.drop('Name', axis=1, inplace=True)\n",
    "test.drop('Name', axis=1, inplace=True)"
   ]
  },
  {
   "cell_type": "markdown",
   "id": "1e682b47",
   "metadata": {
    "papermill": {
     "duration": 0.083763,
     "end_time": "2022-05-27T12:40:57.935767",
     "exception": false,
     "start_time": "2022-05-27T12:40:57.852004",
     "status": "completed"
    },
    "tags": []
   },
   "source": [
    "## 2️⃣ Sex"
   ]
  },
  {
   "cell_type": "code",
   "execution_count": 21,
   "id": "2c46071f",
   "metadata": {
    "execution": {
     "iopub.execute_input": "2022-05-27T12:40:58.073997Z",
     "iopub.status.busy": "2022-05-27T12:40:58.073454Z",
     "iopub.status.idle": "2022-05-27T12:40:58.080832Z",
     "shell.execute_reply": "2022-05-27T12:40:58.080167Z"
    },
    "papermill": {
     "duration": 0.079655,
     "end_time": "2022-05-27T12:40:58.083044",
     "exception": false,
     "start_time": "2022-05-27T12:40:58.003389",
     "status": "completed"
    },
    "tags": []
   },
   "outputs": [],
   "source": [
    "sex_mapping = {\"male\": 0, \"female\": 1}\n",
    "for dataset in train_test_data:\n",
    "    dataset['Sex'] = dataset['Sex'].map(sex_mapping)"
   ]
  },
  {
   "cell_type": "code",
   "execution_count": 22,
   "id": "d65d25ef",
   "metadata": {
    "execution": {
     "iopub.execute_input": "2022-05-27T12:40:58.216822Z",
     "iopub.status.busy": "2022-05-27T12:40:58.216193Z",
     "iopub.status.idle": "2022-05-27T12:40:58.436487Z",
     "shell.execute_reply": "2022-05-27T12:40:58.435376Z"
    },
    "papermill": {
     "duration": 0.290082,
     "end_time": "2022-05-27T12:40:58.438831",
     "exception": false,
     "start_time": "2022-05-27T12:40:58.148749",
     "status": "completed"
    },
    "tags": []
   },
   "outputs": [
    {
     "data": {
      "image/png": "[encoded data removed]",
      "text/plain": [
       "<Figure size 720x360 with 1 Axes>"
      ]
     },
     "metadata": {},
     "output_type": "display_data"
    }
   ],
   "source": [
    "bar_chart('Sex')"
   ]
  },
  {
   "cell_type": "markdown",
   "id": "60ad2b02",
   "metadata": {
    "papermill": {
     "duration": 0.067143,
     "end_time": "2022-05-27T12:40:58.575034",
     "exception": false,
     "start_time": "2022-05-27T12:40:58.507891",
     "status": "completed"
    },
    "tags": []
   },
   "source": [
    "## 3️⃣ Age\n",
    "→ title에 따른 평균 값으로 채우기"
   ]
  },
  {
   "cell_type": "code",
   "execution_count": 23,
   "id": "0bbfb6f0",
   "metadata": {
    "execution": {
     "iopub.execute_input": "2022-05-27T12:40:58.715785Z",
     "iopub.status.busy": "2022-05-27T12:40:58.715044Z",
     "iopub.status.idle": "2022-05-27T12:40:58.728330Z",
     "shell.execute_reply": "2022-05-27T12:40:58.727167Z"
    },
    "papermill": {
     "duration": 0.087286,
     "end_time": "2022-05-27T12:40:58.731005",
     "exception": false,
     "start_time": "2022-05-27T12:40:58.643719",
     "status": "completed"
    },
    "tags": []
   },
   "outputs": [],
   "source": [
    "train[\"Age\"].fillna(train.groupby(\"Title\")[\"Age\"].transform(\"median\"), inplace=True)\n",
    "test[\"Age\"].fillna(test.groupby(\"Title\")[\"Age\"].transform(\"median\"), inplace=True)"
   ]
  },
  {
   "cell_type": "code",
   "execution_count": 24,
   "id": "66c08cc6",
   "metadata": {
    "execution": {
     "iopub.execute_input": "2022-05-27T12:40:58.868038Z",
     "iopub.status.busy": "2022-05-27T12:40:58.867087Z",
     "iopub.status.idle": "2022-05-27T12:40:58.878431Z",
     "shell.execute_reply": "2022-05-27T12:40:58.877371Z"
    },
    "papermill": {
     "duration": 0.083192,
     "end_time": "2022-05-27T12:40:58.880804",
     "exception": false,
     "start_time": "2022-05-27T12:40:58.797612",
     "status": "completed"
    },
    "tags": []
   },
   "outputs": [
    {
     "data": {
      "text/plain": [
       "0      30.0\n",
       "1      35.0\n",
       "2      21.0\n",
       "3      35.0\n",
       "4      30.0\n",
       "       ... \n",
       "886     9.0\n",
       "887    21.0\n",
       "888    21.0\n",
       "889    30.0\n",
       "890    30.0\n",
       "Name: Age, Length: 891, dtype: float64"
      ]
     },
     "execution_count": 24,
     "metadata": {},
     "output_type": "execute_result"
    }
   ],
   "source": [
    "train.head(30)\n",
    "train.groupby(\"Title\")[\"Age\"].transform(\"median\")"
   ]
  },
  {
   "cell_type": "code",
   "execution_count": 25,
   "id": "1a9e66c6",
   "metadata": {
    "execution": {
     "iopub.execute_input": "2022-05-27T12:40:59.010154Z",
     "iopub.status.busy": "2022-05-27T12:40:59.008352Z",
     "iopub.status.idle": "2022-05-27T12:40:59.018562Z",
     "shell.execute_reply": "2022-05-27T12:40:59.017722Z"
    },
    "papermill": {
     "duration": 0.077064,
     "end_time": "2022-05-27T12:40:59.021288",
     "exception": false,
     "start_time": "2022-05-27T12:40:58.944224",
     "status": "completed"
    },
    "tags": []
   },
   "outputs": [],
   "source": [
    "train['Age'] = train['Age'].round(0).astype('int64')\n",
    "test['Age'] = test['Age'].round(0).astype('int64')"
   ]
  },
  {
   "cell_type": "markdown",
   "id": "dbb5173b",
   "metadata": {
    "papermill": {
     "duration": 0.066404,
     "end_time": "2022-05-27T12:40:59.154115",
     "exception": false,
     "start_time": "2022-05-27T12:40:59.087711",
     "status": "completed"
    },
    "tags": []
   },
   "source": [
    "## 4️⃣ Embarked"
   ]
  },
  {
   "cell_type": "code",
   "execution_count": 26,
   "id": "eba62074",
   "metadata": {
    "execution": {
     "iopub.execute_input": "2022-05-27T12:40:59.296367Z",
     "iopub.status.busy": "2022-05-27T12:40:59.295163Z",
     "iopub.status.idle": "2022-05-27T12:40:59.302468Z",
     "shell.execute_reply": "2022-05-27T12:40:59.301612Z"
    },
    "papermill": {
     "duration": 0.081167,
     "end_time": "2022-05-27T12:40:59.306354",
     "exception": false,
     "start_time": "2022-05-27T12:40:59.225187",
     "status": "completed"
    },
    "tags": []
   },
   "outputs": [],
   "source": [
    "for dataset in train_test_data:\n",
    "    dataset['Embarked'] = dataset['Embarked'].fillna('S')"
   ]
  },
  {
   "cell_type": "code",
   "execution_count": 27,
   "id": "8e0f5cc6",
   "metadata": {
    "execution": {
     "iopub.execute_input": "2022-05-27T12:40:59.441492Z",
     "iopub.status.busy": "2022-05-27T12:40:59.440795Z",
     "iopub.status.idle": "2022-05-27T12:40:59.447836Z",
     "shell.execute_reply": "2022-05-27T12:40:59.447111Z"
    },
    "papermill": {
     "duration": 0.078018,
     "end_time": "2022-05-27T12:40:59.450196",
     "exception": false,
     "start_time": "2022-05-27T12:40:59.372178",
     "status": "completed"
    },
    "tags": []
   },
   "outputs": [],
   "source": [
    "embarked_mapping = {\"S\": 0, \"C\": 1, \"Q\": 2}\n",
    "for dataset in train_test_data:\n",
    "    dataset['Embarked'] = dataset['Embarked'].map(embarked_mapping)"
   ]
  },
  {
   "cell_type": "code",
   "execution_count": 28,
   "id": "49c5dab6",
   "metadata": {
    "execution": {
     "iopub.execute_input": "2022-05-27T12:40:59.593742Z",
     "iopub.status.busy": "2022-05-27T12:40:59.592858Z",
     "iopub.status.idle": "2022-05-27T12:40:59.601765Z",
     "shell.execute_reply": "2022-05-27T12:40:59.601092Z"
    },
    "papermill": {
     "duration": 0.087037,
     "end_time": "2022-05-27T12:40:59.604518",
     "exception": false,
     "start_time": "2022-05-27T12:40:59.517481",
     "status": "completed"
    },
    "tags": []
   },
   "outputs": [
    {
     "data": {
      "text/plain": [
       "PassengerId      0\n",
       "Survived         0\n",
       "Pclass           0\n",
       "Sex              0\n",
       "Age              0\n",
       "SibSp            0\n",
       "Parch            0\n",
       "Ticket           0\n",
       "Fare             0\n",
       "Cabin          687\n",
       "Embarked         0\n",
       "Title            0\n",
       "dtype: int64"
      ]
     },
     "execution_count": 28,
     "metadata": {},
     "output_type": "execute_result"
    }
   ],
   "source": [
    "train.isnull().sum()"
   ]
  },
  {
   "cell_type": "markdown",
   "id": "5901b6b2",
   "metadata": {
    "papermill": {
     "duration": 0.070097,
     "end_time": "2022-05-27T12:40:59.746899",
     "exception": false,
     "start_time": "2022-05-27T12:40:59.676802",
     "status": "completed"
    },
    "tags": []
   },
   "source": [
    "## 5️⃣ Fare"
   ]
  },
  {
   "cell_type": "code",
   "execution_count": 29,
   "id": "f3f21f0a",
   "metadata": {
    "execution": {
     "iopub.execute_input": "2022-05-27T12:40:59.892563Z",
     "iopub.status.busy": "2022-05-27T12:40:59.892260Z",
     "iopub.status.idle": "2022-05-27T12:40:59.902602Z",
     "shell.execute_reply": "2022-05-27T12:40:59.900789Z"
    },
    "papermill": {
     "duration": 0.088545,
     "end_time": "2022-05-27T12:40:59.905809",
     "exception": false,
     "start_time": "2022-05-27T12:40:59.817264",
     "status": "completed"
    },
    "tags": []
   },
   "outputs": [],
   "source": [
    "train[\"Fare\"].fillna(train.groupby(\"Pclass\")[\"Fare\"].transform(\"median\"), inplace=True)\n",
    "test[\"Fare\"].fillna(test.groupby(\"Pclass\")[\"Fare\"].transform(\"median\"), inplace=True)"
   ]
  },
  {
   "cell_type": "code",
   "execution_count": 30,
   "id": "7303f9f6",
   "metadata": {
    "execution": {
     "iopub.execute_input": "2022-05-27T12:41:00.052113Z",
     "iopub.status.busy": "2022-05-27T12:41:00.051796Z",
     "iopub.status.idle": "2022-05-27T12:41:00.060011Z",
     "shell.execute_reply": "2022-05-27T12:41:00.058723Z"
    },
    "papermill": {
     "duration": 0.085969,
     "end_time": "2022-05-27T12:41:00.063233",
     "exception": false,
     "start_time": "2022-05-27T12:40:59.977264",
     "status": "completed"
    },
    "tags": []
   },
   "outputs": [],
   "source": [
    "train['Fare'] = train['Fare'].round(0).astype('int64')\n",
    "test['Fare'] = test['Fare'].round(0).astype('int64')"
   ]
  },
  {
   "cell_type": "markdown",
   "id": "a1649aa7",
   "metadata": {
    "papermill": {
     "duration": 0.065695,
     "end_time": "2022-05-27T12:41:00.197569",
     "exception": false,
     "start_time": "2022-05-27T12:41:00.131874",
     "status": "completed"
    },
    "tags": []
   },
   "source": [
    "## 6️⃣ Cabin"
   ]
  },
  {
   "cell_type": "code",
   "execution_count": 31,
   "id": "7e86a034",
   "metadata": {
    "execution": {
     "iopub.execute_input": "2022-05-27T12:41:00.337804Z",
     "iopub.status.busy": "2022-05-27T12:41:00.337165Z",
     "iopub.status.idle": "2022-05-27T12:41:00.345843Z",
     "shell.execute_reply": "2022-05-27T12:41:00.345193Z"
    },
    "papermill": {
     "duration": 0.083497,
     "end_time": "2022-05-27T12:41:00.348106",
     "exception": false,
     "start_time": "2022-05-27T12:41:00.264609",
     "status": "completed"
    },
    "tags": []
   },
   "outputs": [
    {
     "data": {
      "text/plain": [
       "B96 B98        4\n",
       "G6             4\n",
       "C23 C25 C27    4\n",
       "C22 C26        3\n",
       "F33            3\n",
       "              ..\n",
       "E34            1\n",
       "C7             1\n",
       "C54            1\n",
       "E36            1\n",
       "C148           1\n",
       "Name: Cabin, Length: 147, dtype: int64"
      ]
     },
     "execution_count": 31,
     "metadata": {},
     "output_type": "execute_result"
    }
   ],
   "source": [
    "train.Cabin.value_counts()"
   ]
  },
  {
   "cell_type": "code",
   "execution_count": 32,
   "id": "1a9d2aa3",
   "metadata": {
    "execution": {
     "iopub.execute_input": "2022-05-27T12:41:00.495316Z",
     "iopub.status.busy": "2022-05-27T12:41:00.494875Z",
     "iopub.status.idle": "2022-05-27T12:41:00.500918Z",
     "shell.execute_reply": "2022-05-27T12:41:00.500298Z"
    },
    "papermill": {
     "duration": 0.080228,
     "end_time": "2022-05-27T12:41:00.503056",
     "exception": false,
     "start_time": "2022-05-27T12:41:00.422828",
     "status": "completed"
    },
    "tags": []
   },
   "outputs": [],
   "source": [
    "for dataset in train_test_data:\n",
    "    dataset['Cabin'] = dataset['Cabin'].str[:1]"
   ]
  },
  {
   "cell_type": "code",
   "execution_count": 33,
   "id": "98e1df01",
   "metadata": {
    "execution": {
     "iopub.execute_input": "2022-05-27T12:41:00.650738Z",
     "iopub.status.busy": "2022-05-27T12:41:00.650136Z",
     "iopub.status.idle": "2022-05-27T12:41:00.974326Z",
     "shell.execute_reply": "2022-05-27T12:41:00.973114Z"
    },
    "papermill": {
     "duration": 0.399214,
     "end_time": "2022-05-27T12:41:00.976819",
     "exception": false,
     "start_time": "2022-05-27T12:41:00.577605",
     "status": "completed"
    },
    "tags": []
   },
   "outputs": [
    {
     "data": {
      "text/plain": [
       "<AxesSubplot:>"
      ]
     },
     "execution_count": 33,
     "metadata": {},
     "output_type": "execute_result"
    },
    {
     "data": {
      "image/png": "[encoded data removed]",
      "text/plain": [
       "<Figure size 720x360 with 1 Axes>"
      ]
     },
     "metadata": {},
     "output_type": "display_data"
    }
   ],
   "source": [
    "Pclass1 = train[train['Pclass']==1]['Cabin'].value_counts()\n",
    "Pclass2 = train[train['Pclass']==2]['Cabin'].value_counts()\n",
    "Pclass3 = train[train['Pclass']==3]['Cabin'].value_counts()\n",
    "df = pd.DataFrame([Pclass1, Pclass2, Pclass3])\n",
    "df.index = ['1st class','2nd class', '3rd class']\n",
    "df.plot(kind='bar',stacked=True, figsize=(10,5))"
   ]
  },
  {
   "cell_type": "code",
   "execution_count": 34,
   "id": "17cf153a",
   "metadata": {
    "execution": {
     "iopub.execute_input": "2022-05-27T12:41:01.127207Z",
     "iopub.status.busy": "2022-05-27T12:41:01.126910Z",
     "iopub.status.idle": "2022-05-27T12:41:01.134745Z",
     "shell.execute_reply": "2022-05-27T12:41:01.133953Z"
    },
    "papermill": {
     "duration": 0.081765,
     "end_time": "2022-05-27T12:41:01.137068",
     "exception": false,
     "start_time": "2022-05-27T12:41:01.055303",
     "status": "completed"
    },
    "tags": []
   },
   "outputs": [],
   "source": [
    "cabin_mapping = {\"A\": 0, \"B\": 0.4, \"C\": 0.8, \"D\": 1.2, \"E\": 1.6, \"F\": 2, \"G\": 2.4, \"T\": 2.8}\n",
    "for dataset in train_test_data:\n",
    "    dataset['Cabin'] = dataset['Cabin'].map(cabin_mapping)"
   ]
  },
  {
   "cell_type": "code",
   "execution_count": 35,
   "id": "80ac3db0",
   "metadata": {
    "execution": {
     "iopub.execute_input": "2022-05-27T12:41:01.278515Z",
     "iopub.status.busy": "2022-05-27T12:41:01.278239Z",
     "iopub.status.idle": "2022-05-27T12:41:01.287844Z",
     "shell.execute_reply": "2022-05-27T12:41:01.287044Z"
    },
    "papermill": {
     "duration": 0.083654,
     "end_time": "2022-05-27T12:41:01.289708",
     "exception": false,
     "start_time": "2022-05-27T12:41:01.206054",
     "status": "completed"
    },
    "tags": []
   },
   "outputs": [],
   "source": [
    "# fill missing Fare with median fare for each Pclass\n",
    "train[\"Cabin\"].fillna(train.groupby(\"Pclass\")[\"Cabin\"].transform(\"median\"), inplace=True)\n",
    "test[\"Cabin\"].fillna(test.groupby(\"Pclass\")[\"Cabin\"].transform(\"median\"), inplace=True)"
   ]
  },
  {
   "cell_type": "markdown",
   "id": "d04ab106",
   "metadata": {
    "papermill": {
     "duration": 0.071133,
     "end_time": "2022-05-27T12:41:01.428390",
     "exception": false,
     "start_time": "2022-05-27T12:41:01.357257",
     "status": "completed"
    },
    "tags": []
   },
   "source": [
    "## 7️⃣ FamilySize"
   ]
  },
  {
   "cell_type": "code",
   "execution_count": 36,
   "id": "7a9fba36",
   "metadata": {
    "execution": {
     "iopub.execute_input": "2022-05-27T12:41:01.591734Z",
     "iopub.status.busy": "2022-05-27T12:41:01.591095Z",
     "iopub.status.idle": "2022-05-27T12:41:01.601836Z",
     "shell.execute_reply": "2022-05-27T12:41:01.599092Z"
    },
    "papermill": {
     "duration": 0.100251,
     "end_time": "2022-05-27T12:41:01.605873",
     "exception": false,
     "start_time": "2022-05-27T12:41:01.505622",
     "status": "completed"
    },
    "tags": []
   },
   "outputs": [],
   "source": [
    "train[\"FamilySize\"] = train[\"SibSp\"] + train[\"Parch\"] + 1\n",
    "test[\"FamilySize\"] = test[\"SibSp\"] + test[\"Parch\"] + 1"
   ]
  },
  {
   "cell_type": "code",
   "execution_count": 37,
   "id": "2f1b73e8",
   "metadata": {
    "execution": {
     "iopub.execute_input": "2022-05-27T12:41:01.752184Z",
     "iopub.status.busy": "2022-05-27T12:41:01.751857Z",
     "iopub.status.idle": "2022-05-27T12:41:01.760099Z",
     "shell.execute_reply": "2022-05-27T12:41:01.758868Z"
    },
    "papermill": {
     "duration": 0.084148,
     "end_time": "2022-05-27T12:41:01.762556",
     "exception": false,
     "start_time": "2022-05-27T12:41:01.678408",
     "status": "completed"
    },
    "tags": []
   },
   "outputs": [],
   "source": [
    "family_mapping = {1: 0, 2: 0.4, 3: 0.8, 4: 1.2, 5: 1.6, 6: 2, 7: 2.4, 8: 2.8, 9: 3.2, 10: 3.6, 11: 4}\n",
    "for dataset in train_test_data:\n",
    "    dataset['FamilySize'] = dataset['FamilySize'].map(family_mapping)"
   ]
  },
  {
   "cell_type": "code",
   "execution_count": 38,
   "id": "d83d533d",
   "metadata": {
    "execution": {
     "iopub.execute_input": "2022-05-27T12:41:01.899511Z",
     "iopub.status.busy": "2022-05-27T12:41:01.898871Z",
     "iopub.status.idle": "2022-05-27T12:41:01.914742Z",
     "shell.execute_reply": "2022-05-27T12:41:01.914044Z"
    },
    "papermill": {
     "duration": 0.086187,
     "end_time": "2022-05-27T12:41:01.916802",
     "exception": false,
     "start_time": "2022-05-27T12:41:01.830615",
     "status": "completed"
    },
    "tags": []
   },
   "outputs": [
    {
     "data": {
      "text/html": [
       "<div>\n",
       "<style scoped>\n",
       "    .dataframe tbody tr th:only-of-type {\n",
       "        vertical-align: middle;\n",
       "    }\n",
       "\n",
       "    .dataframe tbody tr th {\n",
       "        vertical-align: top;\n",
       "    }\n",
       "\n",
       "    .dataframe thead th {\n",
       "        text-align: right;\n",
       "    }\n",
       "</style>\n",
       "<table border=\"1\" class=\"dataframe\">\n",
       "  <thead>\n",
       "    <tr style=\"text-align: right;\">\n",
       "      <th></th>\n",
       "      <th>PassengerId</th>\n",
       "      <th>Survived</th>\n",
       "      <th>Pclass</th>\n",
       "      <th>Sex</th>\n",
       "      <th>Age</th>\n",
       "      <th>SibSp</th>\n",
       "      <th>Parch</th>\n",
       "      <th>Ticket</th>\n",
       "      <th>Fare</th>\n",
       "      <th>Cabin</th>\n",
       "      <th>Embarked</th>\n",
       "      <th>Title</th>\n",
       "      <th>FamilySize</th>\n",
       "    </tr>\n",
       "  </thead>\n",
       "  <tbody>\n",
       "    <tr>\n",
       "      <th>0</th>\n",
       "      <td>1</td>\n",
       "      <td>0</td>\n",
       "      <td>3</td>\n",
       "      <td>0</td>\n",
       "      <td>22</td>\n",
       "      <td>1</td>\n",
       "      <td>0</td>\n",
       "      <td>A/5 21171</td>\n",
       "      <td>7</td>\n",
       "      <td>2.0</td>\n",
       "      <td>0</td>\n",
       "      <td>0</td>\n",
       "      <td>0.4</td>\n",
       "    </tr>\n",
       "    <tr>\n",
       "      <th>1</th>\n",
       "      <td>2</td>\n",
       "      <td>1</td>\n",
       "      <td>1</td>\n",
       "      <td>1</td>\n",
       "      <td>38</td>\n",
       "      <td>1</td>\n",
       "      <td>0</td>\n",
       "      <td>PC 17599</td>\n",
       "      <td>71</td>\n",
       "      <td>0.8</td>\n",
       "      <td>1</td>\n",
       "      <td>2</td>\n",
       "      <td>0.4</td>\n",
       "    </tr>\n",
       "    <tr>\n",
       "      <th>2</th>\n",
       "      <td>3</td>\n",
       "      <td>1</td>\n",
       "      <td>3</td>\n",
       "      <td>1</td>\n",
       "      <td>26</td>\n",
       "      <td>0</td>\n",
       "      <td>0</td>\n",
       "      <td>STON/O2. 3101282</td>\n",
       "      <td>8</td>\n",
       "      <td>2.0</td>\n",
       "      <td>0</td>\n",
       "      <td>1</td>\n",
       "      <td>0.0</td>\n",
       "    </tr>\n",
       "    <tr>\n",
       "      <th>3</th>\n",
       "      <td>4</td>\n",
       "      <td>1</td>\n",
       "      <td>1</td>\n",
       "      <td>1</td>\n",
       "      <td>35</td>\n",
       "      <td>1</td>\n",
       "      <td>0</td>\n",
       "      <td>113803</td>\n",
       "      <td>53</td>\n",
       "      <td>0.8</td>\n",
       "      <td>0</td>\n",
       "      <td>2</td>\n",
       "      <td>0.4</td>\n",
       "    </tr>\n",
       "    <tr>\n",
       "      <th>4</th>\n",
       "      <td>5</td>\n",
       "      <td>0</td>\n",
       "      <td>3</td>\n",
       "      <td>0</td>\n",
       "      <td>35</td>\n",
       "      <td>0</td>\n",
       "      <td>0</td>\n",
       "      <td>373450</td>\n",
       "      <td>8</td>\n",
       "      <td>2.0</td>\n",
       "      <td>0</td>\n",
       "      <td>0</td>\n",
       "      <td>0.0</td>\n",
       "    </tr>\n",
       "  </tbody>\n",
       "</table>\n",
       "</div>"
      ],
      "text/plain": [
       "   PassengerId  Survived  Pclass  Sex  Age  SibSp  Parch            Ticket  \\\n",
       "0            1         0       3    0   22      1      0         A/5 21171   \n",
       "1            2         1       1    1   38      1      0          PC 17599   \n",
       "2            3         1       3    1   26      0      0  STON/O2. 3101282   \n",
       "3            4         1       1    1   35      1      0            113803   \n",
       "4            5         0       3    0   35      0      0            373450   \n",
       "\n",
       "   Fare  Cabin  Embarked  Title  FamilySize  \n",
       "0     7    2.0         0      0         0.4  \n",
       "1    71    0.8         1      2         0.4  \n",
       "2     8    2.0         0      1         0.0  \n",
       "3    53    0.8         0      2         0.4  \n",
       "4     8    2.0         0      0         0.0  "
      ]
     },
     "execution_count": 38,
     "metadata": {},
     "output_type": "execute_result"
    }
   ],
   "source": [
    "train.head()"
   ]
  },
  {
   "cell_type": "code",
   "execution_count": 39,
   "id": "65b5246a",
   "metadata": {
    "execution": {
     "iopub.execute_input": "2022-05-27T12:41:02.061085Z",
     "iopub.status.busy": "2022-05-27T12:41:02.060300Z",
     "iopub.status.idle": "2022-05-27T12:41:02.068458Z",
     "shell.execute_reply": "2022-05-27T12:41:02.067569Z"
    },
    "papermill": {
     "duration": 0.083557,
     "end_time": "2022-05-27T12:41:02.070932",
     "exception": false,
     "start_time": "2022-05-27T12:41:01.987375",
     "status": "completed"
    },
    "tags": []
   },
   "outputs": [],
   "source": [
    "features_drop = ['Ticket', 'SibSp', 'Parch']\n",
    "train = train.drop(features_drop, axis=1)\n",
    "test = test.drop(features_drop, axis=1)\n",
    "train = train.drop(['PassengerId'], axis=1)"
   ]
  },
  {
   "cell_type": "code",
   "execution_count": 40,
   "id": "39a26fbe",
   "metadata": {
    "execution": {
     "iopub.execute_input": "2022-05-27T12:41:02.213950Z",
     "iopub.status.busy": "2022-05-27T12:41:02.213391Z",
     "iopub.status.idle": "2022-05-27T12:41:02.218344Z",
     "shell.execute_reply": "2022-05-27T12:41:02.217778Z"
    },
    "papermill": {
     "duration": 0.075278,
     "end_time": "2022-05-27T12:41:02.220733",
     "exception": false,
     "start_time": "2022-05-27T12:41:02.145455",
     "status": "completed"
    },
    "tags": []
   },
   "outputs": [],
   "source": [
    "train_data = train.drop('Survived', axis=1)\n",
    "target = train['Survived']"
   ]
  },
  {
   "cell_type": "markdown",
   "id": "833a08be",
   "metadata": {
    "papermill": {
     "duration": 0.065349,
     "end_time": "2022-05-27T12:41:02.352258",
     "exception": false,
     "start_time": "2022-05-27T12:41:02.286909",
     "status": "completed"
    },
    "tags": []
   },
   "source": [
    "# Modelling"
   ]
  },
  {
   "cell_type": "code",
   "execution_count": 41,
   "id": "ddb7c9fa",
   "metadata": {
    "execution": {
     "iopub.execute_input": "2022-05-27T12:41:02.488461Z",
     "iopub.status.busy": "2022-05-27T12:41:02.488193Z",
     "iopub.status.idle": "2022-05-27T12:41:03.084766Z",
     "shell.execute_reply": "2022-05-27T12:41:03.083727Z"
    },
    "papermill": {
     "duration": 0.670284,
     "end_time": "2022-05-27T12:41:03.087387",
     "exception": false,
     "start_time": "2022-05-27T12:41:02.417103",
     "status": "completed"
    },
    "tags": []
   },
   "outputs": [],
   "source": [
    "# knn classifier -> 0.66028\n",
    "from sklearn.neighbors import KNeighborsClassifier\n",
    "clf = KNeighborsClassifier(n_neighbors = 13)\n",
    "clf.fit(train_data, target)\n",
    "test_data = test.drop(\"PassengerId\", axis=1)\n",
    "predict = clf.predict(test_data)"
   ]
  },
  {
   "cell_type": "code",
   "execution_count": 42,
   "id": "564d64de",
   "metadata": {
    "execution": {
     "iopub.execute_input": "2022-05-27T12:41:03.222545Z",
     "iopub.status.busy": "2022-05-27T12:41:03.222239Z",
     "iopub.status.idle": "2022-05-27T12:41:03.608909Z",
     "shell.execute_reply": "2022-05-27T12:41:03.608304Z"
    },
    "papermill": {
     "duration": 0.455242,
     "end_time": "2022-05-27T12:41:03.611224",
     "exception": false,
     "start_time": "2022-05-27T12:41:03.155982",
     "status": "completed"
    },
    "tags": []
   },
   "outputs": [],
   "source": [
    "from sklearn.ensemble import RandomForestClassifier\n",
    "clf = RandomForestClassifier() # -> 0.73923\n",
    "clf = RandomForestClassifier(random_state = 0, criterion = 'entropy') # -> 0.75358\n",
    "clf = RandomForestClassifier(random_state = 0, criterion = 'entropy', max_features = 'log2') # -> 0.76555\n",
    "clf.fit(train_data, target)\n",
    "test_data = test.drop(\"PassengerId\", axis=1)\n",
    "predict = clf.predict(test_data)"
   ]
  },
  {
   "cell_type": "code",
   "execution_count": 43,
   "id": "af526417",
   "metadata": {
    "execution": {
     "iopub.execute_input": "2022-05-27T12:41:03.746164Z",
     "iopub.status.busy": "2022-05-27T12:41:03.745594Z",
     "iopub.status.idle": "2022-05-27T12:41:04.047024Z",
     "shell.execute_reply": "2022-05-27T12:41:04.046258Z"
    },
    "papermill": {
     "duration": 0.370591,
     "end_time": "2022-05-27T12:41:04.049414",
     "exception": false,
     "start_time": "2022-05-27T12:41:03.678823",
     "status": "completed"
    },
    "tags": []
   },
   "outputs": [],
   "source": [
    "from sklearn.ensemble import RandomForestClassifier\n",
    "clf = RandomForestClassifier() # -> 0.73923\n",
    "clf = RandomForestClassifier(random_state = 0, criterion = 'entropy') # -> 0.75358\n",
    "clf = RandomForestClassifier(random_state = 0, criterion = 'entropy', max_features = 'log2') # -> 0.76555\n",
    "clf = RandomForestClassifier(random_state=0,n_estimators=100,min_samples_split=20,oob_score=True,max_depth=15) # -> 0.76076\n",
    "clf = RandomForestClassifier(random_state=2,n_estimators=100,min_samples_split=20,oob_score=True,max_depth=15) # -> 0.77272\n",
    "clf = RandomForestClassifier(random_state=2,n_estimators=100,min_samples_split=20,oob_score=True,max_depth=15, max_features = 'log2') # -> \n",
    "\n",
    "\n",
    "clf.fit(train_data, target)\n",
    "test_data = test.drop(\"PassengerId\", axis=1)\n",
    "predict = clf.predict(test_data)"
   ]
  },
  {
   "cell_type": "code",
   "execution_count": 44,
   "id": "02bcfa0b",
   "metadata": {
    "execution": {
     "iopub.execute_input": "2022-05-27T12:41:04.190192Z",
     "iopub.status.busy": "2022-05-27T12:41:04.189715Z",
     "iopub.status.idle": "2022-05-27T12:41:04.198202Z",
     "shell.execute_reply": "2022-05-27T12:41:04.197347Z"
    },
    "papermill": {
     "duration": 0.080903,
     "end_time": "2022-05-27T12:41:04.200603",
     "exception": false,
     "start_time": "2022-05-27T12:41:04.119700",
     "status": "completed"
    },
    "tags": []
   },
   "outputs": [],
   "source": [
    "submission['Survived'] = predict\n",
    "submission.to_csv('submission.csv', index=False)"
   ]
  }
 ],
 "metadata": {
  "kernelspec": {
   "display_name": "Python 3",
   "language": "python",
   "name": "python3"
  },
  "language_info": {
   "codemirror_mode": {
    "name": "ipython",
    "version": 3
   },
   "file_extension": ".py",
   "mimetype": "text/x-python",
   "name": "python",
   "nbconvert_exporter": "python",
   "pygments_lexer": "ipython3",
   "version": "3.7.12"
  },
  "papermill": {
   "default_parameters": {},
   "duration": 26.294606,
   "end_time": "2022-05-27T12:41:05.089176",
   "environment_variables": {},
   "exception": null,
   "input_path": "__notebook__.ipynb",
   "output_path": "__notebook__.ipynb",
   "parameters": {},
   "start_time": "2022-05-27T12:40:38.794570",
   "version": "2.3.4"
  }
 },
 "nbformat": 4,
 "nbformat_minor": 5
}
